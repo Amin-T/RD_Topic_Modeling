{
 "cells": [
  {
   "cell_type": "code",
   "execution_count": 1,
   "metadata": {},
   "outputs": [],
   "source": [
    "# Import liberaries and functions\n",
    "import pandas as pd\n",
    "import numpy as np\n",
    "import re\n",
    "import pickle"
   ]
  },
  {
   "cell_type": "code",
   "execution_count": 2,
   "metadata": {},
   "outputs": [],
   "source": [
    "topics_df = pd.read_csv(\"Data/RF_text_attr.csv\", parse_dates=['report_dt', 'filing_dt'], index_col=0)\n",
    "\n",
    "companies = pd.read_csv('Data/all_companies.csv')\n",
    "topics_df = pd.merge(left=topics_df, right=companies[[\"SIC\", \"FF\"]].drop_duplicates(), on=\"SIC\", how='left')\n",
    "\n",
    "topics_df[\"FF\"] = topics_df[\"FF\"].fillna(48).astype(int)\n",
    "\n",
    "topics_df.fillna({'FOG':1}, inplace=True)"
   ]
  },
  {
   "cell_type": "code",
   "execution_count": 3,
   "metadata": {},
   "outputs": [],
   "source": [
    "# # Add the reduced topic clusters (topic cluster for every risk topic) \n",
    "# with open(\"Top2Vec\\\\topic_hierarchy.txt\", 'rb') as f:\n",
    "#     TH = pickle.load(f)\n",
    "\n",
    "# df = pd.DataFrame(TH).reset_index()\n",
    "\n",
    "# TH = (\n",
    "#     pd.melt(df, id_vars=['index'])\n",
    "#     .dropna()\n",
    "#     .astype(int)\n",
    "#     .sort_values(['index', 'value'])\n",
    "#     .drop(columns='variable')\n",
    "# )\n",
    "\n",
    "# topics_df['Topic_H'] = pd.merge(\n",
    "#     left=topics_df,\n",
    "#     right=TH[['index', 'value']],\n",
    "#     left_on=['Topic'],\n",
    "#     right_on=['value'],\n",
    "#     how='left'\n",
    "# )['index'].drop(columns=['index', 'value'])"
   ]
  },
  {
   "attachments": {},
   "cell_type": "markdown",
   "metadata": {},
   "source": [
    "# Stats"
   ]
  },
  {
   "cell_type": "code",
   "execution_count": 4,
   "metadata": {},
   "outputs": [],
   "source": [
    "# Use historical SIC data (from Cumpustat) for industry analysis\n",
    "sich = pd.read_csv(\n",
    "    filepath_or_buffer=\"Data\\Financials.csv\",\n",
    "    decimal=\".\", \n",
    "    thousands=',',\n",
    "    usecols=[\n",
    "        'cik', 'datadate', 'sich'\n",
    "    ]\n",
    ").drop_duplicates()\n",
    "\n",
    "sich.sort_values(['cik', 'datadate'], inplace=True)\n",
    "sich[\"datadate\"] = pd.to_datetime(sich[\"datadate\"], format=\"%d/%m/%Y\")\n",
    "\n",
    "topics_df = pd.merge(\n",
    "    left=topics_df,\n",
    "    right=sich[[\n",
    "        'cik', 'datadate', 'sich']],\n",
    "    left_on=[\"CIK\", \"report_dt\"],\n",
    "    right_on=[\"cik\", \"datadate\"],\n",
    "    how=\"left\"\n",
    ").drop(columns=['datadate', 'cik'])\n",
    "\n",
    "topics_df['sich'] = topics_df['sich'].fillna(topics_df['SIC']).astype(int)"
   ]
  },
  {
   "cell_type": "code",
   "execution_count": 5,
   "metadata": {},
   "outputs": [],
   "source": [
    "# First 2 digits of SIC -> Major sector group\n",
    "topics_df['SIC2'] = topics_df['sich'].map(lambda x: f\"{int(x):04d}\"[:2])\n",
    "\n",
    "topics_df['SIC3'] = topics_df['sich'].map(lambda x: f\"{int(x):04d}\"[:3])"
   ]
  },
  {
   "cell_type": "code",
   "execution_count": 6,
   "metadata": {},
   "outputs": [],
   "source": [
    "# Aggregate the records at the CIK-year level\n",
    "agg_tops = (\n",
    "    topics_df.groupby([\"CIK\", \"report_dt\", \"filing_dt\", \"FF\"])[\n",
    "        ['rprt_length', 'SIC3', 'Pa', 'Pr', 'Fu', 'Sentiment', 'FOG', 'sich']\n",
    "    ]\n",
    "    .agg({\n",
    "        'rprt_length': 'sum',\n",
    "        'Pa': 'sum',\n",
    "        'Pr': 'sum', \n",
    "        'Fu': 'sum',\n",
    "        'Sentiment': 'mean',\n",
    "        'FOG': 'mean',\n",
    "        'SIC3' : 'unique', \n",
    "        'sich' : 'unique'\n",
    "    }).reset_index()\n",
    ").drop_duplicates(subset=[\"CIK\", \"filing_dt\", \"report_dt\"]).sort_values([\"CIK\", \"report_dt\", \"filing_dt\"])"
   ]
  },
  {
   "cell_type": "code",
   "execution_count": 7,
   "metadata": {},
   "outputs": [],
   "source": [
    "agg_tops['Delta_length'] = agg_tops['rprt_length'] - agg_tops.groupby('CIK')['rprt_length'].shift(1)\n",
    "agg_tops[\"SIC3\"] = agg_tops[\"SIC3\"].map(lambda x: x[0])\n",
    "agg_tops[\"sich\"] = agg_tops[\"sich\"].map(lambda x: x[0])"
   ]
  },
  {
   "cell_type": "code",
   "execution_count": 8,
   "metadata": {},
   "outputs": [],
   "source": [
    "# Risk factor clusters disclosed and not disclosed per report \n",
    "disc_df = pd.pivot_table(\n",
    "    topics_df, index = [\"CIK\", \"filing_dt\", \"report_dt\", \"FF\"], \n",
    "    columns='Topic', values='Score'\n",
    ").notna().astype(int).reset_index().sort_values([\"CIK\", \"filing_dt\", \"report_dt\"])\n"
   ]
  },
  {
   "cell_type": "code",
   "execution_count": 9,
   "metadata": {},
   "outputs": [],
   "source": [
    "# Long format for disclosure dataframe\n",
    "disc_long = pd.melt(disc_df, id_vars=[\"CIK\", \"filing_dt\", \"report_dt\"], value_name='disclosed')\n",
    "\n",
    "# How many times the disclosed risk factor have appeared in the firm report over the years\n",
    "disc_long['DiscSum'] = disc_long.groupby([\"CIK\", 'Topic'])['disclosed'].cumsum()\n",
    "\n",
    "DiscSum = disc_long[disc_long['disclosed']>0].groupby(['CIK', 'filing_dt', 'report_dt'])['DiscSum'].mean()\n",
    "\n",
    "# Add cumulative disclosure variable to the main dataframe\n",
    "agg_tops = pd.merge(\n",
    "    left=agg_tops,\n",
    "    right=DiscSum.reset_index(),\n",
    "    on=['CIK', 'filing_dt', 'report_dt'],\n",
    "    how='left'\n",
    ")"
   ]
  },
  {
   "attachments": {},
   "cell_type": "markdown",
   "metadata": {},
   "source": [
    "## Variables for H1"
   ]
  },
  {
   "cell_type": "code",
   "execution_count": 10,
   "metadata": {},
   "outputs": [],
   "source": [
    "# Difference between disclosed risk topics in 2 consecutive years\n",
    "disc_diff = disc_df.filter(range(0,3770)) - disc_df.groupby(\"CIK\")[disc_df.filter(range(0,3770)).columns].shift(1)\n",
    "\n",
    "# Repeated risk factors\n",
    "disc_repeat = (\n",
    "    disc_df.filter(range(0,3770))\n",
    "    + disc_df.groupby(\"CIK\")[disc_df.filter(range(0,3770)).columns].shift(1) \n",
    "    == 2\n",
    ").astype(int)"
   ]
  },
  {
   "cell_type": "code",
   "execution_count": 11,
   "metadata": {},
   "outputs": [],
   "source": [
    "# Number of added, repeated and removed individual topics\n",
    "disc_df[\"reported_crnt\"] = disc_df.filter(range(0,3770)).sum(axis=1)\n",
    "disc_df[\"reported_last\"] = disc_df.groupby(\"CIK\")['reported_crnt'].shift(1)\n",
    "disc_df[\"repeated\"] = disc_repeat[disc_repeat>0].sum(axis=1)\n",
    "disc_df[\"added\"] = disc_diff[disc_diff>0].sum(axis=1)\n",
    "disc_df[\"removed\"] = disc_diff[disc_diff<0].sum(axis=1)"
   ]
  },
  {
   "cell_type": "code",
   "execution_count": 12,
   "metadata": {},
   "outputs": [],
   "source": [
    "stat_data = pd.merge(\n",
    "    left=agg_tops,\n",
    "    right=disc_df[['CIK', 'filing_dt', 'report_dt', 'FF', \n",
    "                   'reported_crnt', 'reported_last', 'repeated', 'added', 'removed']],\n",
    "    on=['CIK', 'filing_dt', 'report_dt', 'FF'],\n",
    "    how='left'\n",
    ")"
   ]
  },
  {
   "cell_type": "code",
   "execution_count": 13,
   "metadata": {},
   "outputs": [],
   "source": [
    "# Number of days from fiscal year end and actual filing date\n",
    "stat_data['rfGap'] = (stat_data['filing_dt'] - stat_data['report_dt']).dt.days\n",
    "\n",
    "stat_data['fyear'] = stat_data['filing_dt'].dt.year\n",
    "stat_data['ryear'] = stat_data['report_dt'].dt.year"
   ]
  },
  {
   "cell_type": "code",
   "execution_count": 14,
   "metadata": {},
   "outputs": [],
   "source": [
    "# Average change of the score for repeated RFs --> amount updated\n",
    "# Score of disclosed risk topics per report \n",
    "disc_score_df = pd.pivot_table(\n",
    "    topics_df, index = [\"CIK\", \"filing_dt\", \"report_dt\"], \n",
    "    columns='Topic', values='Score'\n",
    ").reset_index().sort_values([\"CIK\", \"filing_dt\", \"report_dt\"])\n",
    "\n",
    "disc_score_diff = (disc_score_df.filter(range(0,3770)) - disc_score_df.groupby(\"CIK\")[disc_score_df.filter(range(0,3770)).columns].shift(1)).abs()\n",
    "\n",
    "stat_data['ScoreChng'] = disc_score_diff.multiply(disc_repeat).mean(axis=1)"
   ]
  },
  {
   "cell_type": "code",
   "execution_count": 15,
   "metadata": {},
   "outputs": [],
   "source": [
    "# Drop first year of observations\n",
    "stat_data.dropna(subset=['Delta_length', 'reported_last'], inplace=True)"
   ]
  },
  {
   "cell_type": "code",
   "execution_count": 16,
   "metadata": {},
   "outputs": [],
   "source": [
    "# SIC code of high-tech and regulated industries (Kothari, 2009)\n",
    "high_tech = []\n",
    "high_tech.extend(range(2833, 2837))\n",
    "high_tech.extend(range(3570, 3578))\n",
    "high_tech.extend(range(3600, 3675))\n",
    "high_tech.extend(range(7371, 7380))\n",
    "high_tech.extend(range(8731, 8735))\n",
    "\n",
    "regulated = [4812, 4813, 4833, 4841, 4922, 4923, 4924, 4931, 4941]\n",
    "regulated.extend(range(4811, 4900))\n",
    "\n",
    "\n",
    "stat_data['high_tech'] = stat_data['sich'].isin(high_tech).astype(int)\n",
    "stat_data['regulated'] = stat_data['sich'].isin(regulated).astype(int)"
   ]
  },
  {
   "attachments": {},
   "cell_type": "markdown",
   "metadata": {},
   "source": [
    "## Variables for H2"
   ]
  },
  {
   "cell_type": "code",
   "execution_count": 17,
   "metadata": {},
   "outputs": [],
   "source": [
    "# Counting the actual number of firms per industry (using all-submissions from EDGAR)\n",
    "filings_df = pd.read_csv(\"Data\\\\filings_df.csv\", parse_dates=[\"filingDate\", \"reportDate\"])\n",
    "\n",
    "filings_df.dropna(subset=[\"filingDate\", \"reportDate\", \"sic\"], inplace=True)\n",
    "\n",
    "filings_df = filings_df.sort_values(['cik', 'reportDate', 'filingDate']).drop_duplicates(keep='last')\n",
    "\n",
    "# Use historical SIC data for industry analysis\n",
    "filings_df = pd.merge(\n",
    "    left=filings_df,\n",
    "    right=sich[[\n",
    "        'cik', 'datadate', 'sich']],\n",
    "    left_on=[\"cik\", \"reportDate\"],\n",
    "    right_on=[\"cik\", \"datadate\"],\n",
    "    how=\"left\"\n",
    ").drop(columns=['datadate'])\n",
    "\n",
    "filings_df['sich'] = filings_df['sich'].fillna(filings_df['sic']).astype(int)\n",
    "filings_df['SIC2'] = filings_df['sich'].map(lambda x: f\"{int(x):04d}\"[:2])\n",
    "filings_df['SIC3'] = filings_df['sich'].map(lambda x: f\"{int(x):04d}\"[:3])\n",
    "\n",
    "filings_df = pd.merge(\n",
    "    left=filings_df, right=companies[[\"SIC\", \"FF\"]].drop_duplicates(), \n",
    "    left_on=\"sich\", right_on=\"SIC\", how='left'\n",
    ").drop(columns=\"SIC\")\n",
    "\n",
    "filings_df[\"FF\"] = filings_df[\"FF\"].fillna(48).astype(int)"
   ]
  },
  {
   "cell_type": "code",
   "execution_count": 18,
   "metadata": {},
   "outputs": [],
   "source": [
    "# Risk topics disclosed and not disclosed per report \n",
    "disc_df = pd.pivot_table(\n",
    "    topics_df, index = [\"CIK\", \"filing_dt\", \"report_dt\", \"FF\"], \n",
    "    columns='Topic_H', values='Score'\n",
    ").notna().astype(int).reset_index()\n",
    "\n",
    "disc_df.sort_values(['CIK', 'report_dt', 'filing_dt'], inplace=True)\n",
    "\n",
    "disc_df[\"filing_dt-1\"] = disc_df[\"filing_dt\"] - pd.Timedelta(weeks=52)"
   ]
  },
  {
   "cell_type": "code",
   "execution_count": 19,
   "metadata": {},
   "outputs": [],
   "source": [
    "filings_df = filings_df[\n",
    "    (filings_df[\"filingDate\"] >= disc_df['filing_dt'].min())\n",
    "    &(filings_df[\"filingDate\"] <= disc_df['filing_dt'].max())\n",
    "]\n",
    "filings_df['fyear'] = filings_df[\"filingDate\"].dt.year\n",
    "\n",
    "# Number of reporting firms per year per industry\n",
    "cnt_firms = filings_df.groupby(['FF', 'fyear'])['filingDate'].nunique().reset_index()"
   ]
  },
  {
   "cell_type": "code",
   "execution_count": 20,
   "metadata": {},
   "outputs": [],
   "source": [
    "# Difference between disclosed risk topics in 2 consecutive years\n",
    "disc_diff = disc_df.filter(range(0,100)) - disc_df.groupby(\"CIK\")[disc_df.filter(range(0,100)).columns].shift(1)\n",
    "\n",
    "# Repeated risk factors\n",
    "disc_repeat = (\n",
    "    disc_df.filter(range(0,100))\n",
    "    + disc_df.groupby(\"CIK\")[disc_df.filter(range(0,100)).columns].shift(1) \n",
    "    == 2\n",
    ").astype(int)\n",
    "\n",
    "# Topics that are not disclosed by a firm\n",
    "no_disc = -(disc_df.filter(range(0,100))-1)"
   ]
  },
  {
   "cell_type": "code",
   "execution_count": 21,
   "metadata": {},
   "outputs": [],
   "source": [
    "# To what extent the risk factors disclosed by the firm \n",
    "# are already disclosed by other firms over the past 52 weeks\n",
    "# Number of disclosing firms before the focal firm during the 52 weeks before filing date\n",
    "# No. disclosing firms in the same industry devided by no. disclosing firms \n",
    "def count_func(x):\n",
    "    df_slice = disc_df[\n",
    "        (disc_df[\"filing_dt\"]>x[\"filing_dt-1\"])&\n",
    "        (disc_df[\"filing_dt\"]<=x[\"filing_dt\"])&\n",
    "        (disc_df['FF']==x['FF'])\n",
    "    ]\n",
    "\n",
    "    output = df_slice[df_slice['CIK']!=x['CIK']].filter(range(0,100)).sum() / df_slice[\"filing_dt\"].count()\n",
    "\n",
    "    return output\n",
    "\n",
    "count_disc = disc_df.apply(count_func, axis=1)"
   ]
  },
  {
   "cell_type": "code",
   "execution_count": 22,
   "metadata": {},
   "outputs": [],
   "source": [
    "disc_w = disc_df.filter(range(0,100))"
   ]
  },
  {
   "cell_type": "code",
   "execution_count": 23,
   "metadata": {},
   "outputs": [],
   "source": [
    "disc_df[\"IndDisc\"] = disc_w[disc_w>0].multiply(count_disc.values).mean(axis=1, skipna=True)\n",
    "\n",
    "disc_df[\"IndRepeated\"] = disc_repeat[disc_repeat>0].multiply(count_disc.values).mean(axis=1, skipna=True)\n",
    "\n",
    "disc_df[\"IndAdded\"] = disc_diff[disc_diff>0].multiply(count_disc.values).mean(axis=1, skipna=True)\n",
    "\n",
    "disc_df[\"IndRemoved\"] = disc_diff[disc_diff<0].multiply(count_disc.values).mean(axis=1, skipna=True)\n",
    "\n",
    "# Average firms in the industry disclosing risk factors not disclosed by the firm\n",
    "disc_df[\"IndNoDisc\"] = no_disc.multiply(count_disc.values).mean(axis=1, skipna=True)"
   ]
  },
  {
   "cell_type": "code",
   "execution_count": 24,
   "metadata": {},
   "outputs": [
    {
     "data": {
      "text/html": [
       "<div>\n",
       "<style scoped>\n",
       "    .dataframe tbody tr th:only-of-type {\n",
       "        vertical-align: middle;\n",
       "    }\n",
       "\n",
       "    .dataframe tbody tr th {\n",
       "        vertical-align: top;\n",
       "    }\n",
       "\n",
       "    .dataframe thead th {\n",
       "        text-align: right;\n",
       "    }\n",
       "</style>\n",
       "<table border=\"1\" class=\"dataframe\">\n",
       "  <thead>\n",
       "    <tr style=\"text-align: right;\">\n",
       "      <th>Topic_H</th>\n",
       "      <th>IndAdded</th>\n",
       "      <th>IndRepeated</th>\n",
       "      <th>IndRemoved</th>\n",
       "      <th>IndDisc</th>\n",
       "    </tr>\n",
       "  </thead>\n",
       "  <tbody>\n",
       "    <tr>\n",
       "      <th>count</th>\n",
       "      <td>24697.000000</td>\n",
       "      <td>28192.000000</td>\n",
       "      <td>23493.000000</td>\n",
       "      <td>35753.000000</td>\n",
       "    </tr>\n",
       "    <tr>\n",
       "      <th>mean</th>\n",
       "      <td>0.301932</td>\n",
       "      <td>0.417652</td>\n",
       "      <td>-0.290709</td>\n",
       "      <td>0.393833</td>\n",
       "    </tr>\n",
       "    <tr>\n",
       "      <th>std</th>\n",
       "      <td>0.148081</td>\n",
       "      <td>0.109362</td>\n",
       "      <td>0.148042</td>\n",
       "      <td>0.106642</td>\n",
       "    </tr>\n",
       "    <tr>\n",
       "      <th>min</th>\n",
       "      <td>0.000000</td>\n",
       "      <td>0.000000</td>\n",
       "      <td>-0.939828</td>\n",
       "      <td>0.000000</td>\n",
       "    </tr>\n",
       "    <tr>\n",
       "      <th>25%</th>\n",
       "      <td>0.200855</td>\n",
       "      <td>0.343745</td>\n",
       "      <td>-0.375000</td>\n",
       "      <td>0.322823</td>\n",
       "    </tr>\n",
       "    <tr>\n",
       "      <th>50%</th>\n",
       "      <td>0.288066</td>\n",
       "      <td>0.411473</td>\n",
       "      <td>-0.278125</td>\n",
       "      <td>0.387137</td>\n",
       "    </tr>\n",
       "    <tr>\n",
       "      <th>75%</th>\n",
       "      <td>0.386598</td>\n",
       "      <td>0.482519</td>\n",
       "      <td>-0.188889</td>\n",
       "      <td>0.456981</td>\n",
       "    </tr>\n",
       "    <tr>\n",
       "      <th>max</th>\n",
       "      <td>0.967742</td>\n",
       "      <td>0.851440</td>\n",
       "      <td>0.000000</td>\n",
       "      <td>0.838010</td>\n",
       "    </tr>\n",
       "  </tbody>\n",
       "</table>\n",
       "</div>"
      ],
      "text/plain": [
       "Topic_H      IndAdded   IndRepeated    IndRemoved       IndDisc\n",
       "count    24697.000000  28192.000000  23493.000000  35753.000000\n",
       "mean         0.301932      0.417652     -0.290709      0.393833\n",
       "std          0.148081      0.109362      0.148042      0.106642\n",
       "min          0.000000      0.000000     -0.939828      0.000000\n",
       "25%          0.200855      0.343745     -0.375000      0.322823\n",
       "50%          0.288066      0.411473     -0.278125      0.387137\n",
       "75%          0.386598      0.482519     -0.188889      0.456981\n",
       "max          0.967742      0.851440      0.000000      0.838010"
      ]
     },
     "execution_count": 24,
     "metadata": {},
     "output_type": "execute_result"
    }
   ],
   "source": [
    "disc_df[['IndAdded', 'IndRepeated', 'IndRemoved', 'IndDisc']].describe()"
   ]
  },
  {
   "cell_type": "code",
   "execution_count": 25,
   "metadata": {},
   "outputs": [],
   "source": [
    "disc_df[\"fyear\"] = disc_df[\"filing_dt\"].dt.year\n",
    "\n",
    "disc_df['#firms'] = pd.merge(\n",
    "    left=disc_df,\n",
    "    right=cnt_firms,\n",
    "    on=['FF', 'fyear'],\n",
    "    how='left'\n",
    ")['filingDate']"
   ]
  },
  {
   "cell_type": "code",
   "execution_count": 26,
   "metadata": {},
   "outputs": [],
   "source": [
    "def count_func2(x):\n",
    "    \"\"\"\n",
    "    Disclosing firms not in the firm's industry\n",
    "    \"\"\"\n",
    "    df_slice = disc_df[\n",
    "        (disc_df[\"filing_dt\"]>x[\"filing_dt-1\"])&\n",
    "        (disc_df[\"filing_dt\"]<=x[\"filing_dt\"])&\n",
    "        (disc_df['FF']!=x['FF'])\n",
    "    ]\n",
    "\n",
    "    output = df_slice.filter(range(0,100)).sum() / (df_slice[\"filing_dt\"].count())\n",
    "\n",
    "    return output\n",
    "\n",
    "count_disc2 = disc_df.apply(count_func2, axis=1)"
   ]
  },
  {
   "cell_type": "code",
   "execution_count": 27,
   "metadata": {},
   "outputs": [],
   "source": [
    "disc_df[\"OtherIndDisc\"] = disc_w[disc_w>0].multiply(count_disc2.values).mean(axis=1, skipna=True)\n",
    "\n",
    "disc_df[\"OtherIndAdded\"] = disc_diff[disc_diff>0].multiply(count_disc2.values).mean(axis=1, skipna=True)"
   ]
  },
  {
   "attachments": {},
   "cell_type": "markdown",
   "metadata": {},
   "source": [
    "## DVs"
   ]
  },
  {
   "cell_type": "markdown",
   "metadata": {},
   "source": [
    "### Volatility and BA Spread"
   ]
  },
  {
   "cell_type": "code",
   "execution_count": 29,
   "metadata": {},
   "outputs": [
    {
     "data": {
      "text/plain": [
       "Index(['CIK', 'CLOSEPRICE', 'VOLUME', 'COMPANYMARKETCAP', 'TTLCMNSHARESOUT'], dtype='object')"
      ]
     },
     "execution_count": 29,
     "metadata": {},
     "output_type": "execute_result"
    }
   ],
   "source": [
    "prices_df = pd.read_csv(\"Data\\Prices.csv\", parse_dates=['Date'])\n",
    "prices_df.sort_values([\"Instrument\", \"Date\"], inplace=True)\n",
    "prices_df.rename(columns={\"Instrument\": \"CIK\", \"Date\": \"filing_dt\"}, inplace=True)\n",
    "prices_df = prices_df[prices_df[\"filing_dt\"]>'2005-01-01'].set_index('filing_dt')\n",
    "prices_df.columns"
   ]
  },
  {
   "cell_type": "code",
   "execution_count": 30,
   "metadata": {},
   "outputs": [],
   "source": [
    "# Daily shares turnover\n",
    "prices_df[\"SHRTURN\"] = prices_df[\"VOLUME\"] / prices_df[\"TTLCMNSHARESOUT\"]\n",
    "\n",
    "# Returns\n",
    "# prices_df[\"Return\"] = prices_df.groupby(\"CIK\")[\"CLOSEPRICE\"].pct_change(1)\n",
    "\n",
    "prices_df.loc[:, \"CLOSEPRICE\"] = prices_df.groupby(\"CIK\")[\"CLOSEPRICE\"].ffill(limit=1)\n",
    "prices_df[\"Return\"] = prices_df.groupby(\"CIK\")[\"CLOSEPRICE\"].pct_change(1, fill_method=None)"
   ]
  },
  {
   "cell_type": "code",
   "execution_count": 31,
   "metadata": {},
   "outputs": [],
   "source": [
    "# Combine the list of CIKs and filing date in main dataframe and prices df\n",
    "CIKdates = pd.concat(\n",
    "    [prices_df.reset_index()[[\"CIK\", \"filing_dt\"]], disc_df[[\"CIK\", \"filing_dt\"]]], \n",
    "    axis=0\n",
    ").drop_duplicates().sort_values([\"CIK\", \"filing_dt\"])\n",
    "\n",
    "prices_df.reset_index(inplace=True)\n",
    "prices_df = pd.merge(left=CIKdates, right=prices_df, on=[\"CIK\", \"filing_dt\"], how='left')\n",
    "prices_df.set_index('filing_dt', inplace=True)"
   ]
  },
  {
   "cell_type": "code",
   "execution_count": 32,
   "metadata": {},
   "outputs": [],
   "source": [
    "# Time window\n",
    "N = 30\n",
    "\n",
    "# Average of N-day std of daily returns\n",
    "std_returns = (\n",
    "    prices_df.groupby(\"CIK\")[\"Return\"]\n",
    "    .rolling(N, min_periods=N//2).std().to_frame()\n",
    ")\n",
    "# Window [2, 32]\n",
    "std_returns[f\"Volatility+{N}\"] = std_returns.groupby(\"CIK\")[\"Return\"].shift(-N-2)\n",
    "# Window [-32, -2]\n",
    "std_returns[f\"Volatility_{N}\"] = std_returns.groupby(\"CIK\")[\"Return\"].shift(2)\n",
    "\n",
    "# Window [-5, 60]\n",
    "std_returns[f\"Volatility+60\"] = prices_df.groupby(\"CIK\")[\"Return\"].rolling(65, min_periods=30).std().groupby(\"CIK\").shift(-60)\n",
    "\n",
    "# Average of 120-day std of daily returns\n",
    "std_returns[f\"Volatility_120\"] = prices_df.groupby(\"CIK\")[\"Return\"].rolling(120, min_periods=60).std()\n",
    "\n",
    "std_returns.drop(columns=\"Return\", inplace=True)"
   ]
  },
  {
   "cell_type": "code",
   "execution_count": 33,
   "metadata": {},
   "outputs": [],
   "source": [
    "# Average of N-day trade volumes during event\n",
    "N=10\n",
    "MA_vol = prices_df.groupby(\"CIK\")[\"SHRTURN\"].rolling(N, min_periods=6).mean().to_frame()\n",
    "MA_vol[f\"SHRTURN\"] = MA_vol.groupby(\"CIK\")[\"SHRTURN\"].shift(N//2)\n",
    "\n",
    "# Window [2, 7]\n",
    "MA_vol[\"SHRTURN+5\"] = prices_df.groupby(\"CIK\")[\"SHRTURN\"].rolling(5, min_periods=3).mean().shift(-7)\n",
    "# Window [-7, -2]\n",
    "MA_vol[\"SHRTURN_5\"] = prices_df.groupby(\"CIK\")[\"SHRTURN\"].rolling(5, min_periods=3).mean().shift(2)"
   ]
  },
  {
   "cell_type": "code",
   "execution_count": 34,
   "metadata": {},
   "outputs": [
    {
     "data": {
      "text/plain": [
       "Index(['CIK', 'HIGHPRICE', 'LOWPRICE', 'BIDPRICE', 'ASKPRICE', 'filing_dt'], dtype='object')"
      ]
     },
     "execution_count": 34,
     "metadata": {},
     "output_type": "execute_result"
    }
   ],
   "source": [
    "BidAsk_df = pd.read_csv(\"Data\\BidAsk.csv\",  parse_dates=['Date']).drop_duplicates()\n",
    "BidAsk_df.sort_values([\"Instrument\", \"Date\"], inplace=True)\n",
    "BidAsk_df.rename(columns={\"Instrument\": \"CIK\", \"Date\": \"filing_dt\"}, inplace=True)\n",
    "BidAsk_df = BidAsk_df[BidAsk_df[\"filing_dt\"]>'2005-01-01']\n",
    "BidAsk_df.columns"
   ]
  },
  {
   "cell_type": "code",
   "execution_count": 35,
   "metadata": {},
   "outputs": [],
   "source": [
    "BidAsk_df = pd.merge(\n",
    "    left=BidAsk_df, \n",
    "    right=prices_df.reset_index()[['CIK', 'filing_dt', 'CLOSEPRICE']], \n",
    "    on=['CIK', 'filing_dt'],\n",
    "    how='left'\n",
    ")"
   ]
  },
  {
   "cell_type": "code",
   "execution_count": 36,
   "metadata": {},
   "outputs": [],
   "source": [
    "BidAsk_df[\"BAspread\"] = (BidAsk_df[\"ASKPRICE\"] - BidAsk_df['BIDPRICE'])/BidAsk_df[\"CLOSEPRICE\"]\n",
    "\n",
    "BidAsk_df = pd.merge(left=CIKdates, right=BidAsk_df, on=[\"CIK\", \"filing_dt\"], how='left')\n",
    "BidAsk_df.set_index('filing_dt', inplace=True)"
   ]
  },
  {
   "cell_type": "code",
   "execution_count": 37,
   "metadata": {},
   "outputs": [],
   "source": [
    "N = 30\n",
    "\n",
    "# N-day moving average (trading days only)\n",
    "MA_BA = BidAsk_df.groupby('CIK')['BAspread'].rolling(N, min_periods=N//2).mean().to_frame()\n",
    "# Window [2, 32]\n",
    "MA_BA[f\"Spread+{N}\"] = MA_BA.groupby(\"CIK\")[\"BAspread\"].shift(-N-2)\n",
    "# Window [-32, -2]\n",
    "MA_BA[f\"Spread_{N}\"] = MA_BA.groupby(\"CIK\")[\"BAspread\"].shift(2)\n",
    "\n",
    "# Window [-5, 60]\n",
    "MA_BA[\"Spread+60\"] = BidAsk_df.groupby('CIK')['BAspread'].rolling(65, min_periods=30).mean().groupby(\"CIK\").shift(-60)\n",
    "\n",
    "# Average of 120-day bid-ask spread\n",
    "MA_BA[f\"Spread_120\"] = BidAsk_df.groupby('CIK')['BAspread'].rolling(120, min_periods=60).mean()\n",
    "\n",
    "MA_BA.drop(columns='BAspread', inplace=True)"
   ]
  },
  {
   "cell_type": "code",
   "execution_count": 28,
   "metadata": {},
   "outputs": [],
   "source": [
    "IVol = pd.read_csv(\"Data\\WRDS_Beta.csv\", \n",
    "                   usecols=['PERMNO', 'DATE', 'n', 'b_mkt', 'ivol', 'TICKER'], \n",
    "                   parse_dates=['DATE'])\n",
    "CIK_PERMNO_TIC = pd.read_csv(\"Data\\CIK_PERMNO_TIC.csv\")\n",
    "\n",
    "IVol = pd.merge(\n",
    "    left=IVol,\n",
    "    right=CIK_PERMNO_TIC[['PERMNO', 'cik']],\n",
    "    on='PERMNO',\n",
    "    how='left'\n",
    ")\n",
    "\n",
    "IVol['cik2'] = pd.merge(\n",
    "    left=IVol,\n",
    "    right=CIK_PERMNO_TIC[['tic', 'cik']],\n",
    "    left_on='TICKER',\n",
    "    right_on='tic',\n",
    "    how='left'\n",
    ")['cik_y']\n",
    "\n",
    "IVol.fillna({'cik': IVol['cik2']}, inplace=True)\n",
    "IVol = IVol.drop(columns=['cik2']).dropna(subset=['cik', 'DATE'])\n",
    "\n",
    "IVol[['cik']] = IVol[['cik']].astype(int)\n",
    "IVol.rename(columns={\"cik\": \"CIK\", \"DATE\": \"filing_dt\"}, inplace=True)\n",
    "IVol = IVol.sort_values(by=[\"CIK\", \"filing_dt\"]).reset_index(drop=True)\n",
    "\n",
    "IVol['ivol'] = IVol['ivol'].str.replace('%', '').astype(float)\n",
    "IVol[\"Fwrd_ivol\"] = IVol.groupby(\"CIK\")[\"ivol\"].shift(-60)\n",
    "\n",
    "# Combine the list of CIKs and filing date in main dataframe and prices df\n",
    "CIKdates = pd.concat(\n",
    "    [IVol[[\"CIK\", \"filing_dt\"]], disc_df[[\"CIK\", \"filing_dt\"]]], \n",
    "    axis=0\n",
    ").drop_duplicates().sort_values([\"CIK\", \"filing_dt\"])\n",
    "\n",
    "IVol = pd.merge(left=CIKdates, right=IVol, on=[\"CIK\", \"filing_dt\"], how='left')\n",
    "\n",
    "IVol[['b_mkt', 'ivol', 'Fwrd_ivol']] = IVol.groupby('CIK')[['b_mkt', 'ivol', 'Fwrd_ivol']].ffill(limit=3)\n",
    "\n",
    "IVol.drop(columns=['PERMNO', 'n', 'TICKER'], inplace=True)"
   ]
  },
  {
   "cell_type": "markdown",
   "metadata": {},
   "source": [
    "### Earnings Estimates"
   ]
  },
  {
   "cell_type": "code",
   "execution_count": 38,
   "metadata": {},
   "outputs": [],
   "source": [
    "EPSEst = pd.read_csv(\"Data\\EIKON_EPSforecast.csv\", parse_dates=['Date', 'Period End Date'])\n",
    "EPSAct = pd.read_csv(\"Data\\EIKON_EPSActual.csv\", parse_dates=['Date', 'Report Date', 'Period End Date'])\n",
    "\n",
    "EPSEst = pd.merge(\n",
    "    left=EPSEst,\n",
    "    right=EPSAct.drop(columns=['Date']),\n",
    "    on=['Instrument', 'Period End Date'],\n",
    "    how='left'\n",
    ")\n",
    "\n",
    "# Absolute diff actual and estimated earings\n",
    "EPSEst[\"Act-Est\"] = (EPSEst['Earnings Per Share - Actual'] - EPSEst['Earnings Per Share - Broker Estimate'])\n",
    "\n",
    "EPSEst = EPSEst.sort_values(['Instrument', 'Period End Date', 'Date']).reset_index(drop=True)"
   ]
  },
  {
   "cell_type": "code",
   "execution_count": 39,
   "metadata": {},
   "outputs": [],
   "source": [
    "# Last fiscal year end\n",
    "FYEnd = EPSEst[['Instrument', 'Period End Date']].drop_duplicates().reset_index(drop=True)\n",
    "FYEnd['FYEnd-1'] = (\n",
    "    FYEnd.groupby(['Instrument'])['Period End Date'].shift(1)\n",
    ")\n",
    "\n",
    "EPSEst = pd.merge(\n",
    "    left=EPSEst,\n",
    "    right=FYEnd,\n",
    "    on=['Instrument', 'Period End Date'],\n",
    "    how='left'\n",
    ").dropna(subset=['FYEnd-1'])\n",
    "\n",
    "EPSEst[\"FY-1\"] = EPSEst['FYEnd-1'].dt.year"
   ]
  },
  {
   "cell_type": "code",
   "execution_count": 40,
   "metadata": {},
   "outputs": [],
   "source": [
    "# Risk disclosure dates\n",
    "disc_dts = disc_df[[\"CIK\", \"filing_dt\", \"report_dt\"]].copy()\n",
    "disc_dts['FY-1'] = disc_dts['report_dt'].dt.year\n",
    "disc_dts.drop_duplicates(subset=['CIK', 'FY-1'], inplace=True)\n",
    "\n",
    "# Match estimation errors with filing date\n",
    "EPSEst = pd.merge(\n",
    "    left=EPSEst,\n",
    "    right=disc_dts,\n",
    "    left_on=['Instrument', 'FY-1'],\n",
    "    right_on=[\"CIK\", 'FY-1'],\n",
    "    how='left'\n",
    ").dropna(subset=['CIK'])\n",
    "\n",
    "EPSEst['CIK'] = EPSEst['CIK'].astype(int)"
   ]
  },
  {
   "cell_type": "code",
   "execution_count": 41,
   "metadata": {},
   "outputs": [],
   "source": [
    "# Estimates after filing date of last annual report\n",
    "EPSEst['After'] = (\n",
    "    (EPSEst['Date'] >= EPSEst['filing_dt']-pd.Timedelta(weeks=1))\n",
    "    & (EPSEst['Date'] < EPSEst['filing_dt']+pd.Timedelta(days=180))\n",
    ").astype(int)\n",
    "\n",
    "# Standasrd deviation fo analyst forecasts and Analyst forecast errors after filing date\n",
    "EPSEst_After = (\n",
    "    EPSEst[EPSEst['After']==1]\n",
    "    .groupby(['CIK', 'FY-1'])[['Earnings Per Share - Broker Estimate', 'Act-Est']]\n",
    "    .agg({'Earnings Per Share - Broker Estimate': 'std', 'Act-Est': 'mean'})\n",
    ")\n",
    "EPSEst_After['nEsts'] = EPSEst[EPSEst['After']==1].groupby(['CIK', 'FY-1'])['Analyst Code'].nunique()\n",
    "EPSEst_After.rename(columns={'Earnings Per Share - Broker Estimate': 'EPSEst'}, inplace=True)\n",
    "\n",
    "EPSEst_After.reset_index(inplace=True)\n",
    "\n",
    "EPSEst['Before'] = (\n",
    "    (EPSEst['Date'] < EPSEst['filing_dt']-pd.Timedelta(weeks=1))\n",
    "    & (EPSEst['Date'] >= EPSEst['filing_dt']-pd.Timedelta(days=180))\n",
    ").astype(int)\n",
    "\n",
    "\n",
    "# Standasrd deviation fo analyst forecasts and Analyst forecast errors Before filing date\n",
    "EPSEst_Before = (\n",
    "    EPSEst[EPSEst['Before']==1]\n",
    "    .groupby(['CIK', 'FY-1'])[['Earnings Per Share - Broker Estimate', 'Act-Est']]\n",
    "    .agg({'Earnings Per Share - Broker Estimate': 'std', 'Act-Est': 'mean'})\n",
    ")\n",
    "\n",
    "EPSEst_Before.rename(columns={'Earnings Per Share - Broker Estimate': 'EPSEst'}, inplace=True)\n",
    "\n",
    "EPSEst_Before.reset_index(inplace=True)"
   ]
  },
  {
   "cell_type": "code",
   "execution_count": 42,
   "metadata": {},
   "outputs": [],
   "source": [
    "EPSEst_After = pd.merge(\n",
    "    left=EPSEst_After,\n",
    "    right=EPSEst_Before,\n",
    "    on=['CIK', 'FY-1'],\n",
    "    how='outer',\n",
    "    suffixes=['', '_before']\n",
    ")"
   ]
  },
  {
   "cell_type": "markdown",
   "metadata": {},
   "source": [
    "## Control variables"
   ]
  },
  {
   "cell_type": "code",
   "execution_count": 43,
   "metadata": {},
   "outputs": [
    {
     "data": {
      "text/plain": [
       "Index(['Date', 'Instrument', 'Beta_90', 'Beta_120', 'Beta_250', 'AR', 'CAR_5',\n",
       "       'CAR_10', 'CAR_2'],\n",
       "      dtype='object')"
      ]
     },
     "execution_count": 43,
     "metadata": {},
     "output_type": "execute_result"
    }
   ],
   "source": [
    "Beta = pd.read_csv(\"Data\\Beta_AR.csv\", parse_dates=['Date'])\n",
    "Beta.drop_duplicates(inplace=True)\n",
    "Beta.columns"
   ]
  },
  {
   "cell_type": "code",
   "execution_count": 44,
   "metadata": {},
   "outputs": [],
   "source": [
    "Beta.rename(columns={\"Instrument\": \"CIK\", \"Date\": \"filing_dt\"}, inplace=True)\n",
    "Beta = pd.merge(left=CIKdates, right=Beta, on=[\"CIK\", \"filing_dt\"], how='left')\n",
    "Beta.set_index('filing_dt', inplace=True)"
   ]
  },
  {
   "cell_type": "code",
   "execution_count": 45,
   "metadata": {},
   "outputs": [],
   "source": [
    "# Daily Beta\n",
    "Beta[\"BETA+120\"] = Beta.groupby('CIK')[\"Beta_120\"].shift(-120)\n",
    "Beta[\"BETA+90\"] = Beta.groupby('CIK')[\"Beta_90\"].shift(-90)"
   ]
  },
  {
   "attachments": {},
   "cell_type": "markdown",
   "metadata": {},
   "source": [
    "Analysts"
   ]
  },
  {
   "cell_type": "code",
   "execution_count": 46,
   "metadata": {},
   "outputs": [],
   "source": [
    "Analysts = pd.read_csv(\"Data\\Analysts.csv\")\n",
    "Analysts.dropna(inplace=True)\n",
    "\n",
    "Analysts.columns = ['Instrument', 'NUMBEROFANALYSTS', 'Date']\n",
    "Analysts['Date'] = pd.to_datetime(Analysts['Date'], errors='coerce').dt.tz_localize(None)"
   ]
  },
  {
   "cell_type": "code",
   "execution_count": 47,
   "metadata": {},
   "outputs": [],
   "source": [
    "Analyst_df = pd.merge(\n",
    "    left=prices_df.reset_index()[[\"filing_dt\", \"CIK\"]], \n",
    "    right=Analysts, \n",
    "    left_on=[\"filing_dt\", \"CIK\"],\n",
    "    right_on=[\"Date\", \"Instrument\"],\n",
    "    how=\"outer\"\n",
    ").drop(columns=[\"Date\", \"Instrument\"])\n",
    "\n",
    "Analyst_df = Analyst_df[(Analyst_df[\"filing_dt\"]>'2005-01-01')&(Analyst_df[\"filing_dt\"]<'2023-01-01')]\n",
    "\n",
    "Analyst_df.sort_values(['CIK', 'filing_dt', 'NUMBEROFANALYSTS'], inplace=True)"
   ]
  },
  {
   "cell_type": "code",
   "execution_count": 48,
   "metadata": {},
   "outputs": [],
   "source": [
    "Analyst_df[\"NUMBEROFANALYSTS\"] = Analyst_df.groupby(\"CIK\")[\"NUMBEROFANALYSTS\"].ffill()\n",
    "Analyst_df.drop_duplicates(subset=[\"filing_dt\", \"CIK\"], keep='last', inplace=True)\n",
    "Analyst_df.fillna(0, inplace=True)"
   ]
  },
  {
   "cell_type": "markdown",
   "metadata": {},
   "source": [
    "Fama-French industry portfolio volatility"
   ]
  },
  {
   "cell_type": "code",
   "execution_count": 49,
   "metadata": {},
   "outputs": [],
   "source": [
    "FF_rtrn = pd.read_csv(\"48_Industry_Portfolios_daily_CSV/IndustryDaily.csv\")\n",
    "FF_rtrn[\"Date\"] = pd.to_datetime(FF_rtrn[\"Date\"], format=\"%Y%m%d\")\n",
    "FF_rtrn = FF_rtrn[FF_rtrn[\"Date\"]>=\"2004-01-01\"].set_index(\"Date\")"
   ]
  },
  {
   "cell_type": "code",
   "execution_count": 50,
   "metadata": {},
   "outputs": [],
   "source": [
    "FF_vol = FF_rtrn.rolling(120).std().dropna().unstack().reset_index()\n",
    "FF_vol.rename(columns={\"level_0\": \"FF\", \"level_1\": \"Date\", 0: \"IndVol_\"}, inplace=True)\n",
    "FF_vol[\"FF\"] = FF_vol[\"FF\"].astype(int)"
   ]
  },
  {
   "cell_type": "code",
   "execution_count": 51,
   "metadata": {},
   "outputs": [],
   "source": [
    "FF_vol[\"IndVol+\"] = FF_vol.groupby(\"FF\")['IndVol_'].shift(-120)"
   ]
  },
  {
   "cell_type": "markdown",
   "metadata": {},
   "source": [
    "Free Float"
   ]
  },
  {
   "cell_type": "code",
   "execution_count": 52,
   "metadata": {},
   "outputs": [],
   "source": [
    "FreeFloat = pd.read_csv(\"Data/FreeFloat.csv\")\n",
    "\n",
    "FreeFloat.dropna(inplace=True)\n",
    "\n",
    "FreeFloat.columns = ['CIK', 'filing_dt', 'FREEFLOAT']\n",
    "FreeFloat['filing_dt'] = pd.to_datetime(FreeFloat['filing_dt'], errors='coerce').dt.tz_localize(None)\n",
    "\n",
    "FreeFloat['CIK'] = FreeFloat['CIK'].astype(int)\n",
    "\n",
    "FreeFloat.sort_values(by=['CIK', 'filing_dt'], inplace=True)"
   ]
  },
  {
   "cell_type": "code",
   "execution_count": 53,
   "metadata": {},
   "outputs": [],
   "source": [
    "# Combine the list of CIKs and filing date in main dataframe and prices df\n",
    "CIKdates = pd.concat(\n",
    "    [FreeFloat[[\"CIK\", \"filing_dt\"]], stat_data[[\"CIK\", \"filing_dt\"]]], \n",
    "    axis=0\n",
    ").drop_duplicates().sort_values([\"CIK\", \"filing_dt\"])\n",
    "\n",
    "FreeFloat = pd.merge(left=CIKdates, right=FreeFloat, on=[\"CIK\", \"filing_dt\"], how='left')\n",
    "\n",
    "FreeFloat['FREEFLOAT'] = FreeFloat.groupby('CIK')['FREEFLOAT'].ffill(limit=3)"
   ]
  },
  {
   "cell_type": "markdown",
   "metadata": {},
   "source": [
    "Internal control"
   ]
  },
  {
   "cell_type": "code",
   "execution_count": 54,
   "metadata": {},
   "outputs": [],
   "source": [
    "ICW = pd.read_csv(\"Data/ICW.csv\", parse_dates=['FYE_IC_OP', 'FILE_DATE'])\n",
    "\n",
    "ICW.sort_values(['COMPANY_FKEY', 'FILE_DATE'], inplace=True)\n",
    "\n",
    "ICW[\"OPyr\"] = ICW['FYE_IC_OP'].dt.year\n",
    "ICW[\"fyear\"] = ICW['FILE_DATE'].dt.year"
   ]
  },
  {
   "cell_type": "code",
   "execution_count": 55,
   "metadata": {},
   "outputs": [],
   "source": [
    "ICW['Big4'] = ICW['OP_AUD_NAME'].str.contains(r'Deloitte|KPMG|Ernst|Pricewaterhouse').astype(int)\n",
    "\n",
    "ICW_gr = ICW.groupby(['COMPANY_FKEY', 'FILE_DATE'])[['COUNT_WEAK', 'Big4']].max().reset_index()\n",
    "ICW_gr2 = ICW.groupby(['COMPANY_FKEY', 'fyear'])[['COUNT_WEAK', 'Big4']].max().reset_index()"
   ]
  },
  {
   "cell_type": "code",
   "execution_count": 56,
   "metadata": {},
   "outputs": [],
   "source": [
    "stat_data = pd.merge(\n",
    "    left=stat_data,\n",
    "    right=ICW_gr,\n",
    "    left_on=['CIK', 'filing_dt'],\n",
    "    right_on=['COMPANY_FKEY', 'FILE_DATE'],\n",
    "    how=\"left\"\n",
    ").drop(columns=['COMPANY_FKEY', 'FILE_DATE'])"
   ]
  },
  {
   "cell_type": "code",
   "execution_count": 57,
   "metadata": {},
   "outputs": [],
   "source": [
    "stat_data[['COUNT_WEAK_2', 'Big4_2']] = pd.merge(\n",
    "    left=stat_data,\n",
    "    right=ICW_gr2,\n",
    "    left_on=['CIK', 'fyear'],\n",
    "    right_on=['COMPANY_FKEY', 'fyear'],\n",
    "    how=\"left\"\n",
    ")[['COUNT_WEAK_y', 'Big4_y']]"
   ]
  },
  {
   "cell_type": "code",
   "execution_count": 58,
   "metadata": {},
   "outputs": [],
   "source": [
    "stat_data.fillna({'COUNT_WEAK': stat_data['COUNT_WEAK_2']}, inplace=True)\n",
    "stat_data.fillna({'Big4': stat_data['Big4_2']}, inplace=True)\n",
    "\n",
    "stat_data.drop(columns=['COUNT_WEAK_2', 'Big4_2'], inplace=True)"
   ]
  },
  {
   "cell_type": "markdown",
   "metadata": {},
   "source": [
    "Shares held"
   ]
  },
  {
   "cell_type": "code",
   "execution_count": 59,
   "metadata": {},
   "outputs": [],
   "source": [
    "Owner = pd.read_csv(\"Data\\EIKON_Ownership.csv\", parse_dates=['Date'])\n",
    "\n",
    "Invetors = [\n",
    "    'Bank and Trust', 'Corporation', 'Hedge Fund', 'Insurance Company',\n",
    "    'Investment Advisor/Hedge Fund', 'Pension Fund', 'Research Firm',\n",
    "    'Sovereign Wealth Fund', 'Venture Capital', 'Foundation',\n",
    "    'Endowment Fund', 'Holding Company', 'Independent Research Firm',\n",
    "    'Private Equity', 'Mutual Fund', 'Institution', 'Hedge Fund Portfolio',\n",
    "    'Government Agency', 'Exchange-Traded Fund', 'Brokerage Firms']\n",
    "\n",
    "Owner = Owner[Owner['Category Value'].isin(Invetors)].groupby(['Instrument', 'Date'])['Category Percent Of Traded Shares'].sum().reset_index()"
   ]
  },
  {
   "cell_type": "markdown",
   "metadata": {},
   "source": [
    "## Financial data"
   ]
  },
  {
   "cell_type": "code",
   "execution_count": 60,
   "metadata": {},
   "outputs": [],
   "source": [
    "financials = pd.read_csv(\"Data\\Financials3.csv\", parse_dates=['datadate']).drop_duplicates()"
   ]
  },
  {
   "cell_type": "code",
   "execution_count": 61,
   "metadata": {},
   "outputs": [],
   "source": [
    "# Leverage\n",
    "financials[\"DtA\"] = financials[\"dt\"] / financials[\"at\"].replace(0, np.nan)\n",
    "financials[\"DtEBITDA\"] = financials[\"dt\"] / financials[\"ebitda\"].replace(0, np.nan)\n",
    "\n",
    "# Profitability\n",
    "financials[\"ROE\"] = financials[\"ni\"] / financials[\"seq\"].replace(0, np.nan)\n",
    "financials[\"NPM\"] = financials[\"ni\"] / financials[\"revt\"].replace(0, np.nan) # net profit margin\n",
    "\n",
    "# Firm size\n",
    "financials[\"logMC\"] = np.log(financials[\"mkvalt\"].replace(0, np.nan))\n",
    "financials[\"logTA\"] = np.log(financials[\"at\"].replace(0, np.nan))\n",
    "\n",
    "# Intangible assets\n",
    "financials[\"RtINT\"] = financials[\"revt\"] / financials[\"intan\"].replace(0, np.nan)\n",
    "financials[\"INTtA\"] = financials[\"intan\"] / financials[\"at\"].replace(0, np.nan) \n",
    "\n",
    "# Liquidity\n",
    "financials[\"current\"] = financials[\"act\"] / financials[\"lct\"].replace(0, np.nan)\n",
    "\n",
    "# Other\n",
    "financials[\"TobinQ\"] = financials[\"mkvalt\"] / financials[\"at\"].replace(0, np.nan)\n",
    "financials[\"BtM\"] = financials[\"seq\"] / financials[\"mkvalt\"].replace(0, np.nan)\n",
    "\n",
    "# R&D intensity\n",
    "financials[\"RDxopr\"] = financials[\"xrd\"].fillna(0) / financials[\"xopr\"].replace(0, np.nan)\n",
    "financials[\"ProprietaryCost\"] = financials[\"xrd\"].fillna(0) / financials.groupby('cik')[\"at\"].shift(1).replace(0, np.nan)\n",
    "\n",
    "# %change in earnings\n",
    "financials[\"ni\"] = financials.groupby(\"cik\")[\"ni\"].ffill(limit=1)\n",
    "financials[\"DEarnings\"] = financials.groupby(\"cik\")[\"ni\"].pct_change(1, fill_method=None)\n",
    "financials.replace({\"DEarnings\": [-np.Inf, np.Inf]}, np.nan, inplace=True)"
   ]
  },
  {
   "cell_type": "code",
   "execution_count": 62,
   "metadata": {},
   "outputs": [],
   "source": [
    "financials['ryear'] = financials['datadate'].dt.year\n",
    "financials['rmonth'] = financials['datadate'].dt.month"
   ]
  },
  {
   "cell_type": "code",
   "execution_count": 63,
   "metadata": {},
   "outputs": [
    {
     "data": {
      "text/plain": [
       "Index(['cik', 'datadate', 'act', 'at', 'dt', 'ebit', 'ebitda', 'intan', 'lct',\n",
       "       'lt', 'ni', 'revt', 'seq', 'teq', 'xopr', 'xrd', 'xt', 'naicsh', 'sich',\n",
       "       'mkvalt', 'naics', 'sic', 'DtA', 'DtEBITDA', 'ROE', 'NPM', 'logMC',\n",
       "       'logTA', 'RtINT', 'INTtA', 'current', 'TobinQ', 'BtM', 'RDxopr',\n",
       "       'ProprietaryCost', 'DEarnings', 'ryear', 'rmonth'],\n",
       "      dtype='object')"
      ]
     },
     "execution_count": 63,
     "metadata": {},
     "output_type": "execute_result"
    }
   ],
   "source": [
    "financials.columns"
   ]
  },
  {
   "attachments": {},
   "cell_type": "markdown",
   "metadata": {},
   "source": [
    "## Merge data"
   ]
  },
  {
   "cell_type": "code",
   "execution_count": 64,
   "metadata": {},
   "outputs": [],
   "source": [
    "stat_data = pd.merge(\n",
    "    left=stat_data,\n",
    "    right=IVol,\n",
    "    on=[\"CIK\", \"filing_dt\"],\n",
    "    how=\"left\"\n",
    ")"
   ]
  },
  {
   "cell_type": "code",
   "execution_count": 65,
   "metadata": {},
   "outputs": [],
   "source": [
    "stat_data = pd.merge(\n",
    "    left=stat_data,\n",
    "    right=EPSEst_After,\n",
    "    left_on=[\"CIK\", \"ryear\"],\n",
    "    right_on=[\"CIK\", 'FY-1'],\n",
    "    how=\"left\"\n",
    ").drop(columns=['FY-1'])"
   ]
  },
  {
   "cell_type": "code",
   "execution_count": 66,
   "metadata": {},
   "outputs": [],
   "source": [
    "stat_data = pd.merge(\n",
    "    left=stat_data,\n",
    "    right=std_returns,\n",
    "    left_on=[\"CIK\", \"filing_dt\"],\n",
    "    right_index=True,\n",
    "    how=\"left\"\n",
    ")\n",
    "\n",
    "stat_data = pd.merge(\n",
    "    left=stat_data,\n",
    "    right=MA_vol,\n",
    "    left_on=[\"CIK\", \"filing_dt\"],\n",
    "    right_index=True,\n",
    "    how=\"left\"\n",
    ")\n",
    "\n",
    "stat_data = pd.merge(\n",
    "    left=stat_data,\n",
    "    right=MA_BA,\n",
    "    left_on=[\"CIK\", \"filing_dt\"],\n",
    "    right_index=True,\n",
    "    how=\"left\"\n",
    ")"
   ]
  },
  {
   "cell_type": "code",
   "execution_count": 68,
   "metadata": {},
   "outputs": [],
   "source": [
    "stat_data = pd.merge(\n",
    "    left=stat_data,\n",
    "    right=Beta.reset_index()[[\n",
    "        'CIK', 'filing_dt', \n",
    "        'BETA+120', 'Beta_120', 'BETA+90', 'Beta_120',\n",
    "        'CAR_5', 'CAR_2'\n",
    "    ]],\n",
    "    on=[\"CIK\", \"filing_dt\"],\n",
    "    how=\"left\"\n",
    ")\n",
    "\n",
    "stat_data = pd.merge(\n",
    "    left=stat_data,\n",
    "    right=Analyst_df[[\"CIK\", \"filing_dt\", 'NUMBEROFANALYSTS']],\n",
    "    on=[\"CIK\", \"filing_dt\"],\n",
    "    how=\"left\"\n",
    ")\n"
   ]
  },
  {
   "cell_type": "code",
   "execution_count": 69,
   "metadata": {},
   "outputs": [],
   "source": [
    "stat_data[\"rmonth\"] = stat_data['report_dt'].dt.month\n",
    "\n",
    "stat_data = pd.merge(\n",
    "    left=stat_data,\n",
    "    right=financials[[\n",
    "        'cik', 'datadate', 'ryear', 'rmonth', 'DEarnings', 'DtA', 'DtEBITDA', 'ROE', 'NPM', 'mkvalt', 'logMC',\n",
    "        'at', 'logTA', 'RtINT', 'INTtA', 'current', 'TobinQ', 'BtM', 'RDxopr', 'ProprietaryCost'\n",
    "    ]],\n",
    "    left_on=[\"CIK\", \"ryear\", \"rmonth\"],\n",
    "    right_on=[\"cik\", \"ryear\", \"rmonth\"],\n",
    "    how=\"left\"\n",
    ").drop(columns=['datadate', 'cik', 'rmonth'])"
   ]
  },
  {
   "cell_type": "code",
   "execution_count": 70,
   "metadata": {},
   "outputs": [],
   "source": [
    "stat_data = pd.merge(\n",
    "    left=stat_data,\n",
    "    right=disc_df[[\n",
    "        'CIK', 'filing_dt', 'report_dt', '#firms',\n",
    "        'IndAdded', 'IndRepeated', 'IndRemoved', 'IndDisc', 'OtherIndDisc', 'OtherIndAdded'\n",
    "    ]],\n",
    "    on=[\"CIK\", \"filing_dt\", \"report_dt\"],\n",
    "    how=\"left\"\n",
    ")"
   ]
  },
  {
   "cell_type": "code",
   "execution_count": 71,
   "metadata": {},
   "outputs": [],
   "source": [
    "stat_data = pd.merge(\n",
    "    left=stat_data,\n",
    "    right=FF_vol,\n",
    "    left_on=[\"FF\", \"filing_dt\"],\n",
    "    right_on=[\"FF\", \"Date\"],\n",
    "    how=\"left\"\n",
    ").drop(columns=\"Date\")\n",
    "\n",
    "stat_data = pd.merge(\n",
    "    left=stat_data,\n",
    "    right=FreeFloat,\n",
    "    on=[\"CIK\", \"filing_dt\"],\n",
    "    how=\"left\"\n",
    ")"
   ]
  },
  {
   "cell_type": "code",
   "execution_count": 72,
   "metadata": {},
   "outputs": [],
   "source": [
    "stat_data[\"fmonth\"] = stat_data['filing_dt'].dt.month\n",
    "\n",
    "Owner['fyear'] = Owner['Date'].dt.year\n",
    "Owner['fmonth'] = Owner['Date'].dt.month\n",
    "\n",
    "stat_data = pd.merge(\n",
    "    left=stat_data,\n",
    "    right=Owner,\n",
    "    left_on=[\"CIK\", \"fyear\", \"fmonth\"],\n",
    "    right_on=[\"Instrument\", \"fyear\", \"fmonth\"],\n",
    "    how=\"left\"\n",
    ").drop(columns=['Instrument', 'Date', 'fmonth'])"
   ]
  },
  {
   "cell_type": "code",
   "execution_count": 73,
   "metadata": {},
   "outputs": [
    {
     "data": {
      "text/plain": [
       "Index(['CIK', 'FF', 'rprt_length', 'Pa', 'Pr', 'Fu', 'Sentiment', 'FOG',\n",
       "       'SIC3', 'sich', 'Delta_length', 'DiscSum', 'reported_crnt',\n",
       "       'reported_last', 'repeated', 'added', 'removed', 'rfGap', 'fyear',\n",
       "       'ryear', 'ScoreChng', 'high_tech', 'regulated', 'COUNT_WEAK', 'Big4',\n",
       "       'b_mkt', 'ivol', 'Fwrd_ivol', 'EPSEst', 'Act-Est', 'nEsts',\n",
       "       'EPSEst_before', 'Act-Est_before', 'Volatility+30', 'Volatility_30',\n",
       "       'Volatility+60', 'Volatility_120', 'SHRTURN', 'SHRTURN+5', 'SHRTURN_5',\n",
       "       'Spread+30', 'Spread_30', 'Spread+60', 'Spread_120', 'BETA+120',\n",
       "       'Beta_120', 'BETA+90', 'CAR_5', 'CAR_2', 'NUMBEROFANALYSTS',\n",
       "       'DEarnings', 'DtA', 'DtEBITDA', 'ROE', 'NPM', 'mkvalt', 'logMC', 'at',\n",
       "       'logTA', 'RtINT', 'INTtA', 'current', 'TobinQ', 'BtM', 'RDxopr',\n",
       "       'ProprietaryCost', '#firms', 'IndAdded', 'IndRepeated', 'IndRemoved',\n",
       "       'IndDisc', 'OtherIndDisc', 'OtherIndAdded', 'IndVol_', 'IndVol+',\n",
       "       'FREEFLOAT', 'Category Percent Of Traded Shares'],\n",
       "      dtype='object')"
      ]
     },
     "execution_count": 73,
     "metadata": {},
     "output_type": "execute_result"
    }
   ],
   "source": [
    "stat_data.drop(columns=['filing_dt', 'report_dt'], inplace=True)\n",
    "stat_data.columns"
   ]
  },
  {
   "cell_type": "code",
   "execution_count": 74,
   "metadata": {},
   "outputs": [
    {
     "data": {
      "text/plain": [
       "(28391, 77)"
      ]
     },
     "execution_count": 74,
     "metadata": {},
     "output_type": "execute_result"
    }
   ],
   "source": [
    "stat_data.shape"
   ]
  },
  {
   "cell_type": "code",
   "execution_count": 75,
   "metadata": {},
   "outputs": [],
   "source": [
    "stat_data.to_csv(f'Data\\Study1_data1_V3.csv', index=False)"
   ]
  },
  {
   "attachments": {},
   "cell_type": "markdown",
   "metadata": {},
   "source": [
    "stats_data_T2V_V6 --> industry as 3-digit SIC and volatility and spread from 2 days before filing date\\\n",
    "Study1_data1_V1 (stats_data_T2V_V3) --> Ind variables with number of reports in period (not firm counts) - delta_length - discsum\\\n",
    "Study1_data1_V2 --> variable names changed - topic scores added\n",
    "Study1_data_robust --> Same data with 50 reduced risk topics for robustness check"
   ]
  },
  {
   "cell_type": "code",
   "execution_count": 101,
   "metadata": {},
   "outputs": [],
   "source": [
    "topics_df['fyear'] = topics_df['filing_dt'].dt.year"
   ]
  },
  {
   "cell_type": "code",
   "execution_count": 77,
   "metadata": {},
   "outputs": [],
   "source": [
    "R2 = 0.1283689823165229\n",
    "n = 12921\n",
    "m = 31"
   ]
  },
  {
   "cell_type": "code",
   "execution_count": 78,
   "metadata": {},
   "outputs": [
    {
     "data": {
      "text/plain": [
       "0.12627257751023935"
      ]
     },
     "execution_count": 78,
     "metadata": {},
     "output_type": "execute_result"
    }
   ],
   "source": [
    "(1-(1-R2)*((n-1)/(n-m-1)))"
   ]
  },
  {
   "cell_type": "code",
   "execution_count": 6,
   "metadata": {},
   "outputs": [],
   "source": [
    "import matplotlib.pyplot as plt\n",
    "%matplotlib inline\n",
    "plt.style.use('seaborn')\n",
    "plt.rc('figure', autolayout=True)\n",
    "\n",
    "df = t2v_df.groupby('Topic')['CIK'].count().sort_values(ascending=False)*100/t2v_df.shape[0]\n"
   ]
  },
  {
   "cell_type": "code",
   "execution_count": 8,
   "metadata": {},
   "outputs": [
    {
     "data": {
      "text/plain": [
       "Topic\n",
       "0      1.474217\n",
       "1      2.920332\n",
       "2      4.110319\n",
       "3      5.237359\n",
       "4      6.049901\n",
       "        ...    \n",
       "95    27.704771\n",
       "96    27.837893\n",
       "97    27.970453\n",
       "98    28.102692\n",
       "99    28.232682\n",
       "Name: CIK, Length: 100, dtype: float64"
      ]
     },
     "execution_count": 8,
     "metadata": {},
     "output_type": "execute_result"
    }
   ],
   "source": [
    "df[:100].cumsum()"
   ]
  },
  {
   "cell_type": "code",
   "execution_count": 10,
   "metadata": {},
   "outputs": [
    {
     "data": {
      "image/png": "[encoded data removed]",
      "text/plain": [
       "<Figure size 576x396 with 1 Axes>"
      ]
     },
     "metadata": {},
     "output_type": "display_data"
    }
   ],
   "source": [
    "df[:100].plot.bar(fontsize = 14)\n",
    "plt.ylabel('Frequency (%)', fontsize = 16)\n",
    "plt.xlabel('Risk factor cluster', fontsize = 16)\n",
    "\n",
    "a = [1]\n",
    "a.extend(range(10, 100, 10))\n",
    "plt.xticks(a, rotation = 0);"
   ]
  },
  {
   "cell_type": "code",
   "execution_count": null,
   "metadata": {},
   "outputs": [],
   "source": []
  }
 ],
 "metadata": {
  "kernelspec": {
   "display_name": "Python 3.7.13 ('ETM_env')",
   "language": "python",
   "name": "python3"
  },
  "language_info": {
   "codemirror_mode": {
    "name": "ipython",
    "version": 3
   },
   "file_extension": ".py",
   "mimetype": "text/x-python",
   "name": "python",
   "nbconvert_exporter": "python",
   "pygments_lexer": "ipython3",
   "version": "3.10.14"
  },
  "orig_nbformat": 4,
  "vscode": {
   "interpreter": {
    "hash": "2e814d5f901f2e2f1812217256e7a2386c6b3dac449e52472436b21a420d1617"
   }
  }
 },
 "nbformat": 4,
 "nbformat_minor": 2
}
