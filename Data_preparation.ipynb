{
 "cells": [
  {
   "cell_type": "code",
   "execution_count": 1,
   "id": "9fe89e34",
   "metadata": {},
   "outputs": [],
   "source": [
    "# Import liberaries and functions\n",
    "import pandas as pd\n",
    "import glob\n",
    "import time\n",
    "\n",
    "from file_preprocess import file_preprocess"
   ]
  },
  {
   "cell_type": "code",
   "execution_count": 5,
   "id": "65ec8229",
   "metadata": {},
   "outputs": [],
   "source": [
    "# Get all raw html/text file paths\n",
    "all_files = glob.glob('Data/Risk Factors 10k/*')"
   ]
  },
  {
   "cell_type": "code",
   "execution_count": null,
   "id": "6b1c2d8e",
   "metadata": {},
   "outputs": [],
   "source": [
    "# Create an empty pandas DataFrame\n",
    "RF_df = pd.DataFrame()\n",
    "i = 1\n",
    "start = time.time()\n",
    "\n",
    "for file in all_files:\n",
    "    # Read file\n",
    "    with open(file, 'rb') as f:\n",
    "        f_name = f.name.split('\\\\')[-1]\n",
    "        cik = f_name.split('-')[0]\n",
    "        r_year = f_name.split('-')[2][1:5]\n",
    "        f_date = f_name.split('-')[1][1:]\n",
    "        f_ext = f.name.split('.')[-1]\n",
    "        \n",
    "        # Convert the textual data into the required format\n",
    "        item_1a = file_preprocess(f.read(), format=f_ext)\n",
    "        \n",
    "    if item_1a is not None:\n",
    "        # Add the file and correspomding data to the list in DataFrame\n",
    "        RF_df = RF_df.append(\n",
    "            pd.DataFrame(data={'cik': cik, 'reporting year': r_year, 'filing date': f_date, 'Item 1A': item_1a})\n",
    "        )\n",
    "    else:\n",
    "        pass\n",
    "    \n",
    "    # Save the DataFrame for every 1000 files\n",
    "    if (i%500 == 0) or (i == len(all_files)):\n",
    "        RF_df.to_csv('RF_df.csv')\n",
    "        print(f'{i} files processed | {time.time()-start}')\n",
    "            \n",
    "    i+=1 # Update the counter"
   ]
  },
  {
   "cell_type": "code",
   "execution_count": 29,
   "id": "794f6ca4",
   "metadata": {},
   "outputs": [],
   "source": [
    "# Remove empty reports\n",
    "RF_df.dropna(inplace=True)\n",
    "\n",
    "# Remove duplicates\n",
    "RF_df = (\n",
    "    RF_df[RF_df['Item 1A'].apply(lambda x: len(x.split()))>=5]\n",
    "    .sort_values(by=['cik', 'reporting year', 'filing date']).drop_duplicates()\n",
    ")\n",
    "\n",
    "# Save the clean DataFrame\n",
    "RF_df.to_csv('RF_df.csv')"
   ]
  },
  {
   "cell_type": "code",
   "execution_count": null,
   "id": "71d6a66a",
   "metadata": {},
   "outputs": [],
   "source": []
  }
 ],
 "metadata": {
  "kernelspec": {
   "display_name": "Python 3 (ipykernel)",
   "language": "python",
   "name": "python3"
  },
  "language_info": {
   "codemirror_mode": {
    "name": "ipython",
    "version": 3
   },
   "file_extension": ".py",
   "mimetype": "text/x-python",
   "name": "python",
   "nbconvert_exporter": "python",
   "pygments_lexer": "ipython3",
   "version": "3.9.7"
  }
 },
 "nbformat": 4,
 "nbformat_minor": 5
}
