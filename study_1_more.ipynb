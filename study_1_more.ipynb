{
 "cells": [
  {
   "cell_type": "code",
   "execution_count": 1,
   "metadata": {},
   "outputs": [],
   "source": [
    "# Import liberaries and functions\n",
    "import pandas as pd\n",
    "import numpy as np\n",
    "import pickle\n",
    "\n",
    "import matplotlib.pyplot as plt\n",
    "%matplotlib inline\n",
    "plt.rc('figure', autolayout=True)\n",
    "\n",
    "import seaborn as sns\n",
    "sns.set_style('white')\n",
    "sns.set_context(\"paper\", font_scale = 1.5)"
   ]
  },
  {
   "cell_type": "code",
   "execution_count": 2,
   "metadata": {},
   "outputs": [],
   "source": [
    "# Load data sample \n",
    "RF_df = pd.read_csv(\"Data\\clean_docs_3.csv\")"
   ]
  },
  {
   "cell_type": "code",
   "execution_count": 3,
   "metadata": {},
   "outputs": [],
   "source": [
    "# Load Top2Vec topics df\n",
    "t2v_df = (\n",
    "    pd.read_csv(\"Top2Vec\\T2V_df_H95.csv\")\n",
    "    .set_index(\"index\").drop(columns=['Docs'])\n",
    ")"
   ]
  },
  {
   "cell_type": "code",
   "execution_count": 4,
   "metadata": {},
   "outputs": [],
   "source": [
    "topics_df = pd.concat([RF_df, t2v_df[['Topic', 'Score', 'Topic_H', 'Score_H']]], axis=1)\n",
    "\n",
    "topics_df[\"filing_dt\"] = pd.to_datetime(topics_df[\"filing_dt\"])\n",
    "topics_df[\"report_dt\"] = pd.to_datetime(topics_df[\"report_dt\"])\n",
    "\n",
    "topics_df['rprt_length'] = topics_df['cleaned_txt'].map(lambda x: len(x.split()))"
   ]
  },
  {
   "cell_type": "code",
   "execution_count": 5,
   "metadata": {},
   "outputs": [],
   "source": [
    "# Use historical SIC data for industry analysis\n",
    "sich = pd.read_csv(\n",
    "    filepath_or_buffer=\"Data\\Financials.csv\",\n",
    "    decimal=\".\", \n",
    "    thousands=',',\n",
    "    usecols=[\n",
    "        'cik', 'datadate', 'sich'\n",
    "    ]\n",
    ").drop_duplicates()\n",
    "\n",
    "sich.sort_values(['cik', 'datadate'], inplace=True)\n",
    "sich[\"datadate\"] = pd.to_datetime(sich[\"datadate\"], format=\"%d/%m/%Y\")\n",
    "\n",
    "topics_df = pd.merge(\n",
    "    left=topics_df,\n",
    "    right=sich[[\n",
    "        'cik', 'datadate', 'sich']],\n",
    "    left_on=[\"CIK\", \"report_dt\"],\n",
    "    right_on=[\"cik\", \"datadate\"],\n",
    "    how=\"left\"\n",
    ").drop(columns=['datadate', 'cik'])\n",
    "\n",
    "topics_df['sich'] = topics_df['sich'].fillna(topics_df['SIC']).astype(int)"
   ]
  },
  {
   "cell_type": "code",
   "execution_count": 6,
   "metadata": {},
   "outputs": [],
   "source": [
    "with open(\"Top2Vec\\\\topic_hierarchy.txt\", 'rb') as f:\n",
    "    TH = pickle.load(f)\n",
    "\n",
    "df = pd.DataFrame(TH).reset_index()\n",
    "\n",
    "TH = (\n",
    "    pd.melt(df, id_vars=['index'])\n",
    "    .dropna()\n",
    "    .astype(int)\n",
    "    .sort_values(['index', 'value'])\n",
    "    .drop(columns='variable')\n",
    ")"
   ]
  },
  {
   "cell_type": "code",
   "execution_count": 7,
   "metadata": {},
   "outputs": [],
   "source": [
    "topics_df['Topic_H'] = pd.merge(\n",
    "    left=topics_df,\n",
    "    right=TH[['index', 'value']],\n",
    "    left_on=['Topic'],\n",
    "    right_on=['value'],\n",
    "    how='left'\n",
    ")['index']"
   ]
  },
  {
   "attachments": {},
   "cell_type": "markdown",
   "metadata": {},
   "source": [
    "### Firm level"
   ]
  },
  {
   "cell_type": "code",
   "execution_count": 8,
   "metadata": {},
   "outputs": [],
   "source": [
    "group = 'CIK'"
   ]
  },
  {
   "cell_type": "code",
   "execution_count": 9,
   "metadata": {},
   "outputs": [],
   "source": [
    "# Risk topics disclosed and not disclosed per report \n",
    "disc_df = pd.pivot_table(\n",
    "    topics_df, index = [\"CIK\", \"filing_dt\", \"report_dt\", \"sich\"], \n",
    "    columns='Topic', values='Score'\n",
    ").notna().astype(int).reset_index()"
   ]
  },
  {
   "cell_type": "code",
   "execution_count": 10,
   "metadata": {},
   "outputs": [],
   "source": [
    "disc_long = pd.melt(disc_df, id_vars=[\"CIK\", \"filing_dt\", \"report_dt\", \"sich\"])\n",
    "disc_long.sort_values([group, 'Topic', 'filing_dt'], inplace=True)\n",
    "\n",
    "disc_long['Occurence'] = disc_long.groupby([group, 'Topic'])['value'].cumsum()"
   ]
  },
  {
   "cell_type": "code",
   "execution_count": 11,
   "metadata": {},
   "outputs": [],
   "source": [
    "disc_long['min_occ'] = disc_long.groupby([group, 'Topic'])['Occurence'].transform('min')\n",
    "disc_long['max_occ'] = disc_long.groupby([group, 'Topic'])['Occurence'].transform('max')\n",
    "\n",
    "# Keep risk topics that are not always present in a firm and are disclosed at list once\n",
    "# Keep observations that the RF is disclosed\n",
    "disc_long = disc_long[\n",
    "    (disc_long['min_occ']==0)&\n",
    "    (disc_long['max_occ']>0)&\n",
    "    (disc_long['value']>0)\n",
    "]"
   ]
  },
  {
   "cell_type": "code",
   "execution_count": 12,
   "metadata": {},
   "outputs": [],
   "source": [
    "count_rpt = disc_long.groupby(group)['filing_dt'].transform('nunique')\n",
    "disc_long = disc_long[count_rpt>1]"
   ]
  },
  {
   "attachments": {},
   "cell_type": "markdown",
   "metadata": {},
   "source": [
    "### Industry level"
   ]
  },
  {
   "cell_type": "code",
   "execution_count": 39,
   "metadata": {},
   "outputs": [],
   "source": [
    "group = 'sich'"
   ]
  },
  {
   "cell_type": "code",
   "execution_count": 40,
   "metadata": {},
   "outputs": [],
   "source": [
    "# Counting the actual number of firms per industry\n",
    "filings_df = pd.read_csv(\"Data\\\\filings_df.csv\")\n",
    "\n",
    "filings_df.dropna(subset=[\"filingDate\", \"reportDate\", \"sic\"], inplace=True)\n",
    "\n",
    "filings_df[\"filingDate\"] = pd.to_datetime(filings_df[\"filingDate\"])\n",
    "filings_df[\"reportDate\"] = pd.to_datetime(filings_df[\"reportDate\"])\n",
    "\n",
    "filings_df = filings_df.sort_values(['cik', 'reportDate', 'filingDate']).drop_duplicates(keep='last')"
   ]
  },
  {
   "cell_type": "code",
   "execution_count": 41,
   "metadata": {},
   "outputs": [],
   "source": [
    "# Historical SIC\n",
    "filings_df = pd.merge(\n",
    "    left=filings_df,\n",
    "    right=sich[[\n",
    "        'cik', 'datadate', 'sich']],\n",
    "    left_on=[\"cik\", \"reportDate\"],\n",
    "    right_on=[\"cik\", \"datadate\"],\n",
    "    how=\"left\"\n",
    ").drop(columns=['datadate'])\n",
    "\n",
    "filings_df['sich'] = topics_df['sich'].fillna(filings_df['sic']).astype(int)"
   ]
  },
  {
   "cell_type": "code",
   "execution_count": 42,
   "metadata": {},
   "outputs": [],
   "source": [
    "# Risk topics disclosed and not disclosed per report \n",
    "disc_df = pd.pivot_table(\n",
    "    topics_df, index = [\"CIK\", \"filing_dt\", \"report_dt\", group], \n",
    "    columns='Topic_H', values='Score_H'\n",
    ").notna().astype(int).reset_index()"
   ]
  },
  {
   "cell_type": "code",
   "execution_count": 43,
   "metadata": {},
   "outputs": [],
   "source": [
    "filings_df = filings_df[\n",
    "    (filings_df[\"filingDate\"] >= disc_df['filing_dt'].min())\n",
    "    &(filings_df[\"filingDate\"] <= disc_df['filing_dt'].max())\n",
    "]\n",
    "filings_df['fyear'] = filings_df[\"filingDate\"].dt.year\n",
    "filings_df['sic3'] = filings_df[\"sich\"].map(lambda x: f\"{int(x):04d}\"[:3])\n",
    "\n",
    "# Number of reporting firms per filing year\n",
    "filings_df['#firms'] = filings_df.groupby('sic3')['filingDate'].transform('nunique')"
   ]
  },
  {
   "cell_type": "code",
   "execution_count": 44,
   "metadata": {},
   "outputs": [],
   "source": [
    "disc_long = pd.melt(disc_df, id_vars=[\"CIK\", \"filing_dt\", \"report_dt\", group])\n",
    "\n",
    "disc_long[f\"{group}3\"] = disc_long[group].map(lambda x: f\"{int(x):04d}\"[:3])\n",
    "\n",
    "disc_long.sort_values([f\"{group}3\", 'Topic_H', 'filing_dt'], inplace=True)"
   ]
  },
  {
   "cell_type": "code",
   "execution_count": 45,
   "metadata": {},
   "outputs": [],
   "source": [
    "disc_long = pd.merge(\n",
    "    left=disc_long,\n",
    "    right=filings_df[['filingDate', 'reportDate', 'cik', '#firms']],\n",
    "    left_on=['CIK', 'report_dt'],\n",
    "    right_on=['cik', 'reportDate'],\n",
    "    how='left'\n",
    ").dropna(subset=['cik', 'reportDate']).drop(columns=['filingDate', 'reportDate', 'cik'])"
   ]
  },
  {
   "cell_type": "code",
   "execution_count": 46,
   "metadata": {},
   "outputs": [],
   "source": [
    "disc_long['Occurence'] = disc_long.groupby([f\"{group}3\", 'Topic_H'])['value'].cumsum()\n",
    "\n",
    "# disc_long['#firms'] = disc_long.groupby(f\"{group}3\")['filing_dt'].transform('nunique')\n",
    "\n",
    "disc_long['frac'] = disc_long['Occurence'] / disc_long['#firms']"
   ]
  },
  {
   "cell_type": "code",
   "execution_count": 47,
   "metadata": {},
   "outputs": [],
   "source": [
    "disc_long['min_frac'] = disc_long.groupby([group, 'Topic_H'])['frac'].transform('min')\n",
    "disc_long['max_frac'] = disc_long.groupby([group, 'Topic_H'])['frac'].transform('max')"
   ]
  },
  {
   "cell_type": "code",
   "execution_count": 11,
   "metadata": {},
   "outputs": [],
   "source": [
    "disc_long = disc_long[\n",
    "    (disc_long['min_frac']<=0.1)\n",
    "    &(disc_long['max_frac']>=0.2)\n",
    "    &(disc_long['value']>0)\n",
    "]"
   ]
  },
  {
   "cell_type": "code",
   "execution_count": 127,
   "metadata": {},
   "outputs": [],
   "source": [
    "# Start from one year after the earliest filing date\n",
    "disc_df[\"filing_dt-1\"] = disc_df[\"filing_dt\"] - pd.Timedelta(weeks=52)\n",
    "disc_df = disc_df[disc_df[\"filing_dt\"]>'2007-02-01']\n",
    "disc_df['sich'] = disc_df['sich'].map(lambda x: f\"{int(x):04d}\"[:2])"
   ]
  },
  {
   "cell_type": "code",
   "execution_count": 129,
   "metadata": {},
   "outputs": [],
   "source": [
    "count_rpt = disc_df.groupby(group)['filing_dt'].transform('nunique')\n",
    "disc_df = disc_df[count_rpt>2]"
   ]
  },
  {
   "cell_type": "code",
   "execution_count": 130,
   "metadata": {},
   "outputs": [],
   "source": [
    "def count_func(x):\n",
    "    df_slice = disc_df[\n",
    "        (disc_df[\"filing_dt\"]>x[\"filing_dt-1\"])&\n",
    "        (disc_df[\"filing_dt\"]<=x[\"filing_dt\"])&\n",
    "        (disc_df['sich']==x['sich'])\n",
    "    ]\n",
    "    output = (\n",
    "        df_slice.filter(range(0,100)).sum() / \n",
    "        df_slice[\"CIK\"].count()\n",
    "    )\n",
    "    \n",
    "    return output"
   ]
  },
  {
   "cell_type": "code",
   "execution_count": 131,
   "metadata": {},
   "outputs": [],
   "source": [
    "disc_df.loc[:, range(0,95)] = disc_df.apply(count_func, axis=1)\n",
    "disc_df.drop(columns=['filing_dt-1'], inplace=True)"
   ]
  },
  {
   "cell_type": "markdown",
   "metadata": {},
   "source": [
    "## Daily data"
   ]
  },
  {
   "cell_type": "code",
   "execution_count": 13,
   "metadata": {},
   "outputs": [
    {
     "data": {
      "text/plain": [
       "Index(['Instrument', 'CLOSEPRICE', 'VOLUME', 'COMPANYMARKETCAP',\n",
       "       'TTLCMNSHARESOUT'],\n",
       "      dtype='object')"
      ]
     },
     "execution_count": 13,
     "metadata": {},
     "output_type": "execute_result"
    }
   ],
   "source": [
    "prices_df = pd.read_csv(\"Data\\Prices.csv\")\n",
    "prices_df[\"Date\"] = pd.to_datetime(prices_df[\"Date\"])\n",
    "prices_df.sort_values([\"Instrument\", \"Date\"], inplace=True)\n",
    "prices_df = prices_df[prices_df[\"Date\"]>'2005-01-01'].set_index('Date')\n",
    "prices_df.columns"
   ]
  },
  {
   "cell_type": "code",
   "execution_count": 14,
   "metadata": {},
   "outputs": [],
   "source": [
    "# Daily shares turnover\n",
    "prices_df[\"SHRTURN\"] = prices_df[\"VOLUME\"] / prices_df[\"TTLCMNSHARESOUT\"]\n",
    "\n",
    "# Returns\n",
    "prices_df[\"Return\"] = prices_df.groupby(\"Instrument\")[\"CLOSEPRICE\"].pct_change(1)"
   ]
  },
  {
   "cell_type": "code",
   "execution_count": 15,
   "metadata": {},
   "outputs": [],
   "source": [
    "# Time window\n",
    "N = 20\n",
    "\n",
    "# Average of N-day std of daily returns\n",
    "std_returns = (\n",
    "    prices_df.groupby(\"Instrument\")[\"Return\"]\n",
    "    .rolling(N, min_periods=N//2).std().to_frame()\n",
    ")\n",
    "std_returns[f\"stdReturn+{N}\"] = std_returns.groupby(\"Instrument\")[\"Return\"].shift(-N-2)\n",
    "std_returns[f\"stdReturn_{N}\"] = std_returns.groupby(\"Instrument\")[\"Return\"].shift(2)"
   ]
  },
  {
   "cell_type": "code",
   "execution_count": 16,
   "metadata": {},
   "outputs": [],
   "source": [
    "# Average of N-day trade volumes\n",
    "N=5\n",
    "MA_vol = prices_df.groupby(\"Instrument\")[\"VOLUME\"].rolling(N, min_periods=3).mean().to_frame()\n",
    "MA_vol[f\"VOLUME\"] = MA_vol.groupby(\"Instrument\")[\"VOLUME\"].shift(N//2)\n",
    "MA_vol[\"SHRTURN\"] = prices_df.groupby(\"Instrument\")[\"SHRTURN\"].rolling(N, min_periods=3).mean()\n",
    "MA_vol[f\"SHRTURN\"] = MA_vol.groupby(\"Instrument\")[\"SHRTURN\"].shift(N//2)"
   ]
  },
  {
   "cell_type": "code",
   "execution_count": 17,
   "metadata": {},
   "outputs": [],
   "source": [
    "# Time window\n",
    "N = 30\n",
    "\n",
    "# Average of 60-day std of daily returns\n",
    "std_returns[f\"stdReturn+{N}\"] = prices_df.groupby(\"Instrument\")[\"Return\"].rolling(N, min_periods=N//2).std().groupby(\"Instrument\").shift(-N-2)\n",
    "std_returns[f\"stdReturn_{N}\"] = prices_df.groupby(\"Instrument\")[\"Return\"].rolling(N, min_periods=N//2).std().groupby(\"Instrument\").shift(2)"
   ]
  },
  {
   "cell_type": "code",
   "execution_count": 18,
   "metadata": {},
   "outputs": [],
   "source": [
    "for N in [20, 30]:\n",
    "    std_returns[f\"D_std{N}\"] = (std_returns[f\"stdReturn+{N}\"] - std_returns[f\"stdReturn_{N}\"])/std_returns[f\"stdReturn_{N}\"]"
   ]
  },
  {
   "cell_type": "code",
   "execution_count": 19,
   "metadata": {},
   "outputs": [
    {
     "name": "stdout",
     "output_type": "stream",
     "text": [
      "<class 'pandas.core.frame.DataFrame'>\n",
      "DatetimeIndex: 8687523 entries, 2006-01-17 to 2022-06-14\n",
      "Data columns (total 5 columns):\n",
      " #   Column      Dtype  \n",
      "---  ------      -----  \n",
      " 0   Instrument  int64  \n",
      " 1   HIGHPRICE   float64\n",
      " 2   LOWPRICE    float64\n",
      " 3   BIDPRICE    float64\n",
      " 4   ASKPRICE    float64\n",
      "dtypes: float64(4), int64(1)\n",
      "memory usage: 397.7 MB\n"
     ]
    }
   ],
   "source": [
    "BidAsk_df = pd.read_csv(\"Data\\BidAsk.csv\").drop_duplicates()\n",
    "BidAsk_df[\"Date\"] = pd.to_datetime(BidAsk_df[\"Date\"])\n",
    "BidAsk_df.set_index('Date', inplace=True)\n",
    "BidAsk_df.info()"
   ]
  },
  {
   "cell_type": "code",
   "execution_count": 20,
   "metadata": {},
   "outputs": [],
   "source": [
    "BidAsk_df[\"BAspread\"] = (BidAsk_df[\"ASKPRICE\"] - BidAsk_df['BIDPRICE'])/BidAsk_df[\"ASKPRICE\"]"
   ]
  },
  {
   "cell_type": "code",
   "execution_count": 21,
   "metadata": {},
   "outputs": [],
   "source": [
    "N = 20\n",
    "\n",
    "# N-day moving average (trading days only)\n",
    "MA_BA = BidAsk_df.groupby('Instrument')['BAspread'].rolling(N, min_periods=N//2).mean().to_frame()\n",
    "MA_BA[f\"avgBA+{N}\"] = MA_BA.groupby(\"Instrument\")[\"BAspread\"].shift(-N-2)\n",
    "MA_BA[f\"avgBA_{N}\"] = MA_BA.groupby(\"Instrument\")[\"BAspread\"].shift(2)\n",
    "\n",
    "MA_BA.drop(columns='BAspread', inplace=True)"
   ]
  },
  {
   "cell_type": "code",
   "execution_count": 22,
   "metadata": {},
   "outputs": [],
   "source": [
    "N = 30\n",
    "# N-day moving average (trading days only)\n",
    "MA_BA[f\"avgBA+{N}\"] = BidAsk_df.groupby('Instrument')['BAspread'].rolling(N, min_periods=N//2).mean().groupby(\"Instrument\").shift(-N-2)\n",
    "MA_BA[f\"avgBA_{N}\"] = BidAsk_df.groupby('Instrument')['BAspread'].rolling(N, min_periods=N//2).mean().groupby(\"Instrument\").shift(2)"
   ]
  },
  {
   "cell_type": "code",
   "execution_count": 23,
   "metadata": {},
   "outputs": [],
   "source": [
    "for N in [20, 30]:\n",
    "    MA_BA[f\"D_ba{N}\"] = (MA_BA[f\"avgBA+{N}\"] - MA_BA[f\"avgBA_{N}\"])/MA_BA[f\"avgBA_{N}\"]"
   ]
  },
  {
   "cell_type": "code",
   "execution_count": 24,
   "metadata": {},
   "outputs": [
    {
     "data": {
      "text/plain": [
       "Index(['Date', 'Instrument', 'Beta_30', 'Beta_90', 'Beta_250', 'AR', 'CAR_10',\n",
       "       'CAR_20', 'CAR_30'],\n",
       "      dtype='object')"
      ]
     },
     "execution_count": 24,
     "metadata": {},
     "output_type": "execute_result"
    }
   ],
   "source": [
    "Beta = pd.read_csv(\"Data\\Beta_AR.csv\")\n",
    "Beta.drop_duplicates(inplace=True)\n",
    "Beta.columns"
   ]
  },
  {
   "cell_type": "code",
   "execution_count": 25,
   "metadata": {},
   "outputs": [],
   "source": [
    "Beta['Date'] = pd.to_datetime(Beta['Date'])\n",
    "Beta.set_index('Date', inplace=True)"
   ]
  },
  {
   "cell_type": "code",
   "execution_count": 26,
   "metadata": {},
   "outputs": [],
   "source": [
    "# Daily Beta\n",
    "Beta[\"BETA+90\"] = Beta.groupby('Instrument')[\"Beta_90\"].shift(-90-2)\n",
    "Beta[\"BETA_90\"] = Beta.groupby('Instrument')[\"Beta_90\"].shift(2)"
   ]
  },
  {
   "cell_type": "code",
   "execution_count": 27,
   "metadata": {},
   "outputs": [],
   "source": [
    "Analysts = pd.read_csv(\"Data\\Analysts.csv\")\n",
    "Analysts.dropna(inplace=True)\n",
    "\n",
    "Analysts.columns = ['Instrument', 'NUMBEROFANALYSTS', 'Date']\n",
    "Analysts['Date'] = pd.to_datetime(Analysts['Date'], errors='coerce').dt.tz_localize(None)"
   ]
  },
  {
   "cell_type": "code",
   "execution_count": 28,
   "metadata": {},
   "outputs": [],
   "source": [
    "Analyst_df = pd.merge(\n",
    "    left=prices_df[\"Instrument\"], \n",
    "    right=Analysts, \n",
    "    on=[\"Date\", \"Instrument\"],\n",
    "    how=\"outer\"\n",
    ")\n",
    "\n",
    "Analyst_df = Analyst_df[(Analyst_df[\"Date\"]>'2005-01-01')&(Analyst_df[\"Date\"]<'2023-01-01')]\n",
    "\n",
    "Analyst_df.sort_values(['Instrument', 'Date', 'NUMBEROFANALYSTS'], inplace=True)"
   ]
  },
  {
   "cell_type": "code",
   "execution_count": 29,
   "metadata": {},
   "outputs": [],
   "source": [
    "Analyst_df[\"NUMBEROFANALYSTS\"] = Analyst_df.groupby(\"Instrument\")[\"NUMBEROFANALYSTS\"].fillna(method='ffill')\n",
    "Analyst_df.drop_duplicates(subset=['Instrument', 'Date'], keep='last', inplace=True)\n",
    "Analyst_df.fillna(0, inplace=True)"
   ]
  },
  {
   "cell_type": "code",
   "execution_count": 30,
   "metadata": {},
   "outputs": [],
   "source": [
    "# Load annual financial data\n",
    "# Fill NAs with last (previouse) observation and drop duplicates\n",
    "financials = pd.read_csv(\n",
    "    filepath_or_buffer=\"Data\\Financials.csv\",\n",
    "    decimal=\".\", \n",
    "    thousands=',',\n",
    ").drop_duplicates()\n",
    "\n",
    "financials.sort_values(['cik', 'datadate'], inplace=True)"
   ]
  },
  {
   "cell_type": "code",
   "execution_count": 31,
   "metadata": {},
   "outputs": [],
   "source": [
    "financials[\"datadate\"] = pd.to_datetime(financials[\"datadate\"], format=\"%d/%m/%Y\")\n",
    "financials[\"seq\"].fillna(financials[\"teq\"], inplace=True)"
   ]
  },
  {
   "cell_type": "code",
   "execution_count": 32,
   "metadata": {},
   "outputs": [],
   "source": [
    "# Leverage\n",
    "financials[\"DtA\"] = financials[\"dt\"] / financials[\"at\"].replace(0, np.nan)\n",
    "financials[\"DtEBITDA\"] = financials[\"dt\"] / financials[\"ebitda\"].replace(0, np.nan)\n",
    "\n",
    "# Profitability\n",
    "financials[\"ROE\"] = financials[\"ni\"] / financials[\"seq\"].replace(0, np.nan)\n",
    "financials[\"NPM\"] = financials[\"ni\"] / financials[\"revt\"].replace(0, np.nan) # net profit margin\n",
    "\n",
    "# Firm size\n",
    "financials[\"logMC\"] = np.log(financials[\"mkvalt\"].replace(0, np.nan))\n",
    "financials[\"logTA\"] = np.log(financials[\"at\"].replace(0, np.nan))\n",
    "\n",
    "# Intangible assets\n",
    "financials[\"RtINT\"] = financials[\"revt\"] / financials[\"intan\"].replace(0, np.nan)\n",
    "financials[\"INTtA\"] = financials[\"intan\"] / financials[\"at\"].replace(0, np.nan) \n",
    "\n",
    "# Liquidity\n",
    "financials[\"current\"] = financials[\"act\"] / financials[\"lct\"].replace(0, np.nan)\n",
    "\n",
    "# Other\n",
    "financials[\"TobinQ\"] = financials[\"mkvalt\"] / financials[\"at\"].replace(0, np.nan)\n",
    "financials[\"BtM\"] = financials[\"seq\"] / financials[\"mkvalt\"].replace(0, np.nan)\n",
    "\n",
    "# R&D intensity\n",
    "financials[\"RDxopr\"] = financials[\"xrd\"].fillna(0) / financials[\"xopr\"].replace(0, np.nan)\n",
    "financials[\"ProprietaryCost\"] = financials[\"xrd\"].fillna(0) / financials.groupby('cik')[\"at\"].shift(1).replace(0, np.nan)\n",
    "\n",
    "# %change in earnings\n",
    "financials[\"DEarnings\"] = financials.groupby(\"cik\")[\"ni\"].pct_change(1).replace(np.Inf, np.nan)\n",
    "financials[\"DEarnings\"].replace(-np.Inf, np.nan, inplace=True)"
   ]
  },
  {
   "cell_type": "code",
   "execution_count": 33,
   "metadata": {},
   "outputs": [
    {
     "data": {
      "text/plain": [
       "Index(['gvkey', 'datadate', 'fyear', 'indfmt', 'consol', 'popsrc', 'datafmt',\n",
       "       'curcd', 'act', 'at', 'dt', 'ebit', 'ebitda', 'intan', 'lct', 'lt',\n",
       "       'ni', 'revt', 'seq', 'teq', 'xopr', 'xrd', 'xt', 'cik', 'costat',\n",
       "       'naicsh', 'sich', 'mkvalt', 'naics', 'sic', 'DtA', 'DtEBITDA', 'ROE',\n",
       "       'NPM', 'logMC', 'logTA', 'RtINT', 'INTtA', 'current', 'TobinQ', 'BtM',\n",
       "       'RDxopr', 'ProprietaryCost', 'DEarnings'],\n",
       "      dtype='object')"
      ]
     },
     "execution_count": 33,
     "metadata": {},
     "output_type": "execute_result"
    }
   ],
   "source": [
    "financials.columns"
   ]
  },
  {
   "attachments": {},
   "cell_type": "markdown",
   "metadata": {},
   "source": [
    "## Merge data"
   ]
  },
  {
   "cell_type": "code",
   "execution_count": 34,
   "metadata": {},
   "outputs": [],
   "source": [
    "rprt_length = (\n",
    "    topics_df.groupby([\"CIK\", \"report_dt\", \"filing_dt\"])['rprt_length'].sum()\n",
    ").reset_index().drop_duplicates(subset=[\"CIK\", \"filing_dt\", \"report_dt\"])\n",
    "\n",
    "disc_long = pd.merge(\n",
    "    left=disc_long, \n",
    "    right=rprt_length,\n",
    "    on=[\"CIK\", \"filing_dt\", \"report_dt\"],\n",
    "    how='left'\n",
    ")"
   ]
  },
  {
   "cell_type": "code",
   "execution_count": 35,
   "metadata": {},
   "outputs": [],
   "source": [
    "disc_long = pd.merge(\n",
    "    left=disc_long,\n",
    "    right=std_returns,\n",
    "    left_on=[\"CIK\", \"filing_dt\"],\n",
    "    right_index=True,\n",
    "    how=\"left\"\n",
    ")\n",
    "\n",
    "disc_long = pd.merge(\n",
    "    left=disc_long,\n",
    "    right=MA_BA,\n",
    "    left_on=[\"CIK\", \"filing_dt\"],\n",
    "    right_index=True,\n",
    "    how=\"left\"\n",
    ")\n",
    "\n",
    "disc_long = pd.merge(\n",
    "    left=disc_long,\n",
    "    right=MA_vol,\n",
    "    left_on=[\"CIK\", \"filing_dt\"],\n",
    "    right_index=True,\n",
    "    how=\"left\"\n",
    ")"
   ]
  },
  {
   "cell_type": "code",
   "execution_count": 36,
   "metadata": {},
   "outputs": [],
   "source": [
    "disc_long = pd.merge(\n",
    "    left=disc_long,\n",
    "    right=Beta.reset_index()[[\n",
    "        'Instrument', 'Date', 'BETA_90',\n",
    "        'CAR_10', 'CAR_20', 'CAR_30'\n",
    "    ]],\n",
    "    left_on=[\"CIK\", \"filing_dt\"],\n",
    "    right_on=['Instrument', 'Date'],\n",
    "    how=\"left\"\n",
    ").drop(columns=['Instrument', 'Date'])\n",
    "\n",
    "disc_long = pd.merge(\n",
    "    left=disc_long,\n",
    "    right=Analyst_df[['Date', 'Instrument', 'NUMBEROFANALYSTS']],\n",
    "    left_on=[\"CIK\", \"filing_dt\"],\n",
    "    right_on=['Instrument', 'Date'],\n",
    "    how=\"left\"\n",
    ").drop(columns=['Instrument', 'Date'])\n",
    "\n",
    "disc_long = pd.merge(\n",
    "    left=disc_long,\n",
    "    right=financials[[\n",
    "        'cik', 'datadate', 'DtA', 'DtEBITDA', 'ROE', 'NPM', 'logMC', 'logTA', 'RtINT', \n",
    "        'INTtA', 'current', 'TobinQ', 'BtM', 'RDxopr', 'ProprietaryCost', 'DEarnings'\n",
    "    ]],\n",
    "    left_on=[\"CIK\", \"report_dt\"],\n",
    "    right_on=[\"cik\", \"datadate\"],\n",
    "    how=\"left\"\n",
    ").drop(columns=['datadate', 'cik'])"
   ]
  },
  {
   "cell_type": "code",
   "execution_count": 37,
   "metadata": {},
   "outputs": [],
   "source": [
    "# disc_long.dropna(inplace=True)\n",
    "disc_long['rfGap'] = (disc_long['filing_dt'] - disc_long['report_dt']).dt.days\n",
    "disc_long['fyear'] = disc_long['filing_dt'].dt.year\n",
    "disc_long['ryear'] = disc_long['report_dt'].dt.year"
   ]
  },
  {
   "cell_type": "code",
   "execution_count": 38,
   "metadata": {},
   "outputs": [],
   "source": [
    "disc_long.to_csv('Data\\study1_more(3).csv', index=False)"
   ]
  },
  {
   "attachments": {},
   "cell_type": "markdown",
   "metadata": {},
   "source": [
    "Table of mean per OCC"
   ]
  },
  {
   "cell_type": "code",
   "execution_count": 77,
   "metadata": {},
   "outputs": [],
   "source": [
    "firm = pd.read_csv('Data\\study1_more(3).csv')\n",
    "# industry = pd.read_csv('Data\\study1_more(2)(2).csv')"
   ]
  },
  {
   "cell_type": "code",
   "execution_count": 78,
   "metadata": {},
   "outputs": [],
   "source": [
    "firm[\"filing_dt\"] = pd.to_datetime(firm[\"filing_dt\"])\n",
    "firm[\"report_dt\"] = pd.to_datetime(firm[\"report_dt\"])"
   ]
  },
  {
   "cell_type": "code",
   "execution_count": 79,
   "metadata": {},
   "outputs": [],
   "source": [
    "firm = pd.merge(\n",
    "    left=firm,\n",
    "    right=TH[['index', 'value']],\n",
    "    left_on=['Topic'],\n",
    "    right_on=['value'],\n",
    "    how='left'\n",
    ").rename(columns={'index': 'Topic_H'})"
   ]
  },
  {
   "cell_type": "code",
   "execution_count": 87,
   "metadata": {},
   "outputs": [],
   "source": [
    "df = pd.merge(\n",
    "    left=firm,\n",
    "    right=disc_long[['CIK', 'filing_dt', 'report_dt', 'Topic_H', 'frac', '#firms']],\n",
    "    on = ['CIK', 'filing_dt', 'report_dt', 'Topic_H'],\n",
    "    how='left'\n",
    ")"
   ]
  },
  {
   "cell_type": "code",
   "execution_count": 88,
   "metadata": {},
   "outputs": [],
   "source": [
    "df.to_csv('Data\\study1_more.csv', index=False)"
   ]
  },
  {
   "cell_type": "code",
   "execution_count": 117,
   "metadata": {},
   "outputs": [],
   "source": [
    "firm.dropna(inplace=True)"
   ]
  },
  {
   "cell_type": "code",
   "execution_count": 102,
   "metadata": {},
   "outputs": [],
   "source": [
    "firm.dropna(subset=['stdReturn+20', 'D_std20', 'CAR_20', 'avgBA+20', 'D_ba20'], inplace=True)\n",
    "industry.dropna(subset=['stdReturn+20', 'D_std20', 'CAR_20', 'avgBA+20', 'D_ba20'], inplace=True)"
   ]
  },
  {
   "cell_type": "code",
   "execution_count": 118,
   "metadata": {},
   "outputs": [],
   "source": [
    "winsor = ['stdReturn+20', 'D_std20', 'CAR_20', 'avgBA+20', 'D_ba20']\n",
    "df1 = firm[(firm['Occurence']<=10)].copy()\n",
    "df1[winsor] = df1[winsor].clip(\n",
    "    lower=df1[winsor].quantile(0.01), \n",
    "    upper=df1[winsor].quantile(0.99), \n",
    "    axis=1\n",
    ")*100\n",
    "\n",
    "df2 = industry.copy()\n",
    "df2[winsor] = df2[winsor].clip(\n",
    "    lower=df2[winsor].quantile(0.01), \n",
    "    upper=df2[winsor].quantile(0.99), \n",
    "    axis=1\n",
    ")*100"
   ]
  },
  {
   "cell_type": "code",
   "execution_count": 119,
   "metadata": {},
   "outputs": [],
   "source": [
    "Occ_df1 = df1.groupby('Occurence')[winsor].mean()\n",
    "Occ_df1['Obs'] = df1.groupby(\"Occurence\")['Topic'].count()"
   ]
  },
  {
   "cell_type": "code",
   "execution_count": 106,
   "metadata": {},
   "outputs": [],
   "source": [
    "bins = np.arange(0, 1.1, 0.1)\n",
    "labels = range(1, 11)\n",
    "df2['frac_bin'] = pd.cut(df2['frac'], bins=bins, labels=labels)"
   ]
  },
  {
   "cell_type": "code",
   "execution_count": 107,
   "metadata": {},
   "outputs": [],
   "source": [
    "Occ_df2 = df2.groupby('frac_bin')[winsor].mean()\n",
    "Occ_df2['Obs'] = df2.groupby(\"frac_bin\")['Topic_H'].count()"
   ]
  },
  {
   "attachments": {},
   "cell_type": "markdown",
   "metadata": {},
   "source": [
    "Create OCC graphs"
   ]
  },
  {
   "cell_type": "code",
   "execution_count": 96,
   "metadata": {},
   "outputs": [],
   "source": [
    "# graph = disc_long[(disc_long['filing_dt']>'2011-01-01')&(disc_long['filing_dt']<'2016-01-01')].copy()\n",
    "graph_1 = industry[industry['Occurence']<=5]"
   ]
  },
  {
   "cell_type": "code",
   "execution_count": 4,
   "metadata": {},
   "outputs": [],
   "source": [
    "graph_2 = firm[firm['Occurence']<=5]"
   ]
  },
  {
   "cell_type": "code",
   "execution_count": 97,
   "metadata": {},
   "outputs": [
    {
     "data": {
      "image/png": "[encoded data removed]",
      "text/plain": [
       "<Figure size 720x432 with 2 Axes>"
      ]
     },
     "metadata": {},
     "output_type": "display_data"
    }
   ],
   "source": [
    "fig, ax = plt.subplots(1,2, figsize=(10,6))\n",
    "fig.tight_layout()\n",
    "\n",
    "sns.boxplot(\n",
    "    data=firm, x = 'Occurence', y = 'stdReturn+20', showfliers=False, ax=ax[0]\n",
    ")\n",
    "sns.boxplot(\n",
    "    data=graph_1, x = 'Occurence', y = 'stdReturn+20', showfliers=False, ax=ax[1]\n",
    ")\n",
    "\n",
    "ax[0].set_xlabel('Occurence')\n",
    "ax[1].set_xlabel('Occurence')\n",
    "ax[0].set_ylabel(\"$Volatility^+$\")\n",
    "ax[1].set_ylabel(\"\")\n",
    "ax[0].set_title('A. Firm')\n",
    "ax[1].set_title('B. Industry')\n",
    "plt.savefig('occurence.png', dpi=300)\n",
    "plt.show()"
   ]
  },
  {
   "cell_type": "code",
   "execution_count": 75,
   "metadata": {},
   "outputs": [],
   "source": [
    "covid = disc_long[(disc_long['Topic_H']==94)&(disc_long['filing_dt']>'2019-06-01')&(disc_long['Occurence']<=3)&((disc_long['value']>=1))]"
   ]
  },
  {
   "attachments": {},
   "cell_type": "markdown",
   "metadata": {},
   "source": [
    "Summary tables"
   ]
  },
  {
   "cell_type": "code",
   "execution_count": 2,
   "metadata": {},
   "outputs": [],
   "source": [
    "stat_data = pd.read_csv('Data\\stats_data_T2V_H_V3.csv')"
   ]
  },
  {
   "cell_type": "code",
   "execution_count": 3,
   "metadata": {},
   "outputs": [],
   "source": [
    "stat_data.dropna(\n",
    "    subset=['added', 'stdReturn+20', 'stdReturn_20', 'SHRTURN', 'NUMBEROFANALYSTS', 'DtA', \n",
    "            'NPM', 'INTtA', 'current', 'BtM', 'DEarnings', 'BETA_90'],\n",
    "    inplace=True\n",
    ")"
   ]
  },
  {
   "cell_type": "code",
   "execution_count": 47,
   "metadata": {},
   "outputs": [],
   "source": [
    "year = stat_data.groupby('fyear')[[\"reported_crnt\", \"added\", \"repeated\"]].mean()#.agg(['mean', 'std'])\n",
    "ind = stat_data.groupby('Industry')[[\"reported_crnt\", \"added\", \"repeated\"]].agg(['mean', 'std'])\n",
    "\n",
    "year['obs'] = stat_data.groupby('fyear')['CIK'].count()\n",
    "# year['firms'] = stat_data.groupby('fyear')['CIK'].nunique()\n",
    "\n",
    "year.loc['Total', [('reported_crnt', 'mean'), ('added', 'mean'), ('repeated', 'mean')]] = (\n",
    "    stat_data[[\"reported_crnt\", \"added\", \"repeated\"]].mean().values\n",
    ")\n",
    "year.loc['Total', [('reported_crnt', 'std'), ('added', 'std'), ('repeated', 'std')]] = (\n",
    "    stat_data[[\"reported_crnt\", \"added\", \"repeated\"]].std().values\n",
    ")\n",
    "year.loc['Total', 'obs'] = year['obs'].sum()"
   ]
  },
  {
   "cell_type": "code",
   "execution_count": 9,
   "metadata": {},
   "outputs": [],
   "source": [
    "stat_data['D_std'] = (stat_data['stdReturn+20'] - stat_data['stdReturn_20'])*100 / stat_data['stdReturn_20']\n",
    "stat_data['D_ba'] = (stat_data['avgBA+20'] - stat_data['avgBA_20'])*100 / stat_data['avgBA_20']\n",
    "stat_data[['stdReturn+20', 'CAR_20', 'avgBA+20']] = stat_data[['stdReturn+20', 'CAR_20', 'avgBA+20']] * 100"
   ]
  },
  {
   "cell_type": "code",
   "execution_count": 10,
   "metadata": {},
   "outputs": [],
   "source": [
    "year = stat_data.groupby('fyear')[[\"reported_crnt\", \"added\", \"repeated\", 'stdReturn+20', 'D_std', 'CAR_20', 'avgBA+20', 'D_ba', 'BETA_90']].mean()"
   ]
  },
  {
   "cell_type": "code",
   "execution_count": 48,
   "metadata": {},
   "outputs": [],
   "source": [
    "year[[(          'obs',     ''),\n",
    "    ('reported_crnt', 'mean'),\n",
    "    ('reported_crnt',  'std'),\n",
    "    (        'added', 'mean'),\n",
    "    (        'added',  'std'),\n",
    "    (     'repeated', 'mean'),\n",
    "    (     'repeated',  'std'),\n",
    "]].round(0).astype(int).to_latex('disc_year.tex')"
   ]
  },
  {
   "cell_type": "code",
   "execution_count": 49,
   "metadata": {},
   "outputs": [],
   "source": [
    "df = topics_df[topics_df['CIK'].isin(stat_data['CIK'])].copy()\n",
    "df['ryear'] = df['report_dt'].dt.year\n",
    "\n",
    "sum_year = pd.DataFrame()\n",
    "sum_year['#CIK'] = df.groupby('ryear')['CIK'].nunique()\n",
    "sum_year['#RF'] = df.groupby(['ryear', 'CIK'])['rf_seq'].count().reset_index().groupby('ryear')['rf_seq'].mean().round()\n",
    "sum_year['#IT'] = df.groupby(['ryear', 'CIK'])['Topic'].nunique().reset_index().groupby('ryear')['Topic'].mean().round()\n",
    "sum_year['#TC'] = df.groupby(['ryear', 'CIK'])['Topic_H'].nunique().reset_index().groupby('ryear')['Topic_H'].mean().round()\n",
    "\n",
    "sum_ind = pd.DataFrame()\n",
    "sum_ind['#CIK'] = df.groupby('Industry')['CIK'].nunique()\n",
    "sum_ind['#RF'] = df.groupby(['Industry', 'ryear', 'CIK'])['rf_seq'].count().reset_index().groupby('Industry')['rf_seq'].mean().round()\n",
    "sum_ind['#IT'] = df.groupby(['Industry', 'ryear', 'CIK'])['Topic'].nunique().reset_index().groupby('Industry')['Topic'].mean().round()\n",
    "sum_ind['#TC'] = df.groupby(['Industry', 'ryear', 'CIK'])['Topic_H'].nunique().reset_index().groupby('Industry')['Topic_H'].mean().round()\n",
    "\n",
    "sum_ind.astype(int).to_latex('ind_tbl.tex')\n",
    "sum_year.astype(int).to_latex('yr_tbl.tex')"
   ]
  },
  {
   "cell_type": "code",
   "execution_count": 50,
   "metadata": {},
   "outputs": [],
   "source": [
    "topics_df['ryear'] = topics_df['report_dt'].dt.year\n",
    "\n",
    "df = topics_df.groupby(\"ryear\")[['Topic', 'Topic_H']].agg({'Topic': lambda l: set(l), 'Topic_H': lambda l: set(l)}).reset_index()\n",
    "df[\"shifted\"] = df['Topic'].shift(1)\n",
    "\n",
    "df.dropna(inplace=True)\n",
    "\n",
    "df[\"repeated\"] = df.apply(lambda r: r['Topic'].intersection(r['shifted']), axis=1)\n",
    "df[\"added\"] = df.apply(lambda r: r['Topic'].difference(r['shifted']), axis=1)\n",
    "df[\"removed\"] = df.apply(lambda r: r['shifted'].difference(r['Topic']), axis=1)\n",
    "df[\"reported_crnt\"] = df['Topic'].map(len)\n",
    "df[\"repeated\"] = df[\"repeated\"].map(len)\n",
    "df[\"added\"] = df[\"added\"].map(len)\n",
    "df[\"removed\"] = df[\"removed\"].map(len)"
   ]
  },
  {
   "cell_type": "code",
   "execution_count": 51,
   "metadata": {},
   "outputs": [],
   "source": [
    "import matplotlib.pyplot as plt\n",
    "%matplotlib inline\n",
    "# plt.style.use('ggplot')\n",
    "plt.rc('figure', autolayout=True)\n",
    "\n",
    "# Set the global font to be DejaVu Sans, size 10 (or any other sans-serif font of your choice!)\n",
    "plt.rc('font',**{'family':'sans-serif','sans-serif':['DejaVu Sans'],'size':12})\n",
    "# Set the font used for MathJax - more on this later\n",
    "plt.rc('mathtext',**{'default':'regular'})\n",
    "%config InlineBackend.figure_format = 'retina'"
   ]
  },
  {
   "cell_type": "code",
   "execution_count": null,
   "metadata": {},
   "outputs": [],
   "source": []
  },
  {
   "cell_type": "code",
   "execution_count": null,
   "metadata": {},
   "outputs": [],
   "source": [
    "fig, ax = plt.subplots(3, 1, figsize=(12,10))\n",
    "ax[0].plot(year[('reported_crnt', 'mean')])\n",
    "ax[0].set_xlabel('Year')\n",
    "ax[0].set_ylabel('Reported risk topics')\n",
    "\n",
    "# plt.savefig(\"HReduction.png\", dpi=600)\n",
    "plt.show()"
   ]
  },
  {
   "cell_type": "code",
   "execution_count": null,
   "metadata": {},
   "outputs": [],
   "source": []
  }
 ],
 "metadata": {
  "kernelspec": {
   "display_name": "Python 3.7.13 ('ETM_env')",
   "language": "python",
   "name": "python3"
  },
  "language_info": {
   "codemirror_mode": {
    "name": "ipython",
    "version": 3
   },
   "file_extension": ".py",
   "mimetype": "text/x-python",
   "name": "python",
   "nbconvert_exporter": "python",
   "pygments_lexer": "ipython3",
   "version": "3.7.13"
  },
  "orig_nbformat": 4,
  "vscode": {
   "interpreter": {
    "hash": "2e814d5f901f2e2f1812217256e7a2386c6b3dac449e52472436b21a420d1617"
   }
  }
 },
 "nbformat": 4,
 "nbformat_minor": 2
}
