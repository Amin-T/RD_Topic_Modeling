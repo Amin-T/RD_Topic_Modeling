{
 "cells": [
  {
   "cell_type": "code",
   "execution_count": 1,
   "metadata": {},
   "outputs": [],
   "source": [
    "# Import liberaries and functions\n",
    "import pandas as pd\n",
    "import numpy as np"
   ]
  },
  {
   "cell_type": "code",
   "execution_count": 2,
   "metadata": {},
   "outputs": [],
   "source": [
    "rf_rates = pd.read_csv(\"Data\\\\rf_rates.csv\")\n",
    "\n",
    "rf_rates[\"date\"] = pd.to_datetime(rf_rates[\"date\"])\n",
    "rf_rates.set_index(\"date\", inplace=True)"
   ]
  },
  {
   "attachments": {},
   "cell_type": "markdown",
   "metadata": {},
   "source": [
    "mktrf > Excess Return on the Market\\\n",
    "rf > Risk-Free Return Rate (One Month Treasury Bill Rate)"
   ]
  },
  {
   "cell_type": "code",
   "execution_count": 3,
   "metadata": {},
   "outputs": [
    {
     "data": {
      "text/plain": [
       "Index(['Instrument', 'CLOSEPRICE', 'VOLUME', 'COMPANYMARKETCAP',\n",
       "       'TTLCMNSHARESOUT'],\n",
       "      dtype='object')"
      ]
     },
     "execution_count": 3,
     "metadata": {},
     "output_type": "execute_result"
    }
   ],
   "source": [
    "prices_df = pd.read_csv(\"Data\\Prices.csv\")\n",
    "prices_df[\"Date\"] = pd.to_datetime(prices_df[\"Date\"])\n",
    "prices_df.set_index('Date', inplace=True)\n",
    "prices_df.columns"
   ]
  },
  {
   "cell_type": "code",
   "execution_count": 4,
   "metadata": {},
   "outputs": [],
   "source": [
    "# Calculate returns\n",
    "prices_df[\"Return\"] = prices_df.groupby(\"Instrument\")[\"CLOSEPRICE\"].pct_change(1)\n",
    "prices_df[\"log_Return\"] = np.log(prices_df[\"Return\"] + 1)"
   ]
  },
  {
   "cell_type": "code",
   "execution_count": 5,
   "metadata": {},
   "outputs": [],
   "source": [
    "Beta_df = pd.merge(\n",
    "    left=prices_df,\n",
    "    right=rf_rates,\n",
    "    left_on='Date',\n",
    "    right_index=True,\n",
    "    how='left'\n",
    ")\n",
    "\n",
    "Beta_df[\"ex_Return\"] = Beta_df[\"log_Return\"] - Beta_df[\"rf\"]"
   ]
  },
  {
   "cell_type": "code",
   "execution_count": 6,
   "metadata": {},
   "outputs": [],
   "source": [
    "N = 30\n",
    "\n",
    "Beta_df[f\"mktrf_var_{N}\"] = (\n",
    "    Beta_df.groupby('Instrument')[\"mktrf\"]\n",
    "    .rolling(N, min_periods=N//2).var()\n",
    ").values\n",
    "\n",
    "Beta_df[f\"covar_{N}\"] = (\n",
    "    Beta_df.groupby(\"Instrument\")[[\"mktrf\", \"ex_Return\"]]\n",
    "    .rolling(N, min_periods=N//2).cov()\n",
    "    .unstack()[\"mktrf\"][\"ex_Return\"]\n",
    ").values\n",
    "\n",
    "Beta_df[f\"Beta_{N}\"] = Beta_df[f\"covar_{N}\"] / Beta_df[f\"mktrf_var_{N}\"]"
   ]
  },
  {
   "cell_type": "code",
   "execution_count": 7,
   "metadata": {},
   "outputs": [],
   "source": [
    "N = 90\n",
    "\n",
    "Beta_df[f\"mktrf_var_{N}\"] = (\n",
    "    Beta_df.groupby('Instrument')[\"mktrf\"]\n",
    "    .rolling(N, min_periods=N//2).var()\n",
    ").values\n",
    "\n",
    "Beta_df[f\"covar_{N}\"] = (\n",
    "    Beta_df.groupby(\"Instrument\")[[\"mktrf\", \"ex_Return\"]]\n",
    "    .rolling(N, min_periods=N//2).cov()\n",
    "    .unstack()[\"mktrf\"][\"ex_Return\"]\n",
    ").values\n",
    "\n",
    "Beta_df[f\"Beta_{N}\"] = Beta_df[f\"covar_{N}\"] / Beta_df[f\"mktrf_var_{N}\"]"
   ]
  },
  {
   "cell_type": "code",
   "execution_count": 8,
   "metadata": {},
   "outputs": [],
   "source": [
    "N = 250\n",
    "\n",
    "Beta_df[f\"mktrf_var_{N}\"] = (\n",
    "    Beta_df.groupby('Instrument')[\"mktrf\"]\n",
    "    .rolling(N, min_periods=N//2).var()\n",
    ").values\n",
    "\n",
    "Beta_df[f\"covar_{N}\"] = (\n",
    "    Beta_df.groupby(\"Instrument\")[[\"mktrf\", \"ex_Return\"]]\n",
    "    .rolling(N, min_periods=N//2).cov()\n",
    "    .unstack()[\"mktrf\"][\"ex_Return\"]\n",
    ").values\n",
    "\n",
    "Beta_df[f\"Beta_{N}\"] = Beta_df[f\"covar_{N}\"] / Beta_df[f\"mktrf_var_{N}\"]"
   ]
  },
  {
   "cell_type": "code",
   "execution_count": 9,
   "metadata": {},
   "outputs": [],
   "source": [
    "# Abnormal Return = Actual Return - Expected Return \n",
    "# Estimation window: 10 days before the event day\n",
    "Beta_df[\"AR\"] = Beta_df[\"log_Return\"] - (\n",
    "    Beta_df[\"rf\"] + Beta_df.groupby(\"Instrument\")[\"Beta_90\"].shift(10)*Beta_df[\"mktrf\"]\n",
    ")"
   ]
  },
  {
   "cell_type": "code",
   "execution_count": 10,
   "metadata": {},
   "outputs": [],
   "source": [
    "# Cumulative AR - Event window: -5 and +10 days\n",
    "# sum of values over the event window at the event day (.shift(-10))\n",
    "components = (\n",
    "    Beta_df.groupby(\"Instrument\")[[\"log_Return\", \"rf\", \"mktrf\"]]\n",
    "    .rolling(16, min_periods=9).sum().groupby(\"Instrument\").shift(-10)\n",
    ")\n",
    "\n",
    "Beta_df[\"CAR_10\"] = (\n",
    "    (components[\"log_Return\"] - components[\"rf\"]).values - \n",
    "    Beta_df.groupby(\"Instrument\")[\"Beta_90\"].shift(10).values * components[\"mktrf\"].values)"
   ]
  },
  {
   "cell_type": "code",
   "execution_count": 11,
   "metadata": {},
   "outputs": [],
   "source": [
    "# Cumulative AR - Event window: -5 and +20 days\n",
    "# sum of values over the event window at the event day\n",
    "components = (\n",
    "    Beta_df.groupby(\"Instrument\")[[\"log_Return\", \"rf\", \"mktrf\"]]\n",
    "    .rolling(26, min_periods=14).sum().groupby(\"Instrument\").shift(-20)\n",
    ")\n",
    "\n",
    "Beta_df[\"CAR_20\"] = (\n",
    "    (components[\"log_Return\"] - components[\"rf\"]).values - \n",
    "    Beta_df.groupby(\"Instrument\")[\"Beta_90\"].shift(10).values * components[\"mktrf\"].values)"
   ]
  },
  {
   "cell_type": "code",
   "execution_count": 12,
   "metadata": {},
   "outputs": [],
   "source": [
    "# Cumulative AR - Event window: -5 and +30 days\n",
    "# sum of values over the event window at the event day\n",
    "components = (\n",
    "    Beta_df.groupby(\"Instrument\")[[\"log_Return\", \"rf\", \"mktrf\"]]\n",
    "    .rolling(36, min_periods=19).sum().groupby(\"Instrument\").shift(-30)\n",
    ")\n",
    "\n",
    "Beta_df[\"CAR_30\"] = (\n",
    "    (components[\"log_Return\"] - components[\"rf\"]).values - \n",
    "    Beta_df.groupby(\"Instrument\")[\"Beta_90\"].shift(10).values * components[\"mktrf\"].values)"
   ]
  },
  {
   "cell_type": "code",
   "execution_count": 13,
   "metadata": {},
   "outputs": [],
   "source": [
    "Beta_df.reset_index(inplace=True)\n",
    "\n",
    "Beta_df.drop(\n",
    "    columns=[\n",
    "        'CLOSEPRICE', 'VOLUME', 'COMPANYMARKETCAP', 'TTLCMNSHARESOUT', 'Return', 'log_Return', 'ex_Return',\n",
    "        'mktrf', 'rf', 'mktrf_var_30', 'covar_30', 'mktrf_var_90', 'covar_90', 'mktrf_var_250', 'covar_250'\n",
    "    ],\n",
    "    inplace=True\n",
    ")"
   ]
  },
  {
   "cell_type": "code",
   "execution_count": 14,
   "metadata": {},
   "outputs": [
    {
     "data": {
      "text/plain": [
       "Date                0\n",
       "Instrument          0\n",
       "Beta_30        926407\n",
       "Beta_90       1141443\n",
       "Beta_250      1712088\n",
       "AR            2180847\n",
       "CAR_10        1267230\n",
       "CAR_20        1329997\n",
       "CAR_30        1392674\n",
       "dtype: int64"
      ]
     },
     "execution_count": 14,
     "metadata": {},
     "output_type": "execute_result"
    }
   ],
   "source": [
    "Beta_df.isna().sum()"
   ]
  },
  {
   "cell_type": "code",
   "execution_count": 15,
   "metadata": {},
   "outputs": [],
   "source": [
    "Beta_df.to_csv(\"Data\\Beta_AR.csv\", index=False)"
   ]
  },
  {
   "cell_type": "code",
   "execution_count": null,
   "metadata": {},
   "outputs": [],
   "source": [
    "# Cumulative AR - Event window: -5 and +5 days \n",
    "Beta_df[\"CAR_5\"] = (\n",
    "    Beta_df.groupby(\"Instrument\")[\"AR\"].rolling(11, min_periods=6).mean()\n",
    "    .groupby(\"Instrument\").shift(-5)\n",
    ").values"
   ]
  },
  {
   "cell_type": "code",
   "execution_count": null,
   "metadata": {},
   "outputs": [],
   "source": [
    "market_idx = pd.read_csv('Data\\market_daily.csv')\n",
    "\n",
    "market_idx[\"DATE\"] = pd.to_datetime(market_idx[\"DATE\"])\n",
    "market_idx.set_index(\"DATE\", inplace=True)"
   ]
  },
  {
   "attachments": {},
   "cell_type": "markdown",
   "metadata": {},
   "source": [
    "vwretd > Value-Weighted Return (includes distributions)\\\n",
    "vwretx > Value-Weighted Return (excluding dividends)\\\n",
    "ewretd > Equal-Weighted Return (includes distributions)\\\n",
    "ewretx > Equal-Weighted Return (excluding dividends)\\\n",
    "totval > Total Market Value\\\n",
    "totcnt > Total Market Count\\\n",
    "usdval > Market Value of Securities Used\\\n",
    "usdcnt > Count of Securities Used\\\n",
    "sprtrn > Return on S&P Composite Index\\\n",
    "spindx > Level on S&P Composite Index"
   ]
  },
  {
   "cell_type": "code",
   "execution_count": null,
   "metadata": {},
   "outputs": [],
   "source": []
  }
 ],
 "metadata": {
  "kernelspec": {
   "display_name": "ETM_env",
   "language": "python",
   "name": "python3"
  },
  "language_info": {
   "codemirror_mode": {
    "name": "ipython",
    "version": 3
   },
   "file_extension": ".py",
   "mimetype": "text/x-python",
   "name": "python",
   "nbconvert_exporter": "python",
   "pygments_lexer": "ipython3",
   "version": "3.7.13"
  },
  "orig_nbformat": 4,
  "vscode": {
   "interpreter": {
    "hash": "2e814d5f901f2e2f1812217256e7a2386c6b3dac449e52472436b21a420d1617"
   }
  }
 },
 "nbformat": 4,
 "nbformat_minor": 2
}
