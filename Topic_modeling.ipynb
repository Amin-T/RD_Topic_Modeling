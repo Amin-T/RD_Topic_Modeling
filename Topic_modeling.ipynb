{
 "cells": [
  {
   "cell_type": "code",
   "execution_count": 1,
   "metadata": {
    "id": "b0X7JS2tDFLt"
   },
   "outputs": [],
   "source": [
    "import pandas as pd\n",
    "import numpy as np\n",
    "import os\n",
    "import re\n",
    "import pickle\n",
    "import matplotlib.pyplot as plt"
   ]
  },
  {
   "cell_type": "code",
   "execution_count": 2,
   "metadata": {
    "id": "J4Leq9o1xeXy"
   },
   "outputs": [
    {
     "data": {
      "text/html": [
       "<div>\n",
       "<style scoped>\n",
       "    .dataframe tbody tr th:only-of-type {\n",
       "        vertical-align: middle;\n",
       "    }\n",
       "\n",
       "    .dataframe tbody tr th {\n",
       "        vertical-align: top;\n",
       "    }\n",
       "\n",
       "    .dataframe thead th {\n",
       "        text-align: right;\n",
       "    }\n",
       "</style>\n",
       "<table border=\"1\" class=\"dataframe\">\n",
       "  <thead>\n",
       "    <tr style=\"text-align: right;\">\n",
       "      <th></th>\n",
       "      <th>cik</th>\n",
       "      <th>reporting year</th>\n",
       "      <th>filing date</th>\n",
       "      <th>Item 1A</th>\n",
       "    </tr>\n",
       "  </thead>\n",
       "  <tbody>\n",
       "    <tr>\n",
       "      <th>26</th>\n",
       "      <td>1627606</td>\n",
       "      <td>2018</td>\n",
       "      <td>20180419</td>\n",
       "      <td>We may also be subject to involuntary product ...</td>\n",
       "    </tr>\n",
       "    <tr>\n",
       "      <th>23</th>\n",
       "      <td>1138951</td>\n",
       "      <td>2007</td>\n",
       "      <td>20080313</td>\n",
       "      <td>Our international consumer business may not su...</td>\n",
       "    </tr>\n",
       "    <tr>\n",
       "      <th>37</th>\n",
       "      <td>1075066</td>\n",
       "      <td>2007</td>\n",
       "      <td>20080414</td>\n",
       "      <td>Our share price has been subject to extreme pr...</td>\n",
       "    </tr>\n",
       "    <tr>\n",
       "      <th>19</th>\n",
       "      <td>1001115</td>\n",
       "      <td>2015</td>\n",
       "      <td>20151119</td>\n",
       "      <td>We may experience difficulties in connection w...</td>\n",
       "    </tr>\n",
       "    <tr>\n",
       "      <th>7</th>\n",
       "      <td>1116521</td>\n",
       "      <td>2011</td>\n",
       "      <td>20111209</td>\n",
       "      <td>We cannot predict which competitors may enter ...</td>\n",
       "    </tr>\n",
       "    <tr>\n",
       "      <th>26</th>\n",
       "      <td>1487999</td>\n",
       "      <td>2012</td>\n",
       "      <td>20130221</td>\n",
       "      <td>When lessees default, we may fail to recover a...</td>\n",
       "    </tr>\n",
       "    <tr>\n",
       "      <th>12</th>\n",
       "      <td>1574774</td>\n",
       "      <td>2013</td>\n",
       "      <td>20140226</td>\n",
       "      <td>The success of our business is partially depen...</td>\n",
       "    </tr>\n",
       "    <tr>\n",
       "      <th>29</th>\n",
       "      <td>78239</td>\n",
       "      <td>2010</td>\n",
       "      <td>20100331</td>\n",
       "      <td>Our trademarks and other intellectual property...</td>\n",
       "    </tr>\n",
       "    <tr>\n",
       "      <th>17</th>\n",
       "      <td>1370489</td>\n",
       "      <td>2013</td>\n",
       "      <td>20140415</td>\n",
       "      <td>WE RELY ON ACCESS TO FUNDING FROM THE UNITED S...</td>\n",
       "    </tr>\n",
       "    <tr>\n",
       "      <th>42</th>\n",
       "      <td>21510</td>\n",
       "      <td>2005</td>\n",
       "      <td>20051215</td>\n",
       "      <td>Risks related to our industry\\nOur market is u...</td>\n",
       "    </tr>\n",
       "  </tbody>\n",
       "</table>\n",
       "</div>"
      ],
      "text/plain": [
       "        cik  reporting year  filing date  \\\n",
       "26  1627606            2018     20180419   \n",
       "23  1138951            2007     20080313   \n",
       "37  1075066            2007     20080414   \n",
       "19  1001115            2015     20151119   \n",
       "7   1116521            2011     20111209   \n",
       "26  1487999            2012     20130221   \n",
       "12  1574774            2013     20140226   \n",
       "29    78239            2010     20100331   \n",
       "17  1370489            2013     20140415   \n",
       "42    21510            2005     20051215   \n",
       "\n",
       "                                              Item 1A  \n",
       "26  We may also be subject to involuntary product ...  \n",
       "23  Our international consumer business may not su...  \n",
       "37  Our share price has been subject to extreme pr...  \n",
       "19  We may experience difficulties in connection w...  \n",
       "7   We cannot predict which competitors may enter ...  \n",
       "26  When lessees default, we may fail to recover a...  \n",
       "12  The success of our business is partially depen...  \n",
       "29  Our trademarks and other intellectual property...  \n",
       "17  WE RELY ON ACCESS TO FUNDING FROM THE UNITED S...  \n",
       "42  Risks related to our industry\\nOur market is u...  "
      ]
     },
     "execution_count": 2,
     "metadata": {},
     "output_type": "execute_result"
    }
   ],
   "source": [
    "rf_df = pd.read_csv('RF_df.csv', index_col=0)\n",
    "rf_df.dropna(inplace=True)\n",
    "rf_df.sample(10)"
   ]
  },
  {
   "cell_type": "code",
   "execution_count": null,
   "metadata": {
    "colab": {
     "base_uri": "https://localhost:8080/",
     "height": 300
    },
    "executionInfo": {
     "elapsed": 2682,
     "status": "ok",
     "timestamp": 1641302999625,
     "user": {
      "displayName": "Amin T.",
      "photoUrl": "https://lh3.googleusercontent.com/a-/AOh14GiRzO0P0KA7_C3Sr_h6fJ1vorfcN0-ZXW-Zn0wD3g=s64",
      "userId": "18045034436816550073"
     },
     "user_tz": -60
    },
    "id": "GzxDDfdTlMaE",
    "outputId": "78636451-a6d5-4365-d8a6-bb50e5308fcd"
   },
   "outputs": [],
   "source": [
    "word_cnt = rf_df['Item 1A'].map(lambda x: len(x.split()))\n",
    "Q05 = word_cnt.quantile(q=0.05)\n",
    "Q95 = word_cnt.quantile(q=0.95)\n",
    "\n",
    "print(f'5-th percentile: {Q05}')\n",
    "print(f'95-th percentile: {Q95}')\n",
    "\n",
    "fig = plt.figure(figsize=(10,6))\n",
    "plt.hist(word_cnt, bins=100)\n",
    "plt.show();"
   ]
  },
  {
   "cell_type": "code",
   "execution_count": 4,
   "metadata": {
    "id": "0DWdQJBdlMaN"
   },
   "outputs": [],
   "source": [
    "# Filter too short and too long risk factors\n",
    "filtered_rf_df = rf_df[(word_cnt>Q05) & (word_cnt<Q95)]\n",
    "\n",
    "# Create sample train data \n",
    "new_ind = (filtered_rf_df['cik'].map(str) + '-' + \n",
    "           filtered_rf_df['reporting year'].map(str) + '-' + \n",
    "           filtered_rf_df['filing date'].map(str) + '-' + \n",
    "           filtered_rf_df.index.map(str))\n",
    "\n",
    "# Sample data to train the topic models on 50% of the data, randomly selected\n",
    "raw_text_data = filtered_rf_df.set_index(new_ind)['Item 1A'].sample(len(filtered_rf_df)//2, random_state=101)"
   ]
  },
  {
   "cell_type": "markdown",
   "metadata": {
    "id": "KFWkrOqVUOvq"
   },
   "source": [
    "## **Model implementation**"
   ]
  },
  {
   "cell_type": "markdown",
   "metadata": {
    "id": "bVCeAaB7hmsu"
   },
   "source": [
    "### **Ensembe LDA**"
   ]
  },
  {
   "cell_type": "code",
   "execution_count": 5,
   "metadata": {
    "id": "DxGFEekQL1f0"
   },
   "outputs": [],
   "source": [
    "import gensim.corpora as corpora\n",
    "from gensim.models import EnsembleLda, CoherenceModel\n",
    "\n",
    "from text_tokenizer import tokenizer\n",
    "\n",
    "# Parameters:\n",
    "num_cpu = os.cpu_count()"
   ]
  },
  {
   "cell_type": "code",
   "execution_count": null,
   "metadata": {
    "id": "ssBQpuXRRhbL"
   },
   "outputs": [],
   "source": [
    "sample_tokens = tokenizer(raw_text_data, n_jobs=10)\n",
    "\n",
    "with open(\"LDA/sample_tokens.txt\", \"wb\") as fp:\n",
    "    pickle.dump(sample_tokens, fp)"
   ]
  },
  {
   "cell_type": "code",
   "execution_count": null,
   "metadata": {
    "id": "tPCT0JEsmpQm"
   },
   "outputs": [],
   "source": [
    "# Generate Dictionary\n",
    "lda_dict = corpora.Dictionary(sample_tokens)\n",
    "\n",
    "# Filter most common and rare words\n",
    "lda_dict.filter_extremes(no_below=100, no_above=99000)\n",
    "\n",
    "# Save lda_dict to disk\n",
    "lda_dict.save('LDA/lda_dict')"
   ]
  },
  {
   "cell_type": "code",
   "execution_count": null,
   "metadata": {
    "id": "vsYzcJ3pyZ_g"
   },
   "outputs": [],
   "source": [
    "# Creat corpus from Dictionary\n",
    "lda_dict = corpora.Dictionary.load('LDA/lda_dict')\n",
    "lda_corpus = [lda_dict.doc2bow(text) for text in sample_tokens]"
   ]
  },
  {
   "cell_type": "code",
   "execution_count": null,
   "metadata": {
    "id": "2lH_5nDIIzW6"
   },
   "outputs": [],
   "source": [
    "def compute_coherence_values(dictionary, corpus, limit, start=10, step=5):\n",
    "    \"\"\"\n",
    "    Compute coherence for num_topics in a specific range\n",
    "\n",
    "    Parameters:\n",
    "    ----------\n",
    "    dictionary : Gensim dictionary\n",
    "    corpus : Gensim corpus\n",
    "    texts : List of input texts\n",
    "    limit : Max num of topics\n",
    "\n",
    "    Returns:\n",
    "    -------\n",
    "    model_list : List of LDA topic models\n",
    "    coherence_values : Coherence values corresponding to the LDA model with respective number of topics\n",
    "    \"\"\"\n",
    "    coherence_model = {}\n",
    "    for num_topics in range(start, limit, step):\n",
    "\n",
    "        # Train ensemble LDA model\n",
    "        model = EnsembleLda(\n",
    "            topic_model_class='ldamulticore', corpus=corpus, id2word=dictionary, num_topics=num_topics, \n",
    "            num_models=5, random_state=101, ensemble_workers=num_cpu//2, distance_workers=num_cpu//2,\n",
    "            alpha='asymmetric' #, decay=0.5, offset=64 # best params from Hoffman paper\n",
    "            )\n",
    "        \n",
    "        cm = CoherenceModel(model=model, corpus=corpus, dictionary=dictionary, coherence='u_mass', )\n",
    "        cm_score = cm.get_coherence()\n",
    "        coherence_model[num_topics] = (cm_score, model)\n",
    "\n",
    "        print(f'Model with {num_topics} trained | Coherence score: {cm_score}')\n",
    "\n",
    "    return coherence_model"
   ]
  },
  {
   "cell_type": "code",
   "execution_count": null,
   "metadata": {
    "colab": {
     "base_uri": "https://localhost:8080/"
    },
    "executionInfo": {
     "elapsed": 6909087,
     "status": "ok",
     "timestamp": 1641393835773,
     "user": {
      "displayName": "Amin T.",
      "photoUrl": "https://lh3.googleusercontent.com/a-/AOh14GiRzO0P0KA7_C3Sr_h6fJ1vorfcN0-ZXW-Zn0wD3g=s64",
      "userId": "18045034436816550073"
     },
     "user_tz": -60
    },
    "id": "k2Y8V1jTKyGS",
    "outputId": "3875bc23-4634-4de1-b831-2a5d41630013"
   },
   "outputs": [],
   "source": [
    "coherence_model = compute_coherence_values(dictionary=lda_dict, corpus=lda_corpus, \n",
    "                                           limit=121, start=40, step=10)"
   ]
  },
  {
   "cell_type": "code",
   "execution_count": null,
   "metadata": {
    "colab": {
     "base_uri": "https://localhost:8080/",
     "height": 388
    },
    "executionInfo": {
     "elapsed": 12,
     "status": "ok",
     "timestamp": 1641394922848,
     "user": {
      "displayName": "Amin T.",
      "photoUrl": "https://lh3.googleusercontent.com/a-/AOh14GiRzO0P0KA7_C3Sr_h6fJ1vorfcN0-ZXW-Zn0wD3g=s64",
      "userId": "18045034436816550073"
     },
     "user_tz": -60
    },
    "id": "IFjD5VZ9LMaX",
    "outputId": "0c1fa25a-daf8-4616-f7d5-6c9e2cbb7e96"
   },
   "outputs": [],
   "source": [
    "num_topics = [len(x[1].stable_topics) for x in coherence_model.values()]#list(coherence_model.keys())\n",
    "coherence_values = [-x[0] for x in coherence_model.values()]\n",
    "\n",
    "fig = plt.figure(figsize=(10,6))\n",
    "plt.scatter(num_topics, coherence_values, alpha=0.5)\n",
    "plt.xlabel(\"Num Topics\")\n",
    "plt.ylabel(\"Coherence score\")\n",
    "plt.legend((\"coherence_values\"), loc='best')\n",
    "plt.show()"
   ]
  },
  {
   "cell_type": "code",
   "execution_count": null,
   "metadata": {
    "id": "f7WDEiUwGJJs"
   },
   "outputs": [],
   "source": [
    "max_c = max(coherence_model, key=lambda x: -coherence_model[x][0])\n",
    "best_model = coherence_model[max_c][1]\n",
    "\n",
    "best_model.save('LDA/best_lda')"
   ]
  },
  {
   "cell_type": "code",
   "execution_count": null,
   "metadata": {
    "colab": {
     "base_uri": "https://localhost:8080/"
    },
    "executionInfo": {
     "elapsed": 10,
     "status": "ok",
     "timestamp": 1641394995289,
     "user": {
      "displayName": "Amin T.",
      "photoUrl": "https://lh3.googleusercontent.com/a-/AOh14GiRzO0P0KA7_C3Sr_h6fJ1vorfcN0-ZXW-Zn0wD3g=s64",
      "userId": "18045034436816550073"
     },
     "user_tz": -60
    },
    "id": "rvT81mG1SXUM",
    "outputId": "d82d7f1f-6f1d-486c-c8b7-ebeeddcdc362"
   },
   "outputs": [
    {
     "name": "stdout",
     "output_type": "stream",
     "text": [
      "95\n"
     ]
    },
    {
     "data": {
      "text/plain": [
       "[(31,\n",
       "  '0.193*\"service\" + 0.078*\"provider\" + 0.044*\"provide\" + 0.030*\"arrangement\" + 0.027*\"network\" + 0.015*\"physician\" + 0.013*\"relationship\" + 0.011*\"ability\" + 0.011*\"maintain\" + 0.009*\"co\"'),\n",
       " (1,\n",
       "  '0.061*\"personnel\" + 0.057*\"retain\" + 0.039*\"key\" + 0.037*\"employee\" + 0.037*\"attract\" + 0.033*\"business\" + 0.029*\"qualified\" + 0.027*\"ability\" + 0.026*\"management\" + 0.019*\"depend\"'),\n",
       " (24,\n",
       "  '0.071*\"condition\" + 0.070*\"economic\" + 0.034*\"business\" + 0.033*\"result\" + 0.031*\"financial\" + 0.031*\"affect\" + 0.024*\"market\" + 0.024*\"adverse\" + 0.022*\"consumer\" + 0.021*\"demand\"'),\n",
       " (11,\n",
       "  '0.065*\"acquisition\" + 0.063*\"business\" + 0.046*\"acquire\" + 0.023*\"integrate\" + 0.023*\"operation\" + 0.019*\"result\" + 0.017*\"risk\" + 0.015*\"company\" + 0.015*\"management\" + 0.014*\"include\"'),\n",
       " (23,\n",
       "  '0.209*\"party\" + 0.182*\"third\" + 0.020*\"software\" + 0.016*\"service\" + 0.014*\"center\" + 0.013*\"business\" + 0.011*\"vendor\" + 0.010*\"use\" + 0.010*\"certain\" + 0.010*\"result\"'),\n",
       " (33,\n",
       "  '0.196*\"rate\" + 0.121*\"interest\" + 0.052*\"increase\" + 0.019*\"change\" + 0.016*\"variable\" + 0.014*\"risk\" + 0.013*\"result\" + 0.011*\"high\" + 0.011*\"affect\" + 0.010*\"dollar\"'),\n",
       " (27,\n",
       "  '0.150*\"plan\" + 0.053*\"pension\" + 0.046*\"benefit\" + 0.030*\"funding\" + 0.023*\"contribution\" + 0.023*\"employer\" + 0.018*\"employee\" + 0.017*\"fund\" + 0.016*\"asset\" + 0.016*\"obligation\"'),\n",
       " (35,\n",
       "  '0.088*\"insurance\" + 0.072*\"claim\" + 0.062*\"liability\" + 0.034*\"coverage\" + 0.022*\"cover\" + 0.021*\"loss\" + 0.020*\"result\" + 0.019*\"damage\" + 0.019*\"risk\" + 0.014*\"business\"'),\n",
       " (28,\n",
       "  '0.187*\"contract\" + 0.023*\"revenue\" + 0.019*\"government\" + 0.018*\"award\" + 0.016*\"cost\" + 0.015*\"result\" + 0.013*\"work\" + 0.013*\"customer\" + 0.012*\"profit\" + 0.011*\"fix\"'),\n",
       " (30,\n",
       "  '0.189*\"customer\" + 0.041*\"revenue\" + 0.030*\"significant\" + 0.024*\"result\" + 0.022*\"account\" + 0.020*\"sale\" + 0.020*\"business\" + 0.018*\"large\" + 0.018*\"purchase\" + 0.015*\"affect\"'),\n",
       " (8,\n",
       "  '0.140*\"gas\" + 0.129*\"oil\" + 0.075*\"natural\" + 0.045*\"price\" + 0.034*\"production\" + 0.016*\"drilling\" + 0.015*\"activity\" + 0.014*\"produce\" + 0.014*\"demand\" + 0.014*\"exploration\"'),\n",
       " (26,\n",
       "  '0.096*\"regulation\" + 0.070*\"law\" + 0.030*\"subject\" + 0.025*\"comply\" + 0.022*\"business\" + 0.019*\"state\" + 0.019*\"compliance\" + 0.017*\"operation\" + 0.016*\"regulatory\" + 0.016*\"requirement\"'),\n",
       " (14,\n",
       "  '0.095*\"statement\" + 0.055*\"forward\" + 0.051*\"look\" + 0.035*\"result\" + 0.021*\"future\" + 0.019*\"actual\" + 0.019*\"differ\" + 0.019*\"contain\" + 0.019*\"factor\" + 0.018*\"report\"'),\n",
       " (9,\n",
       "  '0.075*\"capital\" + 0.047*\"financing\" + 0.045*\"additional\" + 0.037*\"fund\" + 0.027*\"operation\" + 0.024*\"term\" + 0.024*\"obtain\" + 0.024*\"need\" + 0.023*\"debt\" + 0.022*\"cash\"'),\n",
       " (21,\n",
       "  '0.080*\"agreement\" + 0.060*\"employee\" + 0.053*\"work\" + 0.050*\"labor\" + 0.036*\"union\" + 0.028*\"stoppage\" + 0.025*\"collective\" + 0.024*\"bargaining\" + 0.023*\"result\" + 0.019*\"operation\"'),\n",
       " (20,\n",
       "  '0.187*\"product\" + 0.027*\"result\" + 0.026*\"recall\" + 0.021*\"reputation\" + 0.019*\"food\" + 0.017*\"liability\" + 0.016*\"cause\" + 0.015*\"consumer\" + 0.014*\"publicity\" + 0.014*\"quality\"'),\n",
       " (5,\n",
       "  '0.068*\"stock\" + 0.043*\"broker\" + 0.042*\"dealer\" + 0.037*\"penny\" + 0.033*\"security\" + 0.029*\"rule\" + 0.026*\"transaction\" + 0.024*\"sell\" + 0.022*\"market\" + 0.019*\"share\"'),\n",
       " (6,\n",
       "  '0.127*\"stock\" + 0.101*\"common\" + 0.083*\"price\" + 0.078*\"market\" + 0.034*\"trading\" + 0.030*\"share\" + 0.025*\"security\" + 0.014*\"investment\" + 0.014*\"investor\" + 0.014*\"trade\"'),\n",
       " (0,\n",
       "  '0.691*\"Company\" + 0.014*\"company\" + 0.009*\"operation\" + 0.008*\"backlog\" + 0.008*\"result\" + 0.006*\"assurance\" + 0.006*\"future\" + 0.005*\"significant\" + 0.005*\"impact\" + 0.005*\"reduce\"'),\n",
       " (37,\n",
       "  '0.116*\"credit\" + 0.045*\"facility\" + 0.036*\"bond\" + 0.027*\"surety\" + 0.021*\"require\" + 0.020*\"term\" + 0.020*\"obtain\" + 0.018*\"letter\" + 0.015*\"financial\" + 0.013*\"borrowing\"')]"
      ]
     },
     "execution_count": 36,
     "metadata": {},
     "output_type": "execute_result"
    }
   ],
   "source": [
    "print(max_c)\n",
    "best_model.print_topics()"
   ]
  },
  {
   "cell_type": "markdown",
   "metadata": {
    "id": "Jv61hdFphzGz"
   },
   "source": [
    "### Top2Vec"
   ]
  },
  {
   "cell_type": "code",
   "execution_count": null,
   "metadata": {
    "id": "2G4A36Y8jNw4"
   },
   "outputs": [],
   "source": [
    "rf_list = pd.read_csv('RF_df.csv', index_col=0)"
   ]
  },
  {
   "cell_type": "code",
   "execution_count": null,
   "metadata": {
    "id": "Mlg1kIi62Gkg"
   },
   "outputs": [],
   "source": [
    "def tokenizer_func(text):\n",
    "    \n",
    "    doc = nlp(text)\n",
    "    # Identify named entities\n",
    "    ents = [ent.lemma_ for ent in doc.ents]\n",
    "    # To remove stop words, punctuations, and currency tokens\n",
    "    mask = lambda t: not (t.is_stop or t.is_punct or t.is_currency or t.is_space or t.ent_iob_ !='O')\n",
    "    tokens = [tok.lemma_ for tok in filter(mask, doc)]\n",
    "    tokens.extend(ents)\n",
    "\n",
    "    return tokens"
   ]
  },
  {
   "cell_type": "code",
   "execution_count": null,
   "metadata": {
    "colab": {
     "base_uri": "https://localhost:8080/"
    },
    "executionInfo": {
     "elapsed": 13484056,
     "status": "ok",
     "timestamp": 1640098588254,
     "user": {
      "displayName": "Amin T.",
      "photoUrl": "https://lh3.googleusercontent.com/a-/AOh14GiRzO0P0KA7_C3Sr_h6fJ1vorfcN0-ZXW-Zn0wD3g=s64",
      "userId": "18045034436816550073"
     },
     "user_tz": -60
    },
    "id": "cn2UYpYHkU4n",
    "outputId": "d22643d0-23b8-413c-8ae3-e0b996ce15c0"
   },
   "outputs": [
    {
     "name": "stderr",
     "output_type": "stream",
     "text": [
      "2021-12-21 11:11:44,151 - top2vec - INFO - Pre-processing documents for training\n",
      "2021-12-21 11:50:09,364 - top2vec - INFO - Creating joint document/word embedding\n",
      "2021-12-21 14:52:27,308 - top2vec - INFO - Creating lower dimension embedding of documents\n",
      "/usr/local/lib/python3.7/dist-packages/numba/np/ufunc/parallel.py:363: NumbaWarning: The TBB threading layer requires TBB version 2019.5 or later i.e., TBB_INTERFACE_VERSION >= 11005. Found TBB_INTERFACE_VERSION = 9107. The TBB threading layer is disabled.\n",
      "  warnings.warn(problem)\n",
      "2021-12-21 14:56:13,577 - top2vec - INFO - Finding dense areas of documents\n",
      "2021-12-21 14:56:23,666 - top2vec - INFO - Finding topics\n"
     ]
    }
   ],
   "source": [
    "top2vec_model = Top2Vec(documents=sample_docs.tolist(), speed=\"deep-learn\", \n",
    "                        workers=10, document_ids=sample_docs.index.tolist(), tokenizer=tokenizer_func)"
   ]
  },
  {
   "cell_type": "code",
   "execution_count": null,
   "metadata": {
    "id": "5QmKts5DqfLV"
   },
   "outputs": [],
   "source": [
    "top2vec_model.save('top2vec_model')"
   ]
  },
  {
   "cell_type": "code",
   "execution_count": null,
   "metadata": {
    "colab": {
     "base_uri": "https://localhost:8080/"
    },
    "executionInfo": {
     "elapsed": 213,
     "status": "ok",
     "timestamp": 1640099026150,
     "user": {
      "displayName": "Amin T.",
      "photoUrl": "https://lh3.googleusercontent.com/a-/AOh14GiRzO0P0KA7_C3Sr_h6fJ1vorfcN0-ZXW-Zn0wD3g=s64",
      "userId": "18045034436816550073"
     },
     "user_tz": -60
    },
    "id": "zusXlmg9qIMJ",
    "outputId": "8bc992e2-383d-469c-f807-107013092dce"
   },
   "outputs": [
    {
     "name": "stdout",
     "output_type": "stream",
     "text": [
      "1762\n"
     ]
    },
    {
     "data": {
      "text/plain": [
       "array([['goodwill', 'impairment', 'intangible', ..., 'asc', 'estimate',\n",
       "        'deferred'],\n",
       "       ['weakness', 'misstatement', 'reporting', ..., 'scrutiny',\n",
       "        'disclosure', 'public'],\n",
       "       ['acceleration', 'default', 'repay', ..., 'subordinated',\n",
       "        'govern', 'lend'],\n",
       "       ...,\n",
       "       ['fela', 'highlight', 'suitable', ..., 'objective', 'discovery',\n",
       "        'purchaser'],\n",
       "       ['cfc', 'lockout', 'recycling', ..., 'bottle', 'espcs', 'rural'],\n",
       "       ['conformity', 'recycling', 'compliant', ..., 'principle',\n",
       "        'cayman', 'distributable']], dtype='<U18')"
      ]
     },
     "execution_count": 41,
     "metadata": {},
     "output_type": "execute_result"
    }
   ],
   "source": [
    "# Original script / custome tokenizer / 100000 random sample\n",
    "print(top2vec_model.get_num_topics())\n",
    "topic_words, word_scores, topic_nums = top2vec_model.get_topics()\n",
    "topic_words"
   ]
  }
 ],
 "metadata": {
  "colab": {
   "authorship_tag": "ABX9TyP87aBTKXjOrKo6tmA56ikQ",
   "collapsed_sections": [],
   "mount_file_id": "1LLWbIAthFypj-FmsPO-Q9OcBeli6j8fG",
   "name": "Topic_modeling.ipynb",
   "provenance": []
  },
  "kernelspec": {
   "display_name": "Python 3 (ipykernel)",
   "language": "python",
   "name": "python3"
  },
  "language_info": {
   "codemirror_mode": {
    "name": "ipython",
    "version": 3
   },
   "file_extension": ".py",
   "mimetype": "text/x-python",
   "name": "python",
   "nbconvert_exporter": "python",
   "pygments_lexer": "ipython3",
   "version": "3.9.7"
  }
 },
 "nbformat": 4,
 "nbformat_minor": 1
}
