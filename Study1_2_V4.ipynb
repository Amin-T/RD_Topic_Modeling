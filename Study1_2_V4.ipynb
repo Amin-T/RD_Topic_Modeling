{
 "cells": [
  {
   "cell_type": "code",
   "execution_count": 1,
   "metadata": {},
   "outputs": [],
   "source": [
    "# Import liberaries and functions\n",
    "import pandas as pd\n",
    "import numpy as np\n",
    "from scipy import stats\n",
    "\n",
    "import gc"
   ]
  },
  {
   "cell_type": "code",
   "execution_count": 2,
   "metadata": {},
   "outputs": [],
   "source": [
    "topics_df = pd.read_csv(\"Data/RF_text_attr.csv\", parse_dates=['report_dt', 'filing_dt'], index_col=0)\n",
    "\n",
    "companies = pd.read_csv('Data/all_companies.csv')\n",
    "\n",
    "topics_df = pd.merge(left=topics_df, right=companies[[\"SIC\", \"FF\"]].drop_duplicates(), on=\"SIC\", how='left')\n",
    "topics_df[\"FF\"] = topics_df[\"FF\"].fillna(48).astype(int)\n",
    "\n",
    "# Replace missing FOG scores with 1 (are those with less than 100 words)\n",
    "topics_df.fillna({'FOG': 1}, inplace=True)"
   ]
  },
  {
   "cell_type": "code",
   "execution_count": 5,
   "metadata": {},
   "outputs": [],
   "source": [
    "# Use historical SIC data (from Cumpustat) for industry analysis\n",
    "sich = pd.read_csv(\n",
    "    filepath_or_buffer=\"Data\\Financials.csv\",\n",
    "    parse_dates=['datadate'],\n",
    "    usecols=['cik', 'datadate', 'sich']\n",
    ").drop_duplicates()\n",
    "\n",
    "sich.sort_values(['cik', 'datadate'], inplace=True)\n",
    "sich[\"datadate\"] = pd.to_datetime(sich[\"datadate\"], format=\"%d/%m/%Y\")\n",
    "\n",
    "topics_df = pd.merge(\n",
    "    left=topics_df,\n",
    "    right=sich[[\n",
    "        'cik', 'datadate', 'sich']],\n",
    "    left_on=[\"CIK\", \"report_dt\"],\n",
    "    right_on=[\"cik\", \"datadate\"],\n",
    "    how=\"left\"\n",
    ").drop(columns=['datadate', 'cik'])\n",
    "\n",
    "topics_df['sich'] = topics_df['sich'].fillna(topics_df['SIC']).astype(int)"
   ]
  },
  {
   "cell_type": "code",
   "execution_count": 6,
   "metadata": {},
   "outputs": [],
   "source": [
    "# First 2 digits of SIC -> Major sector group\n",
    "topics_df['SIC2'] = topics_df['sich'].map(lambda x: f\"{int(x):04d}\"[:2])\n",
    "\n",
    "topics_df['SIC3'] = topics_df['sich'].map(lambda x: f\"{int(x):04d}\"[:3])"
   ]
  },
  {
   "attachments": {},
   "cell_type": "markdown",
   "metadata": {},
   "source": [
    "### Firm level"
   ]
  },
  {
   "cell_type": "code",
   "execution_count": 7,
   "metadata": {},
   "outputs": [],
   "source": [
    "# Risk topics disclosed and not disclosed per report \n",
    "disc_df = pd.pivot_table(\n",
    "    topics_df, index = [\"CIK\", \"filing_dt\", \"report_dt\", \"FF\", \"sich\"], \n",
    "    columns='Topic_H', values='Score'\n",
    ").notna().astype(int).reset_index()\n",
    "\n",
    "# Long format\n",
    "disc_long = pd.melt(disc_df, id_vars=[\"CIK\", \"filing_dt\", \"report_dt\", \"FF\", \"sich\"], value_name='Disclosed')\n",
    "disc_long.sort_values([\"CIK\", 'Topic_H', \"filing_dt\", \"report_dt\"], inplace=True)\n",
    "\n",
    "disc_long['DiscSum'] = disc_long.groupby([\"CIK\", 'Topic_H'])['Disclosed'].cumsum()\n",
    "\n",
    "# Total number of risk topics\n",
    "disc_long['TotalRFs'] = disc_long.groupby([\"CIK\", \"filing_dt\", \"report_dt\"])['Disclosed'].transform('sum')"
   ]
  },
  {
   "cell_type": "code",
   "execution_count": 8,
   "metadata": {},
   "outputs": [],
   "source": [
    "# Difference between disclosed risk topics in 2 consecutive years\n",
    "disc_diff = disc_df.filter(range(0,100)) - disc_df.groupby(\"CIK\")[disc_df.filter(range(0,100)).columns].shift(1)\n",
    "\n",
    "# Repeated risk factors\n",
    "disc_repeat = (\n",
    "    disc_df.filter(range(0,100))\n",
    "    + disc_df.groupby(\"CIK\")[disc_df.filter(range(0,100)).columns].shift(1) \n",
    "    == 2\n",
    ").astype(int)\n",
    "\n",
    "# Generate added, repeated and removed dummies\n",
    "disc_long['Added'] = (pd.melt(disc_diff)['value']>0).astype(int)\n",
    "disc_long['Removed'] = (pd.melt(disc_diff)['value']<0).astype(int)\n",
    "disc_long['Repeated'] = pd.melt(disc_repeat)['value']\n",
    "\n",
    "# Whether risk factor was disclosed in the previouse year's report\n",
    "disc_long['LstYrDisc'] = disc_long.sort_values(by=['CIK', 'Topic_H', 'filing_dt']).groupby(['CIK', 'Topic_H'])['Disclosed'].shift(1)"
   ]
  },
  {
   "cell_type": "code",
   "execution_count": 9,
   "metadata": {},
   "outputs": [],
   "source": [
    "# Keep RFs that if disclosed, they are either added or repeated\n",
    "disc_long = (\n",
    "    disc_long[disc_long[['Added', 'Repeated']]\n",
    "              .sum(axis=1)==disc_long['Disclosed']]\n",
    "              .reset_index(drop=True)\n",
    ")\n",
    "\n",
    "# Number of days from fiscal year end and actual filing date\n",
    "disc_long['rfGap'] = (disc_long['filing_dt'] - disc_long['report_dt']).dt.days\n",
    "\n",
    "disc_long['fyear'] = disc_long[\"filing_dt\"].dt.year\n",
    "disc_long['ryear'] = disc_long[\"report_dt\"].dt.year"
   ]
  },
  {
   "cell_type": "code",
   "execution_count": 10,
   "metadata": {},
   "outputs": [],
   "source": [
    "# Change in the repeated disclosed risk topics per report \n",
    "disc_change_df = pd.pivot_table(\n",
    "    topics_df, index = [\"CIK\", \"filing_dt\", \"report_dt\"], \n",
    "    columns='Topic_H', values='Score',\n",
    ").reset_index()\n",
    "\n",
    "# Long format\n",
    "disc_change_long = pd.melt(\n",
    "    disc_change_df, id_vars=[\"CIK\", \"filing_dt\", \"report_dt\"], value_name='Score'\n",
    ").dropna()\n",
    "\n",
    "disc_change_long['D_Score'] = disc_change_long['Score'] - disc_change_long.groupby([\"CIK\", \"Topic_H\"])['Score'].shift(1)"
   ]
  },
  {
   "cell_type": "code",
   "execution_count": 11,
   "metadata": {},
   "outputs": [],
   "source": [
    "disc_long = pd.merge(\n",
    "    left=disc_long,\n",
    "    right=disc_change_long,\n",
    "    on=['CIK', 'filing_dt', 'report_dt', 'Topic_H'],\n",
    "    how='left'\n",
    ")\n",
    "\n",
    "disc_long.fillna({'D_Score': 0}, inplace=True)"
   ]
  },
  {
   "cell_type": "code",
   "execution_count": 12,
   "metadata": {},
   "outputs": [],
   "source": [
    "# Length of disclosed RFs as the total number of words \n",
    "length_df = pd.pivot_table(\n",
    "    topics_df, index = [\"CIK\", \"filing_dt\", \"report_dt\"], \n",
    "    columns='Topic_H', values='rprt_length', aggfunc='sum',\n",
    "    fill_value=0 # NA length means not disclosed so equal to 0\n",
    ").reset_index()\n",
    "\n",
    "# Long format\n",
    "length_long = pd.melt(length_df, id_vars=[\"CIK\", \"filing_dt\", \"report_dt\"], value_name='RF_length')\n",
    "length_long.sort_values([\"CIK\", \"Topic_H\", \"filing_dt\", \"report_dt\"], inplace=True)\n",
    "\n",
    "# Change of the length of the topics over the year\n",
    "length_long['D_length'] = length_long['RF_length'] - length_long.groupby([\"CIK\", \"Topic_H\"])['RF_length'].shift(1)"
   ]
  },
  {
   "cell_type": "code",
   "execution_count": 13,
   "metadata": {},
   "outputs": [],
   "source": [
    "disc_long = pd.merge(\n",
    "    left=disc_long,\n",
    "    right=length_long,\n",
    "    on=['CIK', 'filing_dt', 'report_dt', 'Topic_H'],\n",
    "    how='left'\n",
    ")"
   ]
  },
  {
   "cell_type": "code",
   "execution_count": 14,
   "metadata": {},
   "outputs": [],
   "source": [
    "# Aggregate text attributes at the CIK-year-Topic level\n",
    "txt_attr = (\n",
    "    topics_df.groupby([\"CIK\", \"report_dt\", \"filing_dt\", \"Topic_H\"])[\n",
    "        ['Pa', 'Pr', 'Fu', 'Sentiment', 'FOG']\n",
    "    ]\n",
    "    .agg({\n",
    "        'Pa': 'sum',\n",
    "        'Pr': 'sum', \n",
    "        'Fu': 'sum',\n",
    "        'Sentiment': 'mean',\n",
    "        'FOG': 'mean',\n",
    "    }).reset_index()\n",
    ").sort_values([\"CIK\", \"report_dt\", \"filing_dt\", \"Topic_H\"])\n",
    "\n",
    "disc_long = pd.merge(\n",
    "    left=disc_long,\n",
    "    right=txt_attr,\n",
    "    on=['CIK', 'filing_dt', 'report_dt', 'Topic_H'],\n",
    "    how='left'\n",
    ")\n",
    "\n",
    "disc_long.fillna(\n",
    "    {'Pa':0, 'Pr':0, 'Fu':0, 'Sentiment':0, 'FOG':0}, \n",
    "    inplace=True\n",
    ")"
   ]
  },
  {
   "cell_type": "code",
   "execution_count": 15,
   "metadata": {},
   "outputs": [],
   "source": [
    "# SIC code of high-tech and regulated industries (Kothari, 2009)\n",
    "high_tech = []\n",
    "high_tech.extend(range(2833, 2837))\n",
    "high_tech.extend(range(3570, 3578))\n",
    "high_tech.extend(range(3600, 3675))\n",
    "high_tech.extend(range(7371, 7380))\n",
    "high_tech.extend(range(8731, 8735))\n",
    "\n",
    "regulated = [4812, 4813, 4833, 4841, 4922, 4923, 4924, 4931, 4941]\n",
    "regulated.extend(range(4811, 4900))\n",
    "\n",
    "disc_long['high_tech'] = disc_long['sich'].isin(high_tech).astype(int)\n",
    "disc_long['regulated'] = disc_long['sich'].isin(regulated).astype(int)\n",
    "\n",
    "# Some industries that are believed to have higher litigation risk\n",
    "# https://onlinelibrary.wiley.com/action/downloadSupplement?doi=10.1111%2Fjels.12115&file=jels12115-sup-0001-suppinfo.pdf\n",
    "# Biotech (SIC codes 2833–2836), computer Hardware (SIC codes 3570–3577), computer \n",
    "# Software (SIC codes 7371–7379), Retail (SIC codes 5200–5961), and Electronics (SIC codes \n",
    "# 3600–3674)"
   ]
  },
  {
   "attachments": {},
   "cell_type": "markdown",
   "metadata": {},
   "source": [
    "### Industry level"
   ]
  },
  {
   "cell_type": "code",
   "execution_count": null,
   "metadata": {},
   "outputs": [],
   "source": [
    "# Counting the actual number of firms per industry (using all-submissions from EDGAR)\n",
    "filings_df = pd.read_csv(\"Data/filings_df.csv\", parse_dates=[\"filingDate\", \"reportDate\"])\n",
    "\n",
    "filings_df.dropna(subset=[\"filingDate\", \"reportDate\", \"sic\"], inplace=True)\n",
    "\n",
    "filings_df = filings_df.sort_values(['cik', 'reportDate', 'filingDate']).drop_duplicates(keep='last')\n",
    "\n",
    "# Add historical SIC\n",
    "filings_df = pd.merge(\n",
    "    left=filings_df,\n",
    "    right=sich[[\n",
    "        'cik', 'datadate', 'sich']],\n",
    "    left_on=[\"cik\", \"reportDate\"],\n",
    "    right_on=[\"cik\", \"datadate\"],\n",
    "    how=\"left\"\n",
    ").drop(columns=['datadate'])\n",
    "\n",
    "filings_df['sich'] = filings_df['sich'].fillna(filings_df['sic']).astype(int)\n",
    "\n",
    "# Add Fama-French industry\n",
    "filings_df = pd.merge(\n",
    "    left=filings_df, right=companies[[\"SIC\", \"FF\"]].drop_duplicates(), \n",
    "    left_on=\"sich\", right_on=\"SIC\", how='left'\n",
    ").drop(columns=\"SIC\")\n",
    "\n",
    "filings_df[\"FF\"] = filings_df[\"FF\"].fillna(48).astype(int)"
   ]
  },
  {
   "cell_type": "code",
   "execution_count": null,
   "metadata": {},
   "outputs": [],
   "source": [
    "filings_df = filings_df[\n",
    "    (filings_df[\"filingDate\"] >= disc_df['filing_dt'].min())\n",
    "    &(filings_df[\"filingDate\"] <= disc_df['filing_dt'].max())\n",
    "]\n",
    "filings_df['fyear'] = filings_df[\"filingDate\"].dt.year\n",
    "\n",
    "# Number of reporting firms per year per industry\n",
    "cnt_firms = filings_df.groupby(['FF', 'fyear'])['filingDate'].nunique().reset_index()"
   ]
  },
  {
   "cell_type": "code",
   "execution_count": null,
   "metadata": {},
   "outputs": [],
   "source": [
    "# Number of firms in the industry\n",
    "disc_long['#firms'] = pd.merge(\n",
    "    left=disc_long,\n",
    "    right=cnt_firms,\n",
    "    on=['FF', 'fyear'],\n",
    "    how='left'\n",
    ")['filingDate']"
   ]
  },
  {
   "cell_type": "code",
   "execution_count": 22,
   "metadata": {},
   "outputs": [],
   "source": [
    "disc_df[\"filing_dt-1\"] = disc_df[\"filing_dt\"] - pd.Timedelta(weeks=52)\n",
    "\n",
    "def count_func(x):\n",
    "    \"\"\"\n",
    "    Counts the number of firms in the industry that disclose a specific RF.\n",
    "    \"\"\"\n",
    "    df_slice = disc_df[\n",
    "        (disc_df[\"filing_dt\"]>x[\"filing_dt-1\"])\n",
    "        &(disc_df[\"filing_dt\"]<=x[\"filing_dt\"])\n",
    "        &(disc_df['FF']==x['FF'])\n",
    "    ]\n",
    "    output = (\n",
    "        df_slice[df_slice['CIK']!=x['CIK']].filter(range(95)).sum() / df_slice[\"filing_dt\"].count()\n",
    "    )\n",
    "    \n",
    "    return output\n",
    "\n",
    "# Running the function on disc_df\n",
    "IndDisc_df = disc_df.drop(columns=range(95)).copy()\n",
    "IndDisc_df.loc[:, range(95)] = disc_df.apply(count_func, axis=1)\n",
    "IndDisc_df.drop(columns=['filing_dt-1'], inplace=True)\n",
    "\n",
    "\n",
    "# Create the data in long format\n",
    "Inddisc_long = pd.melt(IndDisc_df, id_vars=[\"CIK\", \"filing_dt\", \"report_dt\", \"FF\"], value_name='IndDisc')"
   ]
  },
  {
   "cell_type": "code",
   "execution_count": 23,
   "metadata": {},
   "outputs": [],
   "source": [
    "# Drop RFs that have never been disclosed per industry \n",
    "Inddisc_long = Inddisc_long[Inddisc_long.groupby(['FF', 'Topic_H'])['IndDisc'].transform('sum')>0]"
   ]
  },
  {
   "cell_type": "code",
   "execution_count": 24,
   "metadata": {},
   "outputs": [],
   "source": [
    "def other_count_func(x):\n",
    "    \"\"\"\n",
    "    Disclosing firms not in the firm's industry.\n",
    "    \"\"\"\n",
    "    df_slice = disc_df[\n",
    "        (disc_df[\"filing_dt\"]>x[\"filing_dt-1\"])&\n",
    "        (disc_df[\"filing_dt\"]<=x[\"filing_dt\"])&\n",
    "        (disc_df['FF']!=x['FF'])\n",
    "    ]\n",
    "    output = (\n",
    "        df_slice.filter(range(95)).sum() / df_slice[\"filing_dt\"].count()\n",
    "    )\n",
    "    \n",
    "    return output\n",
    "\n",
    "# Running the function on disc_df\n",
    "OthrIndDisc_df = disc_df.drop(columns=range(95)).copy()\n",
    "OthrIndDisc_df.loc[:, range(95)] = disc_df.apply(other_count_func, axis=1)\n",
    "OthrIndDisc_df.drop(columns=['filing_dt-1'], inplace=True)\n",
    "\n",
    "# Create the data in long format\n",
    "OthrIndDisc_long = pd.melt(OthrIndDisc_df, id_vars=[\"CIK\", \"filing_dt\", \"report_dt\", \"FF\"], value_name='OtherIndDisc')"
   ]
  },
  {
   "cell_type": "code",
   "execution_count": 25,
   "metadata": {},
   "outputs": [],
   "source": [
    "disc_long['IndDisc'] = pd.merge(\n",
    "    left=disc_long,\n",
    "    right=Inddisc_long,\n",
    "    on=[\"CIK\", \"filing_dt\", \"report_dt\", \"Topic_H\"],\n",
    "    how='left'\n",
    ")['IndDisc'] * 100\n",
    "\n",
    "disc_long['OtherIndDisc'] = pd.merge(\n",
    "    left=disc_long,\n",
    "    right=OthrIndDisc_long,\n",
    "    on=[\"CIK\", \"filing_dt\", \"report_dt\", \"Topic_H\"],\n",
    "    how='left'\n",
    ")['OtherIndDisc'] * 100"
   ]
  },
  {
   "cell_type": "code",
   "execution_count": 26,
   "metadata": {},
   "outputs": [],
   "source": [
    "# Drop the first year of every firm observation\n",
    "disc_long.dropna(subset=['LstYrDisc'], inplace=True)\n",
    "\n",
    "disc_long.dropna(subset=['IndDisc'], inplace=True)"
   ]
  },
  {
   "cell_type": "code",
   "execution_count": 27,
   "metadata": {},
   "outputs": [],
   "source": [
    "disc_long.reset_index(drop=True, inplace=True)"
   ]
  },
  {
   "cell_type": "markdown",
   "metadata": {},
   "source": [
    "Industry specific"
   ]
  },
  {
   "cell_type": "code",
   "execution_count": 19,
   "metadata": {},
   "outputs": [],
   "source": [
    "def ttest_func(x):\n",
    "    A = x['IndDisc'].values\n",
    "    B = x['OtherIndDisc'].values\n",
    "\n",
    "    tstat = stats.ttest_ind(a=A, b=B, equal_var=False).statistic\n",
    "    pvalue = stats.ttest_ind(a=A, b=B, equal_var=False).pvalue\n",
    "\n",
    "    return (tstat, pvalue)"
   ]
  },
  {
   "cell_type": "code",
   "execution_count": null,
   "metadata": {},
   "outputs": [],
   "source": [
    "ttest_df = disc_long.groupby(['FF', 'Topic_H'])[['IndDisc', 'OtherIndDisc']].mean()\n",
    "\n",
    "ttest = disc_long.groupby(['FF', 'Topic_H'])[['IndDisc', 'OtherIndDisc']].apply(ttest_func)\n",
    "\n",
    "ttest_df['tstat'] = ttest.apply(lambda x: x[0]).values\n",
    "ttest_df['pvalue'] = ttest.apply(lambda x: x[1]).values\n",
    "\n",
    "# IndDisc > NoIndDisc statistically significant at 5%\n",
    "ttest_df['IndSpecific'] = ((ttest_df['pvalue']<0.05)&(ttest_df['IndDisc']>ttest_df['OtherIndDisc'])).astype(int)"
   ]
  },
  {
   "cell_type": "code",
   "execution_count": null,
   "metadata": {},
   "outputs": [],
   "source": [
    "disc_long.loc[:, 'IndSpecific'] = pd.merge(\n",
    "    left=disc_long,\n",
    "    right=ttest_df,\n",
    "    how='left',\n",
    "    left_on=['FF', 'Topic_H'],\n",
    "    right_index=True\n",
    ")['IndSpecific'].values"
   ]
  },
  {
   "cell_type": "code",
   "execution_count": null,
   "metadata": {},
   "outputs": [],
   "source": [
    "# Industry disclosure quartiles\n",
    "disc_long.loc[:, 'Qcut'] = disc_long\\\n",
    "    .groupby('Topic_H')['IndDisc']\\\n",
    "        .transform(lambda x: pd.cut(x, 4, labels=False)).astype(int) + 1"
   ]
  },
  {
   "cell_type": "markdown",
   "metadata": {},
   "source": [
    "## DVs"
   ]
  },
  {
   "cell_type": "markdown",
   "metadata": {},
   "source": [
    "### Volatility and BA Spread"
   ]
  },
  {
   "cell_type": "code",
   "execution_count": 27,
   "metadata": {},
   "outputs": [
    {
     "data": {
      "text/plain": [
       "Index(['CIK', 'CLOSEPRICE', 'VOLUME', 'COMPANYMARKETCAP', 'TTLCMNSHARESOUT'], dtype='object')"
      ]
     },
     "execution_count": 27,
     "metadata": {},
     "output_type": "execute_result"
    }
   ],
   "source": [
    "prices_df = pd.read_csv(\"Data\\Prices.csv\", parse_dates=['Date'])\n",
    "prices_df.sort_values([\"Instrument\", \"Date\"], inplace=True)\n",
    "prices_df.rename(columns={\"Instrument\": \"CIK\", \"Date\": \"filing_dt\"}, inplace=True)\n",
    "prices_df = prices_df[prices_df[\"filing_dt\"]>'2005-01-01'].set_index('filing_dt')\n",
    "prices_df.columns"
   ]
  },
  {
   "cell_type": "code",
   "execution_count": 28,
   "metadata": {},
   "outputs": [],
   "source": [
    "# Daily shares turnover\n",
    "prices_df[\"SHRTURN\"] = prices_df[\"VOLUME\"] / prices_df[\"TTLCMNSHARESOUT\"]\n",
    "\n",
    "# Returns\n",
    "# prices_df[\"Return\"] = prices_df.groupby(\"CIK\")[\"CLOSEPRICE\"].pct_change(1)\n",
    "\n",
    "prices_df.loc[:, \"CLOSEPRICE\"] = prices_df.groupby(\"CIK\")[\"CLOSEPRICE\"].ffill(limit=1)\n",
    "prices_df[\"Return\"] = prices_df.groupby(\"CIK\")[\"CLOSEPRICE\"].pct_change(1, fill_method=None)"
   ]
  },
  {
   "cell_type": "code",
   "execution_count": 29,
   "metadata": {},
   "outputs": [],
   "source": [
    "# Combine the list of CIKs and filing date in main dataframe and prices df\n",
    "CIKdates = pd.concat(\n",
    "    [prices_df.reset_index()[[\"CIK\", \"filing_dt\"]], disc_df[[\"CIK\", \"filing_dt\"]]], \n",
    "    axis=0\n",
    ").drop_duplicates().sort_values([\"CIK\", \"filing_dt\"])\n",
    "\n",
    "prices_df.reset_index(inplace=True)\n",
    "prices_df = pd.merge(left=CIKdates, right=prices_df, on=[\"CIK\", \"filing_dt\"], how='left')\n",
    "prices_df.set_index('filing_dt', inplace=True)"
   ]
  },
  {
   "cell_type": "code",
   "execution_count": 30,
   "metadata": {},
   "outputs": [],
   "source": [
    "# Time window\n",
    "N = 30\n",
    "\n",
    "# Average of N-day std of daily returns\n",
    "std_returns = (\n",
    "    prices_df.groupby(\"CIK\")[\"Return\"]\n",
    "    .rolling(N, min_periods=N//2).std().to_frame()\n",
    ")\n",
    "# Window [2, 32]\n",
    "std_returns[f\"Volatility+{N}\"] = std_returns.groupby(\"CIK\")[\"Return\"].shift(-N-2)\n",
    "# Window [-32, -2]\n",
    "std_returns[f\"Volatility_{N}\"] = std_returns.groupby(\"CIK\")[\"Return\"].shift(2)\n",
    "\n",
    "# Window [-5, 60]\n",
    "std_returns[f\"Volatility+60\"] = prices_df.groupby(\"CIK\")[\"Return\"].rolling(65, min_periods=30).std().groupby(\"CIK\").shift(-60)\n",
    "\n",
    "# Average of 120-day std of daily returns\n",
    "std_returns[f\"Volatility_120\"] = prices_df.groupby(\"CIK\")[\"Return\"].rolling(120, min_periods=60).std()\n",
    "\n",
    "std_returns.drop(columns=\"Return\", inplace=True)"
   ]
  },
  {
   "cell_type": "code",
   "execution_count": 31,
   "metadata": {},
   "outputs": [],
   "source": [
    "# Average of N-day trade volumes during event\n",
    "N=10\n",
    "MA_vol = prices_df.groupby(\"CIK\")[\"SHRTURN\"].rolling(N, min_periods=6).mean().to_frame()\n",
    "MA_vol[f\"SHRTURN\"] = MA_vol.groupby(\"CIK\")[\"SHRTURN\"].shift(N//2)\n",
    "\n",
    "# Window [2, 7]\n",
    "MA_vol[\"SHRTURN+5\"] = prices_df.groupby(\"CIK\")[\"SHRTURN\"].rolling(5, min_periods=3).mean().shift(-7)\n",
    "# Window [-7, -2]\n",
    "MA_vol[\"SHRTURN_5\"] = prices_df.groupby(\"CIK\")[\"SHRTURN\"].rolling(5, min_periods=3).mean().shift(2)"
   ]
  },
  {
   "cell_type": "code",
   "execution_count": 32,
   "metadata": {},
   "outputs": [
    {
     "data": {
      "text/plain": [
       "Index(['CIK', 'HIGHPRICE', 'LOWPRICE', 'BIDPRICE', 'ASKPRICE', 'filing_dt'], dtype='object')"
      ]
     },
     "execution_count": 32,
     "metadata": {},
     "output_type": "execute_result"
    }
   ],
   "source": [
    "BidAsk_df = pd.read_csv(\"Data\\BidAsk.csv\",  parse_dates=['Date']).drop_duplicates()\n",
    "BidAsk_df.sort_values([\"Instrument\", \"Date\"], inplace=True)\n",
    "BidAsk_df.rename(columns={\"Instrument\": \"CIK\", \"Date\": \"filing_dt\"}, inplace=True)\n",
    "BidAsk_df = BidAsk_df[BidAsk_df[\"filing_dt\"]>'2005-01-01']\n",
    "BidAsk_df.columns"
   ]
  },
  {
   "cell_type": "code",
   "execution_count": 33,
   "metadata": {},
   "outputs": [],
   "source": [
    "BidAsk_df = pd.merge(\n",
    "    left=BidAsk_df, \n",
    "    right=prices_df.reset_index()[['CIK', 'filing_dt', 'CLOSEPRICE']], \n",
    "    on=['CIK', 'filing_dt'],\n",
    "    how='left'\n",
    ")"
   ]
  },
  {
   "cell_type": "code",
   "execution_count": 34,
   "metadata": {},
   "outputs": [],
   "source": [
    "BidAsk_df[\"BAspread\"] = (BidAsk_df[\"ASKPRICE\"] - BidAsk_df['BIDPRICE'])/BidAsk_df[\"CLOSEPRICE\"]\n",
    "\n",
    "BidAsk_df = pd.merge(left=CIKdates, right=BidAsk_df, on=[\"CIK\", \"filing_dt\"], how='left')\n",
    "BidAsk_df.set_index('filing_dt', inplace=True)"
   ]
  },
  {
   "cell_type": "code",
   "execution_count": 35,
   "metadata": {},
   "outputs": [],
   "source": [
    "N = 30\n",
    "\n",
    "# N-day moving average (trading days only)\n",
    "MA_BA = BidAsk_df.groupby('CIK')['BAspread'].rolling(N, min_periods=N//2).mean().to_frame()\n",
    "# Window [2, 32]\n",
    "MA_BA[f\"Spread+{N}\"] = MA_BA.groupby(\"CIK\")[\"BAspread\"].shift(-N-2)\n",
    "# Window [-32, -2]\n",
    "MA_BA[f\"Spread_{N}\"] = MA_BA.groupby(\"CIK\")[\"BAspread\"].shift(2)\n",
    "\n",
    "# Window [-5, 60]\n",
    "MA_BA[\"Spread+60\"] = BidAsk_df.groupby('CIK')['BAspread'].rolling(65, min_periods=30).mean().groupby(\"CIK\").shift(-60)\n",
    "\n",
    "# Average of 120-day bid-ask spread\n",
    "MA_BA[f\"Spread_120\"] = BidAsk_df.groupby('CIK')['BAspread'].rolling(120, min_periods=60).mean()\n",
    "\n",
    "MA_BA.drop(columns='BAspread', inplace=True)"
   ]
  },
  {
   "cell_type": "code",
   "execution_count": 36,
   "metadata": {},
   "outputs": [],
   "source": [
    "IVol = pd.read_csv(\"Data\\WRDS_Beta.csv\", \n",
    "                   usecols=['PERMNO', 'DATE', 'n', 'b_mkt', 'ivol', 'TICKER'], \n",
    "                   parse_dates=['DATE'])"
   ]
  },
  {
   "cell_type": "code",
   "execution_count": 37,
   "metadata": {},
   "outputs": [],
   "source": [
    "CIK_PERMNO_TIC = pd.read_csv(\"Data\\CIK_PERMNO_TIC.csv\")\n",
    "\n",
    "IVol = pd.merge(\n",
    "    left=IVol,\n",
    "    right=CIK_PERMNO_TIC[['PERMNO', 'cik']],\n",
    "    on='PERMNO',\n",
    "    how='left'\n",
    ")\n",
    "\n",
    "IVol['cik2'] = pd.merge(\n",
    "    left=IVol,\n",
    "    right=CIK_PERMNO_TIC[['tic', 'cik']],\n",
    "    left_on='TICKER',\n",
    "    right_on='tic',\n",
    "    how='left'\n",
    ")['cik_y']\n",
    "\n",
    "IVol.fillna({'cik': IVol['cik2']}, inplace=True)"
   ]
  },
  {
   "cell_type": "code",
   "execution_count": 38,
   "metadata": {},
   "outputs": [],
   "source": [
    "IVol = IVol.drop(columns=['cik2']).dropna(subset=['cik', 'DATE'])\n",
    "\n",
    "IVol[['cik']] = IVol[['cik']].astype(int)\n",
    "IVol.rename(columns={\"cik\": \"CIK\", \"DATE\": \"filing_dt\"}, inplace=True)\n",
    "IVol = IVol.sort_values(by=[\"CIK\", \"filing_dt\"]).reset_index(drop=True)"
   ]
  },
  {
   "cell_type": "code",
   "execution_count": 39,
   "metadata": {},
   "outputs": [],
   "source": [
    "IVol['ivol'] = IVol['ivol'].str.replace('%', '').astype(float)\n",
    "IVol[\"Fwrd_ivol\"] = IVol.groupby(\"CIK\")[\"ivol\"].shift(-60)"
   ]
  },
  {
   "cell_type": "code",
   "execution_count": 40,
   "metadata": {},
   "outputs": [],
   "source": [
    "# Combine the list of CIKs and filing date in main dataframe and prices df\n",
    "CIKdates = pd.concat(\n",
    "    [IVol[[\"CIK\", \"filing_dt\"]], disc_df[[\"CIK\", \"filing_dt\"]]], \n",
    "    axis=0\n",
    ").drop_duplicates().sort_values([\"CIK\", \"filing_dt\"])\n",
    "\n",
    "IVol = pd.merge(left=CIKdates, right=IVol, on=[\"CIK\", \"filing_dt\"], how='left')\n",
    "\n",
    "IVol[['b_mkt', 'ivol', 'Fwrd_ivol']] = IVol.groupby('CIK')[['b_mkt', 'ivol', 'Fwrd_ivol']].ffill(limit=3)\n",
    "\n",
    "IVol.drop(columns=['PERMNO', 'n', 'TICKER'], inplace=True)"
   ]
  },
  {
   "cell_type": "markdown",
   "metadata": {},
   "source": [
    "### Earnings Estimates"
   ]
  },
  {
   "cell_type": "code",
   "execution_count": 31,
   "metadata": {},
   "outputs": [],
   "source": [
    "EPSEst = pd.read_csv(\"Data\\EIKON_EPSforecast.csv\", parse_dates=['TR.EPSESTVALUE().DATE', 'TR.EPSESTVALUE().periodenddate'])\n",
    "EPSAct = pd.read_csv(\"Data\\EIKON_EPSActual.csv\", parse_dates=['Date', 'Report Date', 'Period End Date'])\n"
   ]
  },
  {
   "cell_type": "code",
   "execution_count": null,
   "metadata": {},
   "outputs": [],
   "source": [
    "\n",
    "EPSEst = pd.merge(\n",
    "    left=EPSEst,\n",
    "    right=EPSAct.drop(columns=['Date']),\n",
    "    on=['Instrument', 'Period End Date'],\n",
    "    how='left'\n",
    ")\n",
    "\n",
    "# Absolute diff actual and estimated earings\n",
    "EPSEst[\"Act-Est\"] = (EPSEst['Earnings Per Share - Actual'] - EPSEst['Earnings Per Share - Broker Estimate'])\n",
    "\n",
    "EPSEst = EPSEst.sort_values(['Instrument', 'Period End Date', 'Date']).reset_index(drop=True)"
   ]
  },
  {
   "cell_type": "code",
   "execution_count": 34,
   "metadata": {},
   "outputs": [],
   "source": [
    "# Last fiscal year end\n",
    "FYEnd = EPSEst[['Instrument', 'TR.EPSESTVALUE().periodenddate']].drop_duplicates().reset_index(drop=True)\n",
    "FYEnd['FYEnd-1'] = (\n",
    "    FYEnd.groupby(['Instrument'])['TR.EPSESTVALUE().periodenddate'].shift(1)\n",
    ")\n",
    "\n",
    "EPSEst = pd.merge(\n",
    "    left=EPSEst,\n",
    "    right=FYEnd,\n",
    "    on=['Instrument', 'TR.EPSESTVALUE().periodenddate'],\n",
    "    how='left'\n",
    ").dropna(subset=['FYEnd-1'])\n",
    "\n",
    "EPSEst[\"FY-1\"] = EPSEst['FYEnd-1'].dt.year"
   ]
  },
  {
   "cell_type": "code",
   "execution_count": 35,
   "metadata": {},
   "outputs": [],
   "source": [
    "# Risk disclosure dates\n",
    "disc_dts = disc_df[[\"CIK\", \"filing_dt\", \"report_dt\"]].copy()\n",
    "disc_dts['FY-1'] = disc_dts['report_dt'].dt.year\n",
    "disc_dts.drop_duplicates(subset=['CIK', 'FY-1'], inplace=True)\n",
    "\n",
    "# Match estimation errors with filing date\n",
    "EPSEst = pd.merge(\n",
    "    left=EPSEst,\n",
    "    right=disc_dts,\n",
    "    left_on=['Instrument', 'FY-1'],\n",
    "    right_on=[\"CIK\", 'FY-1'],\n",
    "    how='left'\n",
    ").dropna(subset=['CIK'])\n",
    "\n",
    "EPSEst['CIK'] = EPSEst['CIK'].astype(int)"
   ]
  },
  {
   "cell_type": "code",
   "execution_count": 40,
   "metadata": {},
   "outputs": [],
   "source": [
    "# Estimates after filing date of last annual report\n",
    "EPSEst['After'] = (\n",
    "    (EPSEst['TR.EPSESTVALUE().DATE'].dt.date >= EPSEst['filing_dt']-pd.Timedelta(weeks=1))\n",
    "    & (EPSEst['TR.EPSESTVALUE().DATE'].dt.date < EPSEst['filing_dt']+pd.Timedelta(days=90))\n",
    ").astype(int)"
   ]
  },
  {
   "cell_type": "code",
   "execution_count": 43,
   "metadata": {},
   "outputs": [
    {
     "data": {
      "text/html": [
       "<div>\n",
       "<style scoped>\n",
       "    .dataframe tbody tr th:only-of-type {\n",
       "        vertical-align: middle;\n",
       "    }\n",
       "\n",
       "    .dataframe tbody tr th {\n",
       "        vertical-align: top;\n",
       "    }\n",
       "\n",
       "    .dataframe thead th {\n",
       "        text-align: right;\n",
       "    }\n",
       "</style>\n",
       "<table border=\"1\" class=\"dataframe\">\n",
       "  <thead>\n",
       "    <tr style=\"text-align: right;\">\n",
       "      <th></th>\n",
       "      <th>Instrument</th>\n",
       "      <th>TR.EPSESTVALUE().DATE</th>\n",
       "      <th>TR.EPSESTVALUE().periodenddate</th>\n",
       "      <th>TR.EPSESTVALUE().analystcode</th>\n",
       "      <th>TR.EPSESTVALUE()</th>\n",
       "      <th>FYEnd-1</th>\n",
       "      <th>FY-1</th>\n",
       "      <th>CIK</th>\n",
       "      <th>filing_dt</th>\n",
       "      <th>report_dt</th>\n",
       "      <th>After</th>\n",
       "    </tr>\n",
       "  </thead>\n",
       "  <tbody>\n",
       "    <tr>\n",
       "      <th>0</th>\n",
       "      <td>1750</td>\n",
       "      <td>2007-03-22 11:28:00+00:00</td>\n",
       "      <td>2007-05-31</td>\n",
       "      <td>11ZW</td>\n",
       "      <td>1.39895</td>\n",
       "      <td>2006-05-31</td>\n",
       "      <td>2006</td>\n",
       "      <td>1750</td>\n",
       "      <td>2006-07-17</td>\n",
       "      <td>2006-05-31</td>\n",
       "      <td>0</td>\n",
       "    </tr>\n",
       "    <tr>\n",
       "      <th>1</th>\n",
       "      <td>1750</td>\n",
       "      <td>2007-03-22 16:15:00+00:00</td>\n",
       "      <td>2007-05-31</td>\n",
       "      <td>4CAH</td>\n",
       "      <td>1.40894</td>\n",
       "      <td>2006-05-31</td>\n",
       "      <td>2006</td>\n",
       "      <td>1750</td>\n",
       "      <td>2006-07-17</td>\n",
       "      <td>2006-05-31</td>\n",
       "      <td>0</td>\n",
       "    </tr>\n",
       "    <tr>\n",
       "      <th>2</th>\n",
       "      <td>1750</td>\n",
       "      <td>2007-03-27 08:28:00+00:00</td>\n",
       "      <td>2007-05-31</td>\n",
       "      <td>51BZ</td>\n",
       "      <td>1.39895</td>\n",
       "      <td>2006-05-31</td>\n",
       "      <td>2006</td>\n",
       "      <td>1750</td>\n",
       "      <td>2006-07-17</td>\n",
       "      <td>2006-05-31</td>\n",
       "      <td>0</td>\n",
       "    </tr>\n",
       "    <tr>\n",
       "      <th>3</th>\n",
       "      <td>1750</td>\n",
       "      <td>2007-03-30 08:04:00+00:00</td>\n",
       "      <td>2007-05-31</td>\n",
       "      <td>3XVH</td>\n",
       "      <td>1.38896</td>\n",
       "      <td>2006-05-31</td>\n",
       "      <td>2006</td>\n",
       "      <td>1750</td>\n",
       "      <td>2006-07-17</td>\n",
       "      <td>2006-05-31</td>\n",
       "      <td>0</td>\n",
       "    </tr>\n",
       "    <tr>\n",
       "      <th>4</th>\n",
       "      <td>1750</td>\n",
       "      <td>2007-04-12 07:12:00+00:00</td>\n",
       "      <td>2007-05-31</td>\n",
       "      <td>3QFZ</td>\n",
       "      <td>1.39895</td>\n",
       "      <td>2006-05-31</td>\n",
       "      <td>2006</td>\n",
       "      <td>1750</td>\n",
       "      <td>2006-07-17</td>\n",
       "      <td>2006-05-31</td>\n",
       "      <td>0</td>\n",
       "    </tr>\n",
       "    <tr>\n",
       "      <th>...</th>\n",
       "      <td>...</td>\n",
       "      <td>...</td>\n",
       "      <td>...</td>\n",
       "      <td>...</td>\n",
       "      <td>...</td>\n",
       "      <td>...</td>\n",
       "      <td>...</td>\n",
       "      <td>...</td>\n",
       "      <td>...</td>\n",
       "      <td>...</td>\n",
       "      <td>...</td>\n",
       "    </tr>\n",
       "    <tr>\n",
       "      <th>448364</th>\n",
       "      <td>1868941</td>\n",
       "      <td>2022-08-18 08:36:00+00:00</td>\n",
       "      <td>2022-09-30</td>\n",
       "      <td>6W9F</td>\n",
       "      <td>-1.56400</td>\n",
       "      <td>2021-09-30</td>\n",
       "      <td>2021</td>\n",
       "      <td>1868941</td>\n",
       "      <td>2021-12-14</td>\n",
       "      <td>2021-09-30</td>\n",
       "      <td>0</td>\n",
       "    </tr>\n",
       "    <tr>\n",
       "      <th>448365</th>\n",
       "      <td>1868941</td>\n",
       "      <td>2022-08-18 11:51:00+00:00</td>\n",
       "      <td>2022-09-30</td>\n",
       "      <td>88UJ</td>\n",
       "      <td>-1.67000</td>\n",
       "      <td>2021-09-30</td>\n",
       "      <td>2021</td>\n",
       "      <td>1868941</td>\n",
       "      <td>2021-12-14</td>\n",
       "      <td>2021-09-30</td>\n",
       "      <td>0</td>\n",
       "    </tr>\n",
       "    <tr>\n",
       "      <th>448366</th>\n",
       "      <td>1868941</td>\n",
       "      <td>2022-09-01 19:09:00+00:00</td>\n",
       "      <td>2022-09-30</td>\n",
       "      <td>NaN</td>\n",
       "      <td>-1.19000</td>\n",
       "      <td>2021-09-30</td>\n",
       "      <td>2021</td>\n",
       "      <td>1868941</td>\n",
       "      <td>2021-12-14</td>\n",
       "      <td>2021-09-30</td>\n",
       "      <td>0</td>\n",
       "    </tr>\n",
       "    <tr>\n",
       "      <th>448367</th>\n",
       "      <td>1868941</td>\n",
       "      <td>2022-09-13 08:40:00+00:00</td>\n",
       "      <td>2022-09-30</td>\n",
       "      <td>8H7M</td>\n",
       "      <td>-1.97000</td>\n",
       "      <td>2021-09-30</td>\n",
       "      <td>2021</td>\n",
       "      <td>1868941</td>\n",
       "      <td>2021-12-14</td>\n",
       "      <td>2021-09-30</td>\n",
       "      <td>0</td>\n",
       "    </tr>\n",
       "    <tr>\n",
       "      <th>448368</th>\n",
       "      <td>1868941</td>\n",
       "      <td>2022-10-20 17:18:00+00:00</td>\n",
       "      <td>2022-09-30</td>\n",
       "      <td>NaN</td>\n",
       "      <td>-1.20000</td>\n",
       "      <td>2021-09-30</td>\n",
       "      <td>2021</td>\n",
       "      <td>1868941</td>\n",
       "      <td>2021-12-14</td>\n",
       "      <td>2021-09-30</td>\n",
       "      <td>0</td>\n",
       "    </tr>\n",
       "  </tbody>\n",
       "</table>\n",
       "<p>162134 rows × 11 columns</p>\n",
       "</div>"
      ],
      "text/plain": [
       "        Instrument     TR.EPSESTVALUE().DATE TR.EPSESTVALUE().periodenddate  \\\n",
       "0             1750 2007-03-22 11:28:00+00:00                     2007-05-31   \n",
       "1             1750 2007-03-22 16:15:00+00:00                     2007-05-31   \n",
       "2             1750 2007-03-27 08:28:00+00:00                     2007-05-31   \n",
       "3             1750 2007-03-30 08:04:00+00:00                     2007-05-31   \n",
       "4             1750 2007-04-12 07:12:00+00:00                     2007-05-31   \n",
       "...            ...                       ...                            ...   \n",
       "448364     1868941 2022-08-18 08:36:00+00:00                     2022-09-30   \n",
       "448365     1868941 2022-08-18 11:51:00+00:00                     2022-09-30   \n",
       "448366     1868941 2022-09-01 19:09:00+00:00                     2022-09-30   \n",
       "448367     1868941 2022-09-13 08:40:00+00:00                     2022-09-30   \n",
       "448368     1868941 2022-10-20 17:18:00+00:00                     2022-09-30   \n",
       "\n",
       "       TR.EPSESTVALUE().analystcode  TR.EPSESTVALUE()    FYEnd-1  FY-1  \\\n",
       "0                              11ZW           1.39895 2006-05-31  2006   \n",
       "1                              4CAH           1.40894 2006-05-31  2006   \n",
       "2                              51BZ           1.39895 2006-05-31  2006   \n",
       "3                              3XVH           1.38896 2006-05-31  2006   \n",
       "4                              3QFZ           1.39895 2006-05-31  2006   \n",
       "...                             ...               ...        ...   ...   \n",
       "448364                         6W9F          -1.56400 2021-09-30  2021   \n",
       "448365                         88UJ          -1.67000 2021-09-30  2021   \n",
       "448366                          NaN          -1.19000 2021-09-30  2021   \n",
       "448367                         8H7M          -1.97000 2021-09-30  2021   \n",
       "448368                          NaN          -1.20000 2021-09-30  2021   \n",
       "\n",
       "            CIK  filing_dt  report_dt  After  \n",
       "0          1750 2006-07-17 2006-05-31      0  \n",
       "1          1750 2006-07-17 2006-05-31      0  \n",
       "2          1750 2006-07-17 2006-05-31      0  \n",
       "3          1750 2006-07-17 2006-05-31      0  \n",
       "4          1750 2006-07-17 2006-05-31      0  \n",
       "...         ...        ...        ...    ...  \n",
       "448364  1868941 2021-12-14 2021-09-30      0  \n",
       "448365  1868941 2021-12-14 2021-09-30      0  \n",
       "448366  1868941 2021-12-14 2021-09-30      0  \n",
       "448367  1868941 2021-12-14 2021-09-30      0  \n",
       "448368  1868941 2021-12-14 2021-09-30      0  \n",
       "\n",
       "[162134 rows x 11 columns]"
      ]
     },
     "execution_count": 43,
     "metadata": {},
     "output_type": "execute_result"
    }
   ],
   "source": [
    "EPSEst#[EPSEst['After']==1]"
   ]
  },
  {
   "cell_type": "code",
   "execution_count": null,
   "metadata": {},
   "outputs": [],
   "source": [
    "\n",
    "# Standasrd deviation fo analyst forecasts and Analyst forecast errors after filing date\n",
    "EPSEst_After = (\n",
    "    EPSEst[EPSEst['After']==1]\n",
    "    .groupby(['CIK', 'FY-1'])[['Earnings Per Share - Broker Estimate', 'Earnings Per Share - Actual', 'Act-Est']]\n",
    "    .agg({'Earnings Per Share - Broker Estimate': 'std', 'Act-Est': 'mean', 'Earnings Per Share - Actual': 'mean'})\n",
    ")\n",
    "EPSEst_After['nEsts'] = EPSEst[EPSEst['After']==1].groupby(['CIK', 'FY-1'])['Analyst Code'].nunique()\n",
    "EPSEst_After.rename(columns={'Earnings Per Share - Broker Estimate': 'EPSEst'}, inplace=True)\n",
    "\n",
    "EPSEst_After.reset_index(inplace=True)\n",
    "\n",
    "EPSEst['Before'] = (\n",
    "    (EPSEst['Date'] < EPSEst['filing_dt']-pd.Timedelta(weeks=1))\n",
    "    & (EPSEst['Date'] >= EPSEst['filing_dt']-pd.Timedelta(days=90))\n",
    ").astype(int)\n",
    "\n",
    "\n",
    "# Standasrd deviation fo analyst forecasts and Analyst forecast errors Before filing date\n",
    "EPSEst_Before = (\n",
    "    EPSEst[EPSEst['Before']==1]\n",
    "    .groupby(['CIK', 'FY-1'])[['Earnings Per Share - Broker Estimate', 'Act-Est']]\n",
    "    .agg({'Earnings Per Share - Broker Estimate': 'std', 'Act-Est': 'mean'})\n",
    ")\n",
    "\n",
    "EPSEst_Before.rename(columns={'Earnings Per Share - Broker Estimate': 'EPSEst'}, inplace=True)\n",
    "\n",
    "EPSEst_Before.reset_index(inplace=True)"
   ]
  },
  {
   "cell_type": "code",
   "execution_count": 45,
   "metadata": {},
   "outputs": [],
   "source": [
    "EPSEst_After = pd.merge(\n",
    "    left=EPSEst_After,\n",
    "    right=EPSEst_Before,\n",
    "    on=['CIK', 'FY-1'],\n",
    "    how='outer',\n",
    "    suffixes=['', '_before']\n",
    ")"
   ]
  },
  {
   "cell_type": "markdown",
   "metadata": {},
   "source": [
    "## Control variables"
   ]
  },
  {
   "cell_type": "code",
   "execution_count": 46,
   "metadata": {},
   "outputs": [
    {
     "data": {
      "text/plain": [
       "Index(['Date', 'Instrument', 'Beta_90', 'Beta_120', 'Beta_250', 'AR', 'CAR_5',\n",
       "       'CAR_10', 'CAR_2'],\n",
       "      dtype='object')"
      ]
     },
     "execution_count": 46,
     "metadata": {},
     "output_type": "execute_result"
    }
   ],
   "source": [
    "Beta = pd.read_csv(\"Data\\Beta_AR.csv\", parse_dates=['Date'])\n",
    "Beta.drop_duplicates(inplace=True)\n",
    "Beta.columns"
   ]
  },
  {
   "cell_type": "code",
   "execution_count": 47,
   "metadata": {},
   "outputs": [],
   "source": [
    "Beta.rename(columns={\"Instrument\": \"CIK\", \"Date\": \"filing_dt\"}, inplace=True)\n",
    "Beta = pd.merge(left=CIKdates, right=Beta, on=[\"CIK\", \"filing_dt\"], how='left')\n",
    "Beta.set_index('filing_dt', inplace=True)"
   ]
  },
  {
   "cell_type": "code",
   "execution_count": 48,
   "metadata": {},
   "outputs": [],
   "source": [
    "# Daily Beta\n",
    "Beta[\"BETA+120\"] = Beta.groupby('CIK')[\"Beta_120\"].shift(-120)\n",
    "Beta[\"BETA+90\"] = Beta.groupby('CIK')[\"Beta_90\"].shift(-90)"
   ]
  },
  {
   "cell_type": "code",
   "execution_count": 49,
   "metadata": {},
   "outputs": [],
   "source": [
    "Analysts = pd.read_csv(\"Data\\Analysts.csv\")\n",
    "Analysts.dropna(inplace=True)\n",
    "\n",
    "Analysts.columns = ['Instrument', 'NUMBEROFANALYSTS', 'Date']\n",
    "Analysts['Date'] = pd.to_datetime(Analysts['Date'], errors='coerce').dt.tz_localize(None)"
   ]
  },
  {
   "cell_type": "code",
   "execution_count": 50,
   "metadata": {},
   "outputs": [],
   "source": [
    "Analyst_df = pd.merge(\n",
    "    left=prices_df.reset_index()[[\"filing_dt\", \"CIK\"]], \n",
    "    right=Analysts, \n",
    "    left_on=[\"filing_dt\", \"CIK\"],\n",
    "    right_on=[\"Date\", \"Instrument\"],\n",
    "    how=\"outer\"\n",
    ").drop(columns=[\"Date\", \"Instrument\"])\n",
    "\n",
    "Analyst_df = Analyst_df[(Analyst_df[\"filing_dt\"]>'2005-01-01')&(Analyst_df[\"filing_dt\"]<'2023-01-01')]\n",
    "\n",
    "Analyst_df.sort_values(['CIK', 'filing_dt', 'NUMBEROFANALYSTS'], inplace=True)"
   ]
  },
  {
   "cell_type": "code",
   "execution_count": 51,
   "metadata": {},
   "outputs": [],
   "source": [
    "Analyst_df[\"NUMBEROFANALYSTS\"] = Analyst_df.groupby(\"CIK\")[\"NUMBEROFANALYSTS\"].ffill()\n",
    "Analyst_df.drop_duplicates(subset=[\"filing_dt\", \"CIK\"], keep='last', inplace=True)\n",
    "Analyst_df.fillna(0, inplace=True)"
   ]
  },
  {
   "cell_type": "code",
   "execution_count": 52,
   "metadata": {},
   "outputs": [],
   "source": [
    "FF_rtrn = pd.read_csv(\"48_Industry_Portfolios_daily_CSV/IndustryDaily.csv\")\n",
    "FF_rtrn[\"Date\"] = pd.to_datetime(FF_rtrn[\"Date\"], format=\"%Y%m%d\")\n",
    "FF_rtrn = FF_rtrn[FF_rtrn[\"Date\"]>=\"2004-01-01\"].set_index(\"Date\")"
   ]
  },
  {
   "cell_type": "code",
   "execution_count": 53,
   "metadata": {},
   "outputs": [],
   "source": [
    "FF_vol = FF_rtrn.rolling(120).std().dropna().unstack().reset_index()\n",
    "FF_vol.rename(columns={\"level_0\": \"FF\", \"level_1\": \"Date\", 0: \"IndVol_\"}, inplace=True)\n",
    "FF_vol[\"FF\"] = FF_vol[\"FF\"].astype(int)\n",
    "\n",
    "FF_vol[\"IndVol+\"] = FF_vol.groupby(\"FF\")['IndVol_'].shift(-120)"
   ]
  },
  {
   "cell_type": "code",
   "execution_count": 54,
   "metadata": {},
   "outputs": [],
   "source": [
    "FreeFloat = pd.read_csv(\"Data/FreeFloat.csv\")\n",
    "\n",
    "FreeFloat.dropna(inplace=True)\n",
    "\n",
    "FreeFloat.columns = ['CIK', 'filing_dt', 'FREEFLOAT']\n",
    "FreeFloat['filing_dt'] = pd.to_datetime(FreeFloat['filing_dt'], errors='coerce').dt.tz_localize(None)\n",
    "\n",
    "FreeFloat['CIK'] = FreeFloat['CIK'].astype(int)\n",
    "\n",
    "FreeFloat.sort_values(by=['CIK', 'filing_dt'], inplace=True)"
   ]
  },
  {
   "cell_type": "code",
   "execution_count": 55,
   "metadata": {},
   "outputs": [],
   "source": [
    "# Combine the list of CIKs and filing date in main dataframe and prices df\n",
    "CIKdates = pd.concat(\n",
    "    [FreeFloat[[\"CIK\", \"filing_dt\"]], disc_df[[\"CIK\", \"filing_dt\"]]], \n",
    "    axis=0\n",
    ").drop_duplicates().sort_values([\"CIK\", \"filing_dt\"])\n",
    "\n",
    "FreeFloat = pd.merge(left=CIKdates, right=FreeFloat, on=[\"CIK\", \"filing_dt\"], how='left')\n",
    "\n",
    "FreeFloat['FREEFLOAT'] = FreeFloat.groupby('CIK')['FREEFLOAT'].ffill(limit=3)"
   ]
  },
  {
   "cell_type": "code",
   "execution_count": 56,
   "metadata": {},
   "outputs": [],
   "source": [
    "financials = pd.read_csv(\"Data\\Financials3.csv\").drop_duplicates()\n",
    "financials['datadate'] = pd.to_datetime(financials['datadate'])"
   ]
  },
  {
   "cell_type": "code",
   "execution_count": 57,
   "metadata": {},
   "outputs": [],
   "source": [
    "# Leverage\n",
    "financials[\"DtA\"] = financials[\"dt\"] / financials[\"at\"].replace(0, np.nan)\n",
    "financials[\"DtEBITDA\"] = financials[\"dt\"] / financials[\"ebitda\"].replace(0, np.nan)\n",
    "\n",
    "# Profitability\n",
    "financials[\"ROE\"] = financials[\"ni\"] / financials[\"seq\"].replace(0, np.nan)\n",
    "financials[\"NPM\"] = financials[\"ni\"] / financials[\"revt\"].replace(0, np.nan) # net profit margin\n",
    "\n",
    "# Firm size\n",
    "financials[\"logMC\"] = np.log(financials[\"mkvalt\"].replace(0, np.nan))\n",
    "financials[\"logTA\"] = np.log(financials[\"at\"].replace(0, np.nan))\n",
    "\n",
    "# Intangible assets\n",
    "financials[\"RtINT\"] = financials[\"revt\"] / financials[\"intan\"].replace(0, np.nan)\n",
    "financials[\"INTtA\"] = financials[\"intan\"] / financials[\"at\"].replace(0, np.nan) \n",
    "\n",
    "# Liquidity\n",
    "financials[\"current\"] = financials[\"act\"] / financials[\"lct\"].replace(0, np.nan)\n",
    "\n",
    "# Other\n",
    "financials[\"TobinQ\"] = financials[\"mkvalt\"] / financials[\"at\"].replace(0, np.nan)\n",
    "financials[\"BtM\"] = financials[\"seq\"] / financials[\"mkvalt\"].replace(0, np.nan)\n",
    "\n",
    "# R&D intensity\n",
    "financials[\"RDxopr\"] = financials[\"xrd\"].fillna(0) / financials[\"xopr\"].replace(0, np.nan)\n",
    "financials[\"ProprietaryCost\"] = financials[\"xrd\"].fillna(0) / financials.groupby('cik')[\"at\"].shift(1).replace(0, np.nan)\n",
    "\n",
    "# %change in earnings\n",
    "financials[\"ni\"] = financials.groupby(\"cik\")[\"ni\"].ffill(limit=1)\n",
    "financials[\"DEarnings\"] = financials.groupby(\"cik\")[\"ni\"].pct_change(1, fill_method=None)\n",
    "financials.replace({\"DEarnings\": [-np.Inf, np.Inf]}, np.nan, inplace=True)"
   ]
  },
  {
   "cell_type": "code",
   "execution_count": 58,
   "metadata": {},
   "outputs": [],
   "source": [
    "financials['ryear'] = financials['datadate'].dt.year\n",
    "financials['rmonth'] = financials['datadate'].dt.month"
   ]
  },
  {
   "cell_type": "code",
   "execution_count": 59,
   "metadata": {},
   "outputs": [
    {
     "data": {
      "text/plain": [
       "Index(['cik', 'datadate', 'act', 'at', 'dt', 'ebit', 'ebitda', 'intan', 'lct',\n",
       "       'lt', 'ni', 'revt', 'seq', 'teq', 'xopr', 'xrd', 'xt', 'naicsh', 'sich',\n",
       "       'mkvalt', 'naics', 'sic', 'DtA', 'DtEBITDA', 'ROE', 'NPM', 'logMC',\n",
       "       'logTA', 'RtINT', 'INTtA', 'current', 'TobinQ', 'BtM', 'RDxopr',\n",
       "       'ProprietaryCost', 'DEarnings', 'ryear', 'rmonth'],\n",
       "      dtype='object')"
      ]
     },
     "execution_count": 59,
     "metadata": {},
     "output_type": "execute_result"
    }
   ],
   "source": [
    "financials.columns"
   ]
  },
  {
   "cell_type": "code",
   "execution_count": 60,
   "metadata": {},
   "outputs": [],
   "source": [
    "Owner = pd.read_csv(\"Data\\EIKON_Ownership.csv\", parse_dates=['Date'])\n",
    "\n",
    "Invetors = [\n",
    "    'Bank and Trust', 'Corporation', 'Hedge Fund', 'Insurance Company',\n",
    "    'Investment Advisor/Hedge Fund', 'Pension Fund', 'Research Firm',\n",
    "    'Sovereign Wealth Fund', 'Venture Capital', 'Foundation',\n",
    "    'Endowment Fund', 'Holding Company', 'Independent Research Firm',\n",
    "    'Private Equity', 'Mutual Fund', 'Institution', 'Hedge Fund Portfolio',\n",
    "    'Government Agency', 'Exchange-Traded Fund', 'Brokerage Firms']\n",
    "\n",
    "Owner = Owner[Owner['Category Value'].isin(Invetors)].groupby(['Instrument', 'Date'])['Category Percent Of Traded Shares'].sum().reset_index()"
   ]
  },
  {
   "cell_type": "code",
   "execution_count": 61,
   "metadata": {},
   "outputs": [],
   "source": [
    "ICW = pd.read_csv(\"Data/ICW.csv\", parse_dates=['FYE_IC_OP', 'FILE_DATE'])\n",
    "\n",
    "ICW.sort_values(['COMPANY_FKEY', 'FILE_DATE'], inplace=True)\n",
    "\n",
    "ICW[\"OPyr\"] = ICW['FYE_IC_OP'].dt.year\n",
    "ICW[\"fyear\"] = ICW['FILE_DATE'].dt.year"
   ]
  },
  {
   "cell_type": "code",
   "execution_count": 62,
   "metadata": {},
   "outputs": [],
   "source": [
    "ICW['Big4'] = ICW['OP_AUD_NAME'].str.contains(r'Deloitte|KPMG|Ernst|Pricewaterhouse').astype(int)\n",
    "\n",
    "ICW_gr = ICW.groupby(['COMPANY_FKEY', 'FILE_DATE'])[['COUNT_WEAK', 'Big4']].max().reset_index()\n",
    "ICW_gr2 = ICW.groupby(['COMPANY_FKEY', 'fyear'])[['COUNT_WEAK', 'Big4']].max().reset_index()"
   ]
  },
  {
   "cell_type": "code",
   "execution_count": 63,
   "metadata": {},
   "outputs": [],
   "source": [
    "disc_long = pd.merge(\n",
    "    left=disc_long,\n",
    "    right=ICW_gr,\n",
    "    left_on=['CIK', 'filing_dt'],\n",
    "    right_on=['COMPANY_FKEY', 'FILE_DATE'],\n",
    "    how=\"left\"\n",
    ").drop(columns=['COMPANY_FKEY', 'FILE_DATE'])"
   ]
  },
  {
   "cell_type": "code",
   "execution_count": 64,
   "metadata": {},
   "outputs": [],
   "source": [
    "disc_long[['COUNT_WEAK_2', 'Big4_2']] = pd.merge(\n",
    "    left=disc_long,\n",
    "    right=ICW_gr2,\n",
    "    left_on=['CIK', 'fyear'],\n",
    "    right_on=['COMPANY_FKEY', 'fyear'],\n",
    "    how=\"left\"\n",
    ")[['COUNT_WEAK_y', 'Big4_y']]"
   ]
  },
  {
   "cell_type": "code",
   "execution_count": 65,
   "metadata": {},
   "outputs": [],
   "source": [
    "disc_long.fillna({'COUNT_WEAK': disc_long['COUNT_WEAK_2']}, inplace=True)\n",
    "disc_long.fillna({'Big4': disc_long['Big4_2']}, inplace=True)\n",
    "\n",
    "disc_long.drop(columns=['COUNT_WEAK_2', 'Big4_2'], inplace=True)"
   ]
  },
  {
   "attachments": {},
   "cell_type": "markdown",
   "metadata": {},
   "source": [
    "## Merge data"
   ]
  },
  {
   "cell_type": "code",
   "execution_count": 66,
   "metadata": {},
   "outputs": [],
   "source": [
    "disc_long = pd.merge(\n",
    "    left=disc_long,\n",
    "    right=EPSEst_After,\n",
    "    left_on=[\"CIK\", \"ryear\"],\n",
    "    right_on=[\"CIK\", 'FY-1'],\n",
    "    how=\"left\"\n",
    ").drop(columns=['FY-1'])"
   ]
  },
  {
   "cell_type": "code",
   "execution_count": 67,
   "metadata": {},
   "outputs": [],
   "source": [
    "disc_long = pd.merge(\n",
    "    left=disc_long,\n",
    "    right=IVol,\n",
    "    on=[\"CIK\", \"filing_dt\"],\n",
    "    how=\"left\"\n",
    ")"
   ]
  },
  {
   "cell_type": "code",
   "execution_count": 68,
   "metadata": {},
   "outputs": [],
   "source": [
    "rprt_length = (\n",
    "    topics_df.groupby([\"CIK\", \"report_dt\", \"filing_dt\"])['rprt_length'].sum()\n",
    ").reset_index().drop_duplicates(subset=[\"CIK\", \"filing_dt\", \"report_dt\"])\n",
    "\n",
    "disc_long = pd.merge(\n",
    "    left=disc_long, \n",
    "    right=rprt_length,\n",
    "    on=[\"CIK\", \"filing_dt\", \"report_dt\"],\n",
    "    how='left'\n",
    ")"
   ]
  },
  {
   "cell_type": "code",
   "execution_count": 69,
   "metadata": {},
   "outputs": [],
   "source": [
    "disc_long = pd.merge(\n",
    "    left=disc_long,\n",
    "    right=std_returns,\n",
    "    left_on=[\"CIK\", \"filing_dt\"],\n",
    "    right_index=True,\n",
    "    how=\"left\"\n",
    ")\n",
    "\n",
    "disc_long = pd.merge(\n",
    "    left=disc_long,\n",
    "    right=MA_BA,\n",
    "    left_on=[\"CIK\", \"filing_dt\"],\n",
    "    right_index=True,\n",
    "    how=\"left\"\n",
    ")\n",
    "\n",
    "disc_long = pd.merge(\n",
    "    left=disc_long,\n",
    "    right=MA_vol,\n",
    "    left_on=[\"CIK\", \"filing_dt\"],\n",
    "    right_index=True,\n",
    "    how=\"left\"\n",
    ")"
   ]
  },
  {
   "cell_type": "code",
   "execution_count": 70,
   "metadata": {},
   "outputs": [],
   "source": [
    "disc_long = pd.merge(\n",
    "    left=disc_long,\n",
    "    right=Beta.reset_index()[[\n",
    "        'CIK', 'filing_dt', \n",
    "        'BETA+120', 'Beta_120', 'BETA+90',\n",
    "        'CAR_5', 'CAR_2'\n",
    "    ]],\n",
    "    on=[\"CIK\", \"filing_dt\"],\n",
    "    how=\"left\"\n",
    ")\n",
    "\n",
    "disc_long = pd.merge(\n",
    "    left=disc_long,\n",
    "    right=Analyst_df[[\"CIK\", \"filing_dt\", 'NUMBEROFANALYSTS']],\n",
    "    on=[\"CIK\", \"filing_dt\"],\n",
    "    how=\"left\"\n",
    ")\n"
   ]
  },
  {
   "cell_type": "code",
   "execution_count": 71,
   "metadata": {},
   "outputs": [],
   "source": [
    "disc_long = pd.merge(\n",
    "    left=disc_long,\n",
    "    right=FF_vol,\n",
    "    left_on=[\"FF\", \"filing_dt\"],\n",
    "    right_on=[\"FF\", \"Date\"],\n",
    "    how=\"left\"\n",
    ").drop(columns=\"Date\")\n",
    "\n",
    "disc_long = pd.merge(\n",
    "    left=disc_long,\n",
    "    right=FreeFloat,\n",
    "    on=[\"CIK\", \"filing_dt\"],\n",
    "    how=\"left\"\n",
    ")"
   ]
  },
  {
   "cell_type": "code",
   "execution_count": 72,
   "metadata": {},
   "outputs": [],
   "source": [
    "disc_long[\"rmonth\"] = disc_long['report_dt'].dt.month\n",
    "\n",
    "disc_long = pd.merge(\n",
    "    left=disc_long,\n",
    "    right=financials[[\n",
    "        'cik', 'datadate', 'ryear', 'rmonth', 'DEarnings', 'DtA', 'DtEBITDA', 'ROE', 'NPM', 'mkvalt', 'logMC',\n",
    "        'at', 'logTA', 'RtINT', 'INTtA', 'current', 'TobinQ', 'BtM', 'RDxopr', 'ProprietaryCost'\n",
    "    ]],\n",
    "    left_on=[\"CIK\", \"ryear\", \"rmonth\"],\n",
    "    right_on=[\"cik\", \"ryear\", \"rmonth\"],\n",
    "    how=\"left\"\n",
    ").drop(columns=['datadate', 'cik', 'rmonth'])"
   ]
  },
  {
   "cell_type": "code",
   "execution_count": 73,
   "metadata": {},
   "outputs": [],
   "source": [
    "disc_long[\"fmonth\"] = disc_long['filing_dt'].dt.month\n",
    "\n",
    "Owner['fyear'] = Owner['Date'].dt.year\n",
    "Owner['fmonth'] = Owner['Date'].dt.month\n",
    "\n",
    "disc_long = pd.merge(\n",
    "    left=disc_long,\n",
    "    right=Owner,\n",
    "    left_on=[\"CIK\", \"fyear\", \"fmonth\"],\n",
    "    right_on=[\"Instrument\", \"fyear\", \"fmonth\"],\n",
    "    how=\"left\"\n",
    ").drop(columns=['Instrument', 'Date', 'fmonth'])"
   ]
  },
  {
   "cell_type": "code",
   "execution_count": 74,
   "metadata": {},
   "outputs": [
    {
     "data": {
      "text/plain": [
       "(2670871, 81)"
      ]
     },
     "execution_count": 74,
     "metadata": {},
     "output_type": "execute_result"
    }
   ],
   "source": [
    "disc_long.shape"
   ]
  },
  {
   "cell_type": "code",
   "execution_count": 75,
   "metadata": {},
   "outputs": [
    {
     "data": {
      "text/plain": [
       "Index(['CIK', 'filing_dt', 'report_dt', 'FF', 'sich', 'Topic_H', 'Disclosed',\n",
       "       'DiscSum', 'TotalRFs', 'Added', 'Removed', 'Repeated', 'LstYrDisc',\n",
       "       'rfGap', 'fyear', 'ryear', 'Score', 'D_Score', 'RF_length', 'D_length',\n",
       "       'Pa', 'Pr', 'Fu', 'Sentiment', 'FOG', 'high_tech', 'regulated',\n",
       "       '#firms', 'IndDisc', 'OtherIndDisc', 'IndSpecific', 'Qcut',\n",
       "       'COUNT_WEAK', 'Big4', 'EPSEst', 'Act-Est',\n",
       "       'Earnings Per Share - Actual', 'nEsts', 'EPSEst_before',\n",
       "       'Act-Est_before', 'b_mkt', 'ivol', 'Fwrd_ivol', 'rprt_length',\n",
       "       'Volatility+30', 'Volatility_30', 'Volatility+60', 'Volatility_120',\n",
       "       'Spread+30', 'Spread_30', 'Spread+60', 'Spread_120', 'SHRTURN',\n",
       "       'SHRTURN+5', 'SHRTURN_5', 'BETA+120', 'Beta_120', 'BETA+90', 'CAR_5',\n",
       "       'CAR_2', 'NUMBEROFANALYSTS', 'IndVol_', 'IndVol+', 'FREEFLOAT',\n",
       "       'DEarnings', 'DtA', 'DtEBITDA', 'ROE', 'NPM', 'mkvalt', 'logMC', 'at',\n",
       "       'logTA', 'RtINT', 'INTtA', 'current', 'TobinQ', 'BtM', 'RDxopr',\n",
       "       'ProprietaryCost', 'Category Percent Of Traded Shares'],\n",
       "      dtype='object')"
      ]
     },
     "execution_count": 75,
     "metadata": {},
     "output_type": "execute_result"
    }
   ],
   "source": [
    "disc_long.columns"
   ]
  },
  {
   "cell_type": "code",
   "execution_count": 76,
   "metadata": {},
   "outputs": [
    {
     "data": {
      "text/plain": [
       "2308677"
      ]
     },
     "execution_count": 76,
     "metadata": {},
     "output_type": "execute_result"
    }
   ],
   "source": [
    "disc_long['Act-Est'].isna().sum()"
   ]
  },
  {
   "cell_type": "code",
   "execution_count": 77,
   "metadata": {},
   "outputs": [],
   "source": [
    "disc_long.to_csv('Data\\study1_data2_V4.csv', index=False)"
   ]
  },
  {
   "cell_type": "code",
   "execution_count": 2,
   "metadata": {},
   "outputs": [],
   "source": [
    "import pandas as pd\n",
    "import matplotlib.pyplot as plt\n",
    "%matplotlib inline\n",
    "plt.style.use('seaborn-v0_8')\n",
    "plt.rc('figure', autolayout=True)"
   ]
  },
  {
   "cell_type": "code",
   "execution_count": 3,
   "metadata": {},
   "outputs": [],
   "source": [
    "df = pd.read_csv('Data\\study1_data2_V4.csv')"
   ]
  },
  {
   "cell_type": "code",
   "execution_count": 4,
   "metadata": {},
   "outputs": [],
   "source": [
    "t2v_df = (\n",
    "    pd.read_csv(\"Top2Vec\\T2V_df_H95.csv\", parse_dates=['Report_dt', 'Filing_dt'])\n",
    "    .set_index(\"index\").drop(columns=['Docs'])\n",
    ")"
   ]
  },
  {
   "cell_type": "code",
   "execution_count": 5,
   "metadata": {},
   "outputs": [],
   "source": [
    "df2 = t2v_df[t2v_df['CIK'].isin(df[\"CIK\"].unique())]"
   ]
  },
  {
   "cell_type": "code",
   "execution_count": 6,
   "metadata": {},
   "outputs": [],
   "source": [
    "df3 = df2.groupby('Topic')['CIK'].count().sort_values(ascending=False)*100/df2.shape[0]"
   ]
  },
  {
   "cell_type": "code",
   "execution_count": 7,
   "metadata": {},
   "outputs": [
    {
     "data": {
      "text/plain": [
       "Topic\n",
       "0       1.495511\n",
       "1       2.940616\n",
       "2       4.135487\n",
       "3       5.244583\n",
       "4       6.066794\n",
       "         ...    \n",
       "90     27.842987\n",
       "98     27.974982\n",
       "102    28.106036\n",
       "95     28.236664\n",
       "105    28.363618\n",
       "Name: CIK, Length: 100, dtype: float64"
      ]
     },
     "execution_count": 7,
     "metadata": {},
     "output_type": "execute_result"
    }
   ],
   "source": [
    "df3[:100].cumsum()"
   ]
  },
  {
   "cell_type": "code",
   "execution_count": 8,
   "metadata": {},
   "outputs": [
    {
     "data": {
      "image/png": "[encoded data removed]",
      "text/plain": [
       "<Figure size 800x550 with 1 Axes>"
      ]
     },
     "metadata": {},
     "output_type": "display_data"
    }
   ],
   "source": [
    "df3[:100].plot.bar(fontsize = 14)\n",
    "plt.ylabel('Frequency (%)', fontsize = 16)\n",
    "plt.xlabel('Risk factor cluster', fontsize = 16)\n",
    "\n",
    "a = [1]\n",
    "a.extend(range(10, 100, 10))\n",
    "plt.xticks(a, rotation = 0);"
   ]
  },
  {
   "cell_type": "code",
   "execution_count": null,
   "metadata": {},
   "outputs": [],
   "source": []
  }
 ],
 "metadata": {
  "kernelspec": {
   "display_name": "Python 3.7.13 ('ETM_env')",
   "language": "python",
   "name": "python3"
  },
  "language_info": {
   "codemirror_mode": {
    "name": "ipython",
    "version": 3
   },
   "file_extension": ".py",
   "mimetype": "text/x-python",
   "name": "python",
   "nbconvert_exporter": "python",
   "pygments_lexer": "ipython3",
   "version": "3.10.14"
  },
  "orig_nbformat": 4,
  "vscode": {
   "interpreter": {
    "hash": "2e814d5f901f2e2f1812217256e7a2386c6b3dac449e52472436b21a420d1617"
   }
  }
 },
 "nbformat": 4,
 "nbformat_minor": 2
}
