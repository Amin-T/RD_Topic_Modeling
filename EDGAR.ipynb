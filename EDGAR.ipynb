{
 "cells": [
  {
   "cell_type": "code",
   "execution_count": null,
   "id": "e910260f",
   "metadata": {},
   "outputs": [],
   "source": [
    "from bs4 import BeautifulSoup\n",
    "import requests\n",
    "import pandas as pd\n",
    "import re\n",
    "import json\n",
    "import time\n",
    "from tqdm.auto import tqdm\n",
    "from multiprocessing import Pool\n",
    "import glob"
   ]
  },
  {
   "cell_type": "code",
   "execution_count": null,
   "id": "a730891d",
   "metadata": {},
   "outputs": [],
   "source": [
    "# # !python -m spacy download en_core_web_sm\n",
    "# import spacy\n",
    "\n",
    "# nlp = spacy.load('en_core_web_sm')"
   ]
  },
  {
   "cell_type": "code",
   "execution_count": null,
   "id": "72ef4eab",
   "metadata": {},
   "outputs": [],
   "source": [
    "def make_request(url, params=None, headers=None, max_retries = 5):\n",
    "\n",
    "    current_tries = 1\n",
    "    while current_tries < max_retries:\n",
    "        response = requests.get(url=url, params=params, headers=headers)\n",
    "        \n",
    "        if response.status_code == 200:\n",
    "            return response\n",
    "        else:\n",
    "            time.sleep(1)\n",
    "            current_tries += 1\n",
    "            \n",
    "    return requests.get(url=url, params=params, headers=headers)"
   ]
  },
  {
   "cell_type": "markdown",
   "id": "84e4688d",
   "metadata": {},
   "source": [
    "# Companies by SIC "
   ]
  },
  {
   "cell_type": "code",
   "execution_count": null,
   "id": "01a9a4e9",
   "metadata": {},
   "outputs": [],
   "source": [
    "def SIC_search(search_params):\n",
    "    \"\"\"\n",
    "    Search the list of companies by SIC code\n",
    "    >>> https://www.sec.gov/cgi-bin/browse-edgar?company=&match=&filenum=&State=&Country=&SIC=1000&myowner=exclude&action=getcompany\n",
    "    \"\"\"\n",
    "    \n",
    "    url = \"https://www.sec.gov/cgi-bin/browse-edgar\"\n",
    "    \n",
    "    headers = {\n",
    "        'User-Agent': 'kuleuven amin.tavakkolnia@kuleuven.be',\n",
    "        'Host': 'www.sec.gov'\n",
    "    }\n",
    "\n",
    "    res = make_request(url, params=search_params, headers=headers, max_retries=10)\n",
    "\n",
    "    search = BeautifulSoup(res.content, 'html.parser')\n",
    "    \n",
    "    try:\n",
    "        search_df = pd.read_html(str(search.table))[0]\n",
    "        search_df['SIC'] = search_params['SIC']\n",
    "        return search_df\n",
    "    except:\n",
    "        return None"
   ]
  },
  {
   "cell_type": "code",
   "execution_count": null,
   "id": "1d47e1ce",
   "metadata": {},
   "outputs": [],
   "source": [
    "# Retreive list of all SIC codes from www.sec.gov\n",
    "\n",
    "# SIC_list = pd.read_html('https://www.sec.gov/corpfin/division-of-corporation-finance-standard-industrial-classification-sic-code-list')[0]\n",
    "# SIC_list.set_index('SIC Code', inplace=True)\n",
    "# SIC_list.to_excel('SIC_list.xlsx')"
   ]
  },
  {
   "cell_type": "code",
   "execution_count": null,
   "id": "fa34e6a0",
   "metadata": {},
   "outputs": [],
   "source": [
    "SIC_list = pd.read_excel('SIC_list.xlsx', index_col=0)\n",
    "SIC_list.head()"
   ]
  },
  {
   "cell_type": "code",
   "execution_count": null,
   "id": "cab6f647",
   "metadata": {},
   "outputs": [],
   "source": [
    "all_companies = pd.DataFrame()\n",
    "\n",
    "for i, sic in enumerate(SIC_list.index):\n",
    "    start_cnt = 0\n",
    "    search_params = {\n",
    "        'action': 'getcompany',\n",
    "        'SIC': sic,\n",
    "        'start': start_cnt,\n",
    "        'count': 100,\n",
    "        'owner': 'include'\n",
    "    }\n",
    "    com = SIC_search(search_params)\n",
    "\n",
    "    while com is not None:\n",
    "        com['Industry'] = SIC_list.loc[sic, 'Office']\n",
    "        all_companies = pd.concat([all_companies, com])\n",
    "        start_cnt += 100\n",
    "        search_params = {\n",
    "            'action': 'getcompany',\n",
    "            'SIC': sic,\n",
    "            'start': start_cnt,\n",
    "            'count': 100,\n",
    "            'owner': 'include'\n",
    "        }\n",
    "        com = SIC_search(search_params)\n",
    "\n",
    "    if i%50 == 0:\n",
    "        print(f\"{i} SICs added\")\n",
    "        all_companies.to_csv('all_companies.csv', index=False)\n",
    "    time.sleep(1)\n",
    "    \n",
    "all_companies.to_excel('all_companies.xlsx', index=False)"
   ]
  },
  {
   "cell_type": "markdown",
   "id": "db23295d",
   "metadata": {},
   "source": [
    "# Get list of filings per company"
   ]
  },
  {
   "cell_type": "code",
   "execution_count": null,
   "id": "71cba731",
   "metadata": {},
   "outputs": [],
   "source": [
    "all_companies = pd.read_excel('all_companies.xlsx', index_col=0)\n",
    "all_companies.sample(5)"
   ]
  },
  {
   "cell_type": "code",
   "execution_count": null,
   "id": "129fc8bd",
   "metadata": {},
   "outputs": [],
   "source": [
    "CIK = 320193\n",
    "headers = {\n",
    "    'User-Agent': 'kuleuven amin.tavakkolnia@kuleuven.be'\n",
    "}\n",
    "res = make_request(f\"https://data.sec.gov/submissions/CIK{CIK:010d}.json\", headers=headers)\n",
    "recent_files = res.json()['filings']['recent']\n",
    "\n",
    "if 'files' in res.json()['filings'].keys():\n",
    "    add_files_name = res.json()['filings']['files'][0]['name']\n",
    "    add_files = make_request(f\"https://data.sec.gov/submissions/{add_files_name}\", headers=headers).json()\n",
    "    \n",
    "recent_files_df = pd.DataFrame(recent_files)\n",
    "add_files_df = pd.DataFrame(add_files)\n",
    "\n",
    "filings_df = pd.concat([recent_files_df, add_files_df])\n",
    "\n",
    "filings_df['accessionNumber'] = filings_df['accessionNumber'].str.replace('-', '')\n",
    "filings_df[filings_df['form']=='10-K']"
   ]
  },
  {
   "cell_type": "code",
   "execution_count": null,
   "id": "dbce6870",
   "metadata": {},
   "outputs": [],
   "source": [
    "def get_filings(CIK):\n",
    "    headers = {\n",
    "    'User-Agent': 'kuleuven amin.tavakkolnia@kuleuven.be'\n",
    "    }\n",
    "    res = make_request(f\"https://data.sec.gov/submissions/CIK{CIK:010d}.json\", headers=headers)\n",
    "    filings = res.json()['filings']\n",
    "    recent_files = filings['recent']\n",
    "    temp = pd.DataFrame(recent_files)\n",
    "    \n",
    "    if filings.get('files'):\n",
    "        add_files_name = filings['files'][0]['name']\n",
    "        add_files = make_request(f\"https://data.sec.gov/submissions/{add_files_name}\", headers=headers).json()\n",
    "        add_files_df = pd.DataFrame(add_files)\n",
    "\n",
    "        temp = pd.concat([temp, add_files_df])\n",
    "\n",
    "    temp[\"CIK\"] = CIK\n",
    "    \n",
    "    return temp"
   ]
  },
  {
   "cell_type": "code",
   "execution_count": null,
   "id": "5266148d",
   "metadata": {},
   "outputs": [],
   "source": [
    "if __name__ == '__main__':\n",
    "    with Pool(processes=12) as p:\n",
    "        output = list(tqdm(p.imap(get_filings, all_companies.index[:10000]), total=len(all_companies.index)))\n",
    "    p.join()\n",
    "    \n",
    "    filings_df = pd.concat([df for df in output])"
   ]
  },
  {
   "cell_type": "code",
   "execution_count": null,
   "id": "8016b6cb",
   "metadata": {},
   "outputs": [],
   "source": [
    "# filings_df.drop(columns=[\"filmNumber\", \"act\", \"form\", \"items\", \"size\", \"isXBRL\", \n",
    "#                         \"isInlineXBRL\", \"primaryDocument\", \"primaryDocDescription\"], inplace=True)\n",
    "# filings_df['accessionNumber'] = filings_df['accessionNumber'].str.replace('-', '')"
   ]
  },
  {
   "cell_type": "markdown",
   "id": "81f2926a",
   "metadata": {},
   "source": [
    "https://www.sec.gov/Archives/edgar/data/1632053/000107997419000277/apotheca10k_1312019.htm"
   ]
  },
  {
   "cell_type": "code",
   "execution_count": null,
   "id": "5469f191",
   "metadata": {},
   "outputs": [],
   "source": [
    "accessionNumber = '000110465906084288'\n",
    "doc_name = 'a06-25759_210k.htm'\n",
    "url = \"https://www.sec.gov/Archives/edgar/data/\" + str(CIK) + \"/\" + accessionNumber + \"/\" + doc_name\n",
    "\n",
    "report = make_request(url, max_retries=10)\n",
    "\n",
    "html = BeautifulSoup(report.content, 'html.parser')\n",
    "\n",
    "print(url)"
   ]
  },
  {
   "cell_type": "code",
   "execution_count": null,
   "id": "8f405097",
   "metadata": {},
   "outputs": [],
   "source": [
    "# regex to get \"Item 1A\"\n",
    "\n",
    "# item = 'Item 1A risk factors'.lower()\n",
    "# pattern = \"(item[\\-_\\s]?1a)?[\\s\\-_:]*(risk factor[s])?\"\n",
    "\n",
    "# re.fullmatch(pattern=pattern, string=item)\n",
    "\n",
    "# def find_risks(tag):\n",
    "#     pattern = \"(item[\\-_\\s]?1a[\\.]?)[\\s\\-_:]*(risk factor[s]?)\"\n",
    "#     if re.fullmatch(pattern=pattern, string=str(tag.string).lower()):\n",
    "#         return True\n",
    "#     else:\n",
    "#         return False\n",
    "    \n",
    "# tags = html.find_all(find_risks)"
   ]
  },
  {
   "cell_type": "markdown",
   "id": "bc1bb5b6",
   "metadata": {},
   "source": [
    "# SEC API"
   ]
  },
  {
   "cell_type": "code",
   "execution_count": null,
   "id": "49ee2418",
   "metadata": {},
   "outputs": [],
   "source": [
    "from sec_api import QueryApi\n",
    "\n",
    "queryApi = QueryApi(api_key=\"5d6c2684759d3f17c599fb26a023edb256b25f67ac81a97c85ed69bb71760227\")\n",
    "\n",
    "query = {\n",
    "  \"query\": { \"query_string\": { \n",
    "      \"query\": \"cik:1318605 AND filedAt:{2019-01-01 TO 2021-12-31} AND formType:\\\"10-K\\\"\" \n",
    "    } },\n",
    "  \"from\": \"0\",\n",
    "  \"size\": \"10\",\n",
    "  \"sort\": [{ \"filedAt\": { \"order\": \"desc\" } }]\n",
    "}\n",
    "\n",
    "filings = queryApi.get_filings(query)\n",
    "\n",
    "filings"
   ]
  },
  {
   "cell_type": "code",
   "execution_count": null,
   "id": "13a8a4f6",
   "metadata": {},
   "outputs": [],
   "source": [
    "from sec_api import ExtractorApi\n",
    "\n",
    "extractorApi = ExtractorApi(\"355b10a7c3b55716e8d0ec69c6b24c724d99b050369b066d94fe94dce289b65e\")"
   ]
  },
  {
   "cell_type": "code",
   "execution_count": null,
   "id": "2915024c",
   "metadata": {},
   "outputs": [],
   "source": [
    "filing_url = \"https://www.sec.gov/Archives/edgar/data/1318605/000156459021004599/tsla-10k_20201231.htm\"\n",
    "\n",
    "# get the standardized and cleaned text of section 1A \"Risk Factors\"\n",
    "section_text = extractorApi.get_section(filing_url, \"1A\", \"html\")\n",
    "\n",
    "print(section_text)"
   ]
  },
  {
   "cell_type": "code",
   "execution_count": null,
   "id": "c82067d2",
   "metadata": {},
   "outputs": [],
   "source": [
    "section_text"
   ]
  },
  {
   "cell_type": "code",
   "execution_count": null,
   "id": "990961bf",
   "metadata": {},
   "outputs": [],
   "source": [
    "filing_url = \"https://www.sec.gov/Archives/edgar/data/1750/000104746914006243/a2220733z10-k.htm\"\n",
    "\n",
    "section_text = extractorApi.get_section(filing_url, \"1A\", \"text\")\n",
    "\n",
    "print(section_text)"
   ]
  },
  {
   "cell_type": "markdown",
   "id": "f878b544",
   "metadata": {},
   "source": [
    "# EIKON"
   ]
  },
  {
   "cell_type": "code",
   "execution_count": 1,
   "id": "f2caa5b6",
   "metadata": {},
   "outputs": [],
   "source": [
    "import numpy as np\n",
    "import pandas as pd\n",
    "from dateutil.relativedelta import relativedelta\n",
    "from tqdm.auto import tqdm\n",
    "import time\n",
    "\n",
    "import eikon as ek\n",
    "# import refinitiv.data.eikon as ek\n",
    "ek.set_app_key('9f63922b6e2f465393b927960fd87954bc4a73d8')"
   ]
  },
  {
   "attachments": {},
   "cell_type": "markdown",
   "id": "be1bd28a",
   "metadata": {},
   "source": [
    "### Submissions"
   ]
  },
  {
   "cell_type": "code",
   "execution_count": null,
   "id": "dd754e6b",
   "metadata": {},
   "outputs": [],
   "source": [
    "# Get all submissions\n",
    "submissions = glob.glob(\"Data\\submissions\\*\")\n",
    "\n",
    "firm_info = []\n",
    "for file in tqdm(submissions):\n",
    "    with open(file, 'rb') as f:\n",
    "        content = json.load(f)\n",
    "        try:\n",
    "            firm_info.append(\n",
    "                (content[\"cik\"], content[\"entityType\"],\n",
    "                content[\"sic\"], content[\"sicDescription\"], \n",
    "                content[\"name\"], content[\"tickers\"], \n",
    "                content[\"exchanges\"], content[\"category\"])\n",
    "            )\n",
    "        except:\n",
    "            continue\n",
    "\n",
    "firm_info_df = pd.DataFrame(\n",
    "    firm_info, \n",
    "    columns=[\"CIK\", \"entityType\", \"SIC\", \"sicDescription\", \"name\", \"tickers\", \"exchanges\", \"category\"]\n",
    ")\n",
    "\n",
    "firm_info_df.to_csv(\"firm_info.csv\", index=False)"
   ]
  },
  {
   "cell_type": "code",
   "execution_count": null,
   "id": "a0e97f14",
   "metadata": {},
   "outputs": [],
   "source": [
    "firm_info_df = pd.read_csv(\"firm_info.csv\")\n",
    "firm_info_df[\"CIK\"] = firm_info_df[\"CIK\"].astype(int)\n",
    "\n",
    "tickers = (\n",
    "    firm_info_df.set_index([\"CIK\", \"SIC\"])['tickers']\n",
    "    .str.strip('[]').str.replace(\"'\", \"\")\n",
    "    .replace(r'^\\s*$', np.nan, regex=True)\n",
    "    .str.split(\",\").dropna()\n",
    "    .explode()\n",
    ").reset_index()\n",
    "\n",
    "\"\"\"\n",
    "tik_txt = '\\n'.join(tickers.str.replace(\"\\s*'*[*]*\", \"\"))\n",
    "\n",
    "with open('tickers.txt', \"w\") as f:\n",
    "    f.write(tik_txt)\n",
    "\"\"\"\n",
    "\n",
    "tickers"
   ]
  },
  {
   "cell_type": "code",
   "execution_count": 2,
   "id": "3c529c9e",
   "metadata": {},
   "outputs": [],
   "source": [
    "all_files = pd.read_csv(\"Data/all_files.csv\")\n",
    "CIKs = \"\\n\".join(all_files.CIK.astype(str).unique().tolist())\n",
    "with open('CIK.txt', \"w\") as f:\n",
    "    f.write(CIKs)"
   ]
  },
  {
   "attachments": {},
   "cell_type": "markdown",
   "id": "c3f99148",
   "metadata": {},
   "source": [
    "### Get data"
   ]
  },
  {
   "cell_type": "code",
   "execution_count": 2,
   "id": "a52aead4",
   "metadata": {},
   "outputs": [
    {
     "name": "stderr",
     "output_type": "stream",
     "text": [
      "c:\\Users\\u0147656\\Anaconda3\\envs\\ETM_env\\lib\\site-packages\\numpy\\lib\\arraysetops.py:580: FutureWarning: elementwise comparison failed; returning scalar instead, but in the future will perform elementwise comparison\n",
      "  mask |= (ar1 == a)\n"
     ]
    },
    {
     "data": {
      "text/html": [
       "<div>\n",
       "<style scoped>\n",
       "    .dataframe tbody tr th:only-of-type {\n",
       "        vertical-align: middle;\n",
       "    }\n",
       "\n",
       "    .dataframe tbody tr th {\n",
       "        vertical-align: top;\n",
       "    }\n",
       "\n",
       "    .dataframe thead th {\n",
       "        text-align: right;\n",
       "    }\n",
       "</style>\n",
       "<table border=\"1\" class=\"dataframe\">\n",
       "  <thead>\n",
       "    <tr style=\"text-align: right;\">\n",
       "      <th></th>\n",
       "      <th>CIK</th>\n",
       "      <th>report_dt</th>\n",
       "      <th>filing_dt</th>\n",
       "      <th>cleaned_txt</th>\n",
       "      <th>category</th>\n",
       "      <th>SIC</th>\n",
       "      <th>Industry</th>\n",
       "    </tr>\n",
       "    <tr>\n",
       "      <th>rf_seq</th>\n",
       "      <th></th>\n",
       "      <th></th>\n",
       "      <th></th>\n",
       "      <th></th>\n",
       "      <th></th>\n",
       "      <th></th>\n",
       "      <th></th>\n",
       "    </tr>\n",
       "  </thead>\n",
       "  <tbody>\n",
       "    <tr>\n",
       "      <th>0</th>\n",
       "      <td>20</td>\n",
       "      <td>2006-12-30</td>\n",
       "      <td>2007-03-09</td>\n",
       "      <td>business operation subject number risk uncerta...</td>\n",
       "      <td>NaN</td>\n",
       "      <td>3823</td>\n",
       "      <td>Office of Life Sciences</td>\n",
       "    </tr>\n",
       "    <tr>\n",
       "      <th>1</th>\n",
       "      <td>20</td>\n",
       "      <td>2006-12-30</td>\n",
       "      <td>2007-03-09</td>\n",
       "      <td>competition adversely affect business result o...</td>\n",
       "      <td>NaN</td>\n",
       "      <td>3823</td>\n",
       "      <td>Office of Life Sciences</td>\n",
       "    </tr>\n",
       "    <tr>\n",
       "      <th>2</th>\n",
       "      <td>20</td>\n",
       "      <td>2006-12-30</td>\n",
       "      <td>2007-03-09</td>\n",
       "      <td>substantial sale abroad subject risk adverse f...</td>\n",
       "      <td>NaN</td>\n",
       "      <td>3823</td>\n",
       "      <td>Office of Life Sciences</td>\n",
       "    </tr>\n",
       "    <tr>\n",
       "      <th>3</th>\n",
       "      <td>20</td>\n",
       "      <td>2006-12-30</td>\n",
       "      <td>2007-03-09</td>\n",
       "      <td>operate cyclical industry industrial capital g...</td>\n",
       "      <td>NaN</td>\n",
       "      <td>3823</td>\n",
       "      <td>Office of Life Sciences</td>\n",
       "    </tr>\n",
       "    <tr>\n",
       "      <th>4</th>\n",
       "      <td>20</td>\n",
       "      <td>2006-12-30</td>\n",
       "      <td>2007-03-09</td>\n",
       "      <td>loss large customer adverse effect operating r...</td>\n",
       "      <td>NaN</td>\n",
       "      <td>3823</td>\n",
       "      <td>Office of Life Sciences</td>\n",
       "    </tr>\n",
       "  </tbody>\n",
       "</table>\n",
       "</div>"
      ],
      "text/plain": [
       "        CIK   report_dt   filing_dt  \\\n",
       "rf_seq                                \n",
       "0        20  2006-12-30  2007-03-09   \n",
       "1        20  2006-12-30  2007-03-09   \n",
       "2        20  2006-12-30  2007-03-09   \n",
       "3        20  2006-12-30  2007-03-09   \n",
       "4        20  2006-12-30  2007-03-09   \n",
       "\n",
       "                                              cleaned_txt category   SIC  \\\n",
       "rf_seq                                                                     \n",
       "0       business operation subject number risk uncerta...      NaN  3823   \n",
       "1       competition adversely affect business result o...      NaN  3823   \n",
       "2       substantial sale abroad subject risk adverse f...      NaN  3823   \n",
       "3       operate cyclical industry industrial capital g...      NaN  3823   \n",
       "4       loss large customer adverse effect operating r...      NaN  3823   \n",
       "\n",
       "                       Industry  \n",
       "rf_seq                           \n",
       "0       Office of Life Sciences  \n",
       "1       Office of Life Sciences  \n",
       "2       Office of Life Sciences  \n",
       "3       Office of Life Sciences  \n",
       "4       Office of Life Sciences  "
      ]
     },
     "execution_count": 2,
     "metadata": {},
     "output_type": "execute_result"
    }
   ],
   "source": [
    "filings_df = pd.read_csv(\"Data\\clean_docs_3.csv\", index_col=0)\n",
    "filings_df.head()"
   ]
  },
  {
   "cell_type": "code",
   "execution_count": 3,
   "id": "0c39f2f9",
   "metadata": {},
   "outputs": [
    {
     "data": {
      "text/html": [
       "<div>\n",
       "<style scoped>\n",
       "    .dataframe tbody tr th:only-of-type {\n",
       "        vertical-align: middle;\n",
       "    }\n",
       "\n",
       "    .dataframe tbody tr th {\n",
       "        vertical-align: top;\n",
       "    }\n",
       "\n",
       "    .dataframe thead th {\n",
       "        text-align: right;\n",
       "    }\n",
       "</style>\n",
       "<table border=\"1\" class=\"dataframe\">\n",
       "  <thead>\n",
       "    <tr style=\"text-align: right;\">\n",
       "      <th></th>\n",
       "      <th>CIK</th>\n",
       "      <th>min</th>\n",
       "      <th>max</th>\n",
       "    </tr>\n",
       "  </thead>\n",
       "  <tbody>\n",
       "    <tr>\n",
       "      <th>0</th>\n",
       "      <td>20</td>\n",
       "      <td>2007-03-09</td>\n",
       "      <td>2010-03-15</td>\n",
       "    </tr>\n",
       "    <tr>\n",
       "      <th>1</th>\n",
       "      <td>1750</td>\n",
       "      <td>2006-07-17</td>\n",
       "      <td>2021-07-21</td>\n",
       "    </tr>\n",
       "    <tr>\n",
       "      <th>2</th>\n",
       "      <td>1800</td>\n",
       "      <td>2007-02-23</td>\n",
       "      <td>2021-02-19</td>\n",
       "    </tr>\n",
       "    <tr>\n",
       "      <th>3</th>\n",
       "      <td>1961</td>\n",
       "      <td>2009-10-07</td>\n",
       "      <td>2021-03-16</td>\n",
       "    </tr>\n",
       "    <tr>\n",
       "      <th>4</th>\n",
       "      <td>2034</td>\n",
       "      <td>2006-09-12</td>\n",
       "      <td>2018-09-28</td>\n",
       "    </tr>\n",
       "  </tbody>\n",
       "</table>\n",
       "</div>"
      ],
      "text/plain": [
       "    CIK         min         max\n",
       "0    20  2007-03-09  2010-03-15\n",
       "1  1750  2006-07-17  2021-07-21\n",
       "2  1800  2007-02-23  2021-02-19\n",
       "3  1961  2009-10-07  2021-03-16\n",
       "4  2034  2006-09-12  2018-09-28"
      ]
     },
     "execution_count": 3,
     "metadata": {},
     "output_type": "execute_result"
    }
   ],
   "source": [
    "obs_df = filings_df[[\"CIK\", \"filing_dt\"]].groupby(\"CIK\")['filing_dt'].agg([\"min\", 'max']).reset_index()\n",
    "obs_df.head()"
   ]
  },
  {
   "cell_type": "code",
   "execution_count": 4,
   "id": "50e5b153",
   "metadata": {},
   "outputs": [],
   "source": [
    "obs_df[\"SDate\"] = (\n",
    "    obs_df[\"min\"].astype(\"datetime64\").dt.date \n",
    "    - relativedelta(months=6)\n",
    "    ).astype(str)\n",
    "\n",
    "obs_df[\"EDate\"] = (\n",
    "    obs_df[\"max\"].astype(\"datetime64\").dt.date \n",
    "    + relativedelta(months=6)\n",
    "    ).astype(str)\n",
    "    \n",
    "obs_df[\"CIK\"] = obs_df[\"CIK\"].apply(lambda cik: f\"{cik:010d}\")\n",
    "\n",
    "obs = obs_df.to_records()"
   ]
  },
  {
   "attachments": {},
   "cell_type": "markdown",
   "id": "fca48da5",
   "metadata": {},
   "source": [
    "### Prices"
   ]
  },
  {
   "cell_type": "code",
   "execution_count": null,
   "id": "60f7a918",
   "metadata": {},
   "outputs": [],
   "source": [
    "data = pd.DataFrame()\n",
    "\n",
    "for o in tqdm(obs):\n",
    "    SDate = o[\"SDate\"]\n",
    "    EDate = o[\"EDate\"]\n",
    "\n",
    "    while True:\n",
    "        try:\n",
    "            df, err = ek.get_data(\n",
    "                instruments=o[\"CIK\"], \n",
    "                fields = [\n",
    "                    'TR.CLOSEPRICE(Adjusted=1)',\n",
    "                    'TR.CLOSEPRICE.date',\n",
    "                    'TR.OPENPRICE(Adjusted=1)',\n",
    "                    'TR.OPENPRICE.date',\n",
    "                    'TR.PRICECLOSE',\n",
    "                    'TR.PRICECLOSEDATE', \n",
    "                    'TR.Volume',\n",
    "                    'TR.Volume.date',\n",
    "                    'TR.CompanyMarketCap(Scale=6)',\n",
    "                    'TR.CompanyMarketCap(Scale=6).date',\n",
    "                    'TR.TtlCmnSharesOut(Period=FQ0)',\n",
    "                    'TR.TtlCmnSharesOut(Period=FQ0).date'\n",
    "                ], \n",
    "                parameters={'SDate': SDate, 'EDate': EDate},\n",
    "                field_name=True\n",
    "            )\n",
    "            if not err:\n",
    "                data = pd.concat([data, df])\n",
    "            break\n",
    "        except:\n",
    "            time.sleep(20)\n",
    "            continue"
   ]
  },
  {
   "cell_type": "code",
   "execution_count": 7,
   "id": "157dd66b",
   "metadata": {},
   "outputs": [],
   "source": [
    "data.to_csv(\"Data\\EIKON_prices.csv\", index=False)"
   ]
  },
  {
   "attachments": {},
   "cell_type": "markdown",
   "id": "4110fed6",
   "metadata": {},
   "source": [
    "### Bid-Ask"
   ]
  },
  {
   "cell_type": "code",
   "execution_count": null,
   "id": "4d1dd252",
   "metadata": {},
   "outputs": [],
   "source": [
    "data = pd.DataFrame()\n",
    "\n",
    "for o in tqdm(obs):\n",
    "    SDate = o[\"SDate\"]\n",
    "    EDate = o[\"EDate\"]\n",
    "\n",
    "    while True:\n",
    "        try:\n",
    "            df, err = ek.get_data(\n",
    "                instruments=o[\"CIK\"], \n",
    "                fields = [\n",
    "                    'TR.HIGHPRICE(Adjusted=1)',\n",
    "                    'TR.HIGHPRICE.date',\n",
    "                    'TR.LOWPRICE(Adjusted=1)',\n",
    "                    'TR.LOWPRICE.date',\n",
    "                    'TR.BIDPRICE(Adjusted=1)',\n",
    "                    'TR.BIDPRICE.date',\n",
    "                    'TR.ASKPRICE(Adjusted=1)',\n",
    "                    'TR.ASKPRICE.date'\n",
    "                ], \n",
    "                parameters={'SDate': SDate, 'EDate': EDate},\n",
    "                field_name=True\n",
    "            )\n",
    "            if not err:\n",
    "                data = pd.concat([data, df])\n",
    "            break\n",
    "        except:\n",
    "            time.sleep(20)\n",
    "            continue"
   ]
  },
  {
   "cell_type": "code",
   "execution_count": 6,
   "id": "4e5574a5",
   "metadata": {},
   "outputs": [],
   "source": [
    "data.to_csv(\"Data\\EIKON_bidask.csv\", index=False)"
   ]
  },
  {
   "attachments": {},
   "cell_type": "markdown",
   "id": "ee39d878",
   "metadata": {},
   "source": [
    "### Beta"
   ]
  },
  {
   "cell_type": "code",
   "execution_count": null,
   "id": "e43b1f80",
   "metadata": {},
   "outputs": [],
   "source": [
    "data = pd.DataFrame()\n",
    "\n",
    "for o in tqdm(obs):\n",
    "    SDate = o[\"SDate\"]\n",
    "    EDate = o[\"EDate\"]\n",
    "\n",
    "    while True:\n",
    "        try:\n",
    "            df, err = ek.get_data(\n",
    "                instruments=o[\"CIK\"], \n",
    "                fields = [\n",
    "                    'TR.WACCBeta',\n",
    "                    'TR.WACCBeta.date',\n",
    "                    'TR.BetaDaily180D',\n",
    "                    'TR.BetaDaily180D.date',\n",
    "                    'TR.BetaDaily90D',\n",
    "                    'TR.BetaDaily90D.date',\n",
    "                    'TR.WACC',\n",
    "                    'TR.WACC.date',\n",
    "                ], \n",
    "                parameters={'SDate': SDate, 'EDate': EDate},\n",
    "                field_name=True\n",
    "            )\n",
    "            if not err:\n",
    "                data = pd.concat([data, df])\n",
    "            break\n",
    "        except:\n",
    "            time.sleep(30)\n",
    "            continue"
   ]
  },
  {
   "cell_type": "code",
   "execution_count": 8,
   "id": "27067f80",
   "metadata": {},
   "outputs": [],
   "source": [
    "data.to_csv(\"Data\\EIKON_beta.csv\", index=False)"
   ]
  },
  {
   "cell_type": "code",
   "execution_count": null,
   "id": "96ebcc17",
   "metadata": {},
   "outputs": [],
   "source": [
    "help(ek.get_data)\n",
    "ek.get_symbology(\"MSFC\", from_symbol_type='ticker', to_symbol_type=['RIC', 'ISIN'])"
   ]
  },
  {
   "attachments": {},
   "cell_type": "markdown",
   "id": "e7fd3ade",
   "metadata": {},
   "source": [
    "### Clean Data"
   ]
  },
  {
   "cell_type": "code",
   "execution_count": 1,
   "id": "009098bc",
   "metadata": {},
   "outputs": [],
   "source": [
    "# Import liberaries and functions\n",
    "import pandas as pd\n",
    "import numpy as np\n",
    "import pickle\n",
    "import re"
   ]
  },
  {
   "cell_type": "code",
   "execution_count": 2,
   "id": "f7352fcb",
   "metadata": {},
   "outputs": [
    {
     "data": {
      "text/plain": [
       "Index(['Instrument', 'TR.CLOSEPRICE(ADJUSTED=1)', 'TR.CLOSEPRICE.DATE',\n",
       "       'TR.OPENPRICE(ADJUSTED=1)', 'TR.OPENPRICE.DATE', 'TR.PRICECLOSE',\n",
       "       'TR.PRICECLOSEDATE', 'TR.VOLUME', 'TR.VOLUME.DATE',\n",
       "       'TR.COMPANYMARKETCAP(SCALE=6)', 'TR.COMPANYMARKETCAP(SCALE=6).DATE',\n",
       "       'TR.TTLCMNSHARESOUT(PERIOD=FQ0)',\n",
       "       'TR.TTLCMNSHARESOUT(PERIOD=FQ0).DATE'],\n",
       "      dtype='object')"
      ]
     },
     "execution_count": 2,
     "metadata": {},
     "output_type": "execute_result"
    }
   ],
   "source": [
    "prices = pd.read_csv(\"Data\\EIKON_prices.csv\")\n",
    "prices.drop_duplicates(inplace=True)\n",
    "prices.columns"
   ]
  },
  {
   "cell_type": "code",
   "execution_count": 3,
   "id": "e151b201",
   "metadata": {},
   "outputs": [],
   "source": [
    "dates = prices.columns[2::2]\n",
    "values = prices.columns[1::2]\n",
    "\n",
    "dfs = [(\n",
    "    prices[['Instrument', a, b]]\n",
    "    .dropna(subset=[a])\n",
    "    .drop_duplicates()\n",
    "    .set_index(['Instrument', a])\n",
    ") for a, b in zip(dates, values)]\n",
    "\n",
    "# Handling duplicates for shares outstanding\n",
    "dfs[5] = dfs[5][\n",
    "    ~(dfs[5].index.duplicated(keep=False))&(dfs[5]['TR.TTLCMNSHARESOUT(PERIOD=FQ0)'].notna())\n",
    "]"
   ]
  },
  {
   "cell_type": "code",
   "execution_count": 4,
   "id": "66c87801",
   "metadata": {},
   "outputs": [],
   "source": [
    "prices_df = pd.concat(dfs, axis=1).reset_index()\n",
    "\n",
    "del prices"
   ]
  },
  {
   "cell_type": "code",
   "execution_count": 5,
   "id": "17c35fa3",
   "metadata": {},
   "outputs": [],
   "source": [
    "prices_df['Date'] = pd.to_datetime(prices_df[\"level_1\"]).dt.tz_localize(None)\n",
    "prices_df.drop(columns=['level_1'], inplace=True)\n",
    "\n",
    "prices_df.columns = [\n",
    "    'Instrument', 'CLOSEPRICE', 'OPENPRICE', 'PRICECLOSE', 'VOLUME', \n",
    "    'COMPANYMARKETCAP', 'TTLCMNSHARESOUT', 'Date'\n",
    "]"
   ]
  },
  {
   "cell_type": "code",
   "execution_count": 6,
   "id": "748eedeb",
   "metadata": {},
   "outputs": [],
   "source": [
    "# Replacing missing close prices with the open price of the same day\n",
    "prices_df[\"CLOSEPRICE\"].fillna(prices_df['PRICECLOSE'], inplace=True)\n",
    "prices_df[\"CLOSEPRICE\"].fillna(prices_df[\"OPENPRICE\"], inplace=True)\n",
    "\n",
    "prices_df.drop(columns=['OPENPRICE', 'PRICECLOSE'], inplace=True)"
   ]
  },
  {
   "cell_type": "code",
   "execution_count": 7,
   "id": "e262ca76",
   "metadata": {},
   "outputs": [],
   "source": [
    "# Replacing missing TTLCMNSHARESOUT with previouse values\n",
    "prices_df[\"TTLCMNSHARESOUT\"] = prices_df.groupby([\"Instrument\"])[\"TTLCMNSHARESOUT\"].fillna(method='ffill')\n",
    "prices_df[\"TTLCMNSHARESOUT\"] = prices_df.groupby([\"Instrument\"])[\"TTLCMNSHARESOUT\"].fillna(method='bfill')\n",
    "\n",
    "prices_df[\"VOLUME\"].fillna(0, inplace=True)"
   ]
  },
  {
   "cell_type": "code",
   "execution_count": 8,
   "id": "6c58a3a5",
   "metadata": {},
   "outputs": [
    {
     "data": {
      "text/plain": [
       "Instrument                0\n",
       "CLOSEPRICE          1750775\n",
       "VOLUME                    0\n",
       "COMPANYMARKETCAP     670776\n",
       "TTLCMNSHARESOUT      133828\n",
       "Date                      0\n",
       "dtype: int64"
      ]
     },
     "execution_count": 8,
     "metadata": {},
     "output_type": "execute_result"
    }
   ],
   "source": [
    "prices_df.isna().sum()"
   ]
  },
  {
   "cell_type": "code",
   "execution_count": 20,
   "id": "ad34a70d",
   "metadata": {},
   "outputs": [],
   "source": [
    "prices_df.to_csv(\"Data\\Prices.csv\", index=False)"
   ]
  },
  {
   "cell_type": "code",
   "execution_count": 10,
   "id": "6f72f367",
   "metadata": {},
   "outputs": [
    {
     "data": {
      "text/plain": [
       "Index(['Instrument', 'TR.HIGHPRICE(ADJUSTED=1)', 'TR.HIGHPRICE.DATE',\n",
       "       'TR.LOWPRICE(ADJUSTED=1)', 'TR.LOWPRICE.DATE',\n",
       "       'TR.BIDPRICE(ADJUSTED=1)', 'TR.BIDPRICE.DATE',\n",
       "       'TR.ASKPRICE(ADJUSTED=1)', 'TR.ASKPRICE.DATE'],\n",
       "      dtype='object')"
      ]
     },
     "execution_count": 10,
     "metadata": {},
     "output_type": "execute_result"
    }
   ],
   "source": [
    "BidAsk = pd.read_csv(\"Data\\EIKON_bidask.csv\").drop_duplicates()\n",
    "BidAsk.drop_duplicates(inplace=True)\n",
    "BidAsk.columns"
   ]
  },
  {
   "cell_type": "code",
   "execution_count": 11,
   "id": "d30cdecc",
   "metadata": {},
   "outputs": [],
   "source": [
    "dates = BidAsk.columns[2::2]\n",
    "values = BidAsk.columns[1::2]\n",
    "\n",
    "dfs = [(\n",
    "    BidAsk[['Instrument', a, b]]\n",
    "    .dropna(subset=[a])\n",
    "    .drop_duplicates()\n",
    "    .set_index(['Instrument', a])\n",
    ") for a, b in zip(dates, values)]"
   ]
  },
  {
   "cell_type": "code",
   "execution_count": 12,
   "id": "44346534",
   "metadata": {},
   "outputs": [],
   "source": [
    "BidAsk_df = pd.concat(dfs, axis=1).reset_index()\n",
    "\n",
    "del BidAsk"
   ]
  },
  {
   "cell_type": "code",
   "execution_count": 15,
   "id": "791e5f23",
   "metadata": {},
   "outputs": [],
   "source": [
    "BidAsk_df['Date'] = pd.to_datetime(BidAsk_df[\"level_1\"]).dt.tz_localize(None)\n",
    "BidAsk_df.drop(columns=['level_1'], inplace=True)\n",
    "\n",
    "BidAsk_df.columns = [\n",
    "    'Instrument', 'HIGHPRICE', 'LOWPRICE', 'BIDPRICE', 'ASKPRICE', 'Date'\n",
    "]"
   ]
  },
  {
   "cell_type": "code",
   "execution_count": 18,
   "id": "6cf59070",
   "metadata": {},
   "outputs": [],
   "source": [
    "# Replace missing values\n",
    "BidAsk_df[\"BIDPRICE\"].fillna(BidAsk_df[\"LOWPRICE\"], inplace=True)\n",
    "BidAsk_df[\"ASKPRICE\"].fillna(BidAsk_df[\"HIGHPRICE\"], inplace=True)"
   ]
  },
  {
   "cell_type": "code",
   "execution_count": 21,
   "id": "3de6a6e4",
   "metadata": {},
   "outputs": [],
   "source": [
    "BidAsk_df.to_csv(\"Data\\BidAsk.csv\", index=False)"
   ]
  },
  {
   "cell_type": "code",
   "execution_count": null,
   "id": "34f3ddce",
   "metadata": {},
   "outputs": [],
   "source": []
  }
 ],
 "metadata": {
  "kernelspec": {
   "display_name": "Python 3.7.13 ('ETM_env')",
   "language": "python",
   "name": "python3"
  },
  "language_info": {
   "codemirror_mode": {
    "name": "ipython",
    "version": 3
   },
   "file_extension": ".py",
   "mimetype": "text/x-python",
   "name": "python",
   "nbconvert_exporter": "python",
   "pygments_lexer": "ipython3",
   "version": "3.7.13"
  },
  "vscode": {
   "interpreter": {
    "hash": "2e814d5f901f2e2f1812217256e7a2386c6b3dac449e52472436b21a420d1617"
   }
  }
 },
 "nbformat": 4,
 "nbformat_minor": 5
}
